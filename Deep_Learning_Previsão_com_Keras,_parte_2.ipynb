{
  "nbformat": 4,
  "nbformat_minor": 0,
  "metadata": {
    "colab": {
      "name": "Deep Learning - Previsão com Keras, parte 2.ipynb",
      "provenance": [],
      "authorship_tag": "ABX9TyM1tdUl1LRb5VQ44O+xHcIN",
      "include_colab_link": true
    },
    "kernelspec": {
      "name": "python3",
      "display_name": "Python 3"
    },
    "language_info": {
      "name": "python"
    }
  },
  "cells": [
    {
      "cell_type": "markdown",
      "metadata": {
        "id": "view-in-github",
        "colab_type": "text"
      },
      "source": [
        "<a href=\"https://colab.research.google.com/github/BrunoLoducca/Machine-Learning---Dados-com-Altas-Dimens-es/blob/main/Deep_Learning_Previs%C3%A3o_com_Keras%2C_parte_2.ipynb\" target=\"_parent\"><img src=\"https://colab.research.google.com/assets/colab-badge.svg\" alt=\"Open In Colab\"/></a>"
      ]
    },
    {
      "cell_type": "code",
      "execution_count": 4,
      "metadata": {
        "colab": {
          "base_uri": "https://localhost:8080/",
          "height": 206
        },
        "id": "B1IDld7eynMR",
        "outputId": "4bc13689-32eb-4e2d-b9d2-2be1940fbbf9"
      },
      "outputs": [
        {
          "output_type": "execute_result",
          "data": {
            "text/html": [
              "\n",
              "  <div id=\"df-bdcc1f45-68e0-401f-b0a0-0cfc52518337\">\n",
              "    <div class=\"colab-df-container\">\n",
              "      <div>\n",
              "<style scoped>\n",
              "    .dataframe tbody tr th:only-of-type {\n",
              "        vertical-align: middle;\n",
              "    }\n",
              "\n",
              "    .dataframe tbody tr th {\n",
              "        vertical-align: top;\n",
              "    }\n",
              "\n",
              "    .dataframe thead th {\n",
              "        text-align: right;\n",
              "    }\n",
              "</style>\n",
              "<table border=\"1\" class=\"dataframe\">\n",
              "  <thead>\n",
              "    <tr style=\"text-align: right;\">\n",
              "      <th></th>\n",
              "      <th>datas</th>\n",
              "      <th>contagem</th>\n",
              "      <th>temperatura</th>\n",
              "      <th>sensacao</th>\n",
              "      <th>umidade</th>\n",
              "      <th>vel_vento</th>\n",
              "      <th>clima</th>\n",
              "      <th>feriado</th>\n",
              "      <th>final_ds</th>\n",
              "      <th>estacao</th>\n",
              "    </tr>\n",
              "  </thead>\n",
              "  <tbody>\n",
              "    <tr>\n",
              "      <th>0</th>\n",
              "      <td>2015-01-04 00:00:00</td>\n",
              "      <td>182</td>\n",
              "      <td>3.0</td>\n",
              "      <td>2.0</td>\n",
              "      <td>93.0</td>\n",
              "      <td>6.0</td>\n",
              "      <td>3.0</td>\n",
              "      <td>0.0</td>\n",
              "      <td>1.0</td>\n",
              "      <td>3.0</td>\n",
              "    </tr>\n",
              "    <tr>\n",
              "      <th>1</th>\n",
              "      <td>2015-01-04 01:00:00</td>\n",
              "      <td>138</td>\n",
              "      <td>3.0</td>\n",
              "      <td>2.5</td>\n",
              "      <td>93.0</td>\n",
              "      <td>5.0</td>\n",
              "      <td>1.0</td>\n",
              "      <td>0.0</td>\n",
              "      <td>1.0</td>\n",
              "      <td>3.0</td>\n",
              "    </tr>\n",
              "    <tr>\n",
              "      <th>2</th>\n",
              "      <td>2015-01-04 02:00:00</td>\n",
              "      <td>134</td>\n",
              "      <td>2.5</td>\n",
              "      <td>2.5</td>\n",
              "      <td>96.5</td>\n",
              "      <td>0.0</td>\n",
              "      <td>1.0</td>\n",
              "      <td>0.0</td>\n",
              "      <td>1.0</td>\n",
              "      <td>3.0</td>\n",
              "    </tr>\n",
              "    <tr>\n",
              "      <th>3</th>\n",
              "      <td>2015-01-04 03:00:00</td>\n",
              "      <td>72</td>\n",
              "      <td>2.0</td>\n",
              "      <td>2.0</td>\n",
              "      <td>100.0</td>\n",
              "      <td>0.0</td>\n",
              "      <td>1.0</td>\n",
              "      <td>0.0</td>\n",
              "      <td>1.0</td>\n",
              "      <td>3.0</td>\n",
              "    </tr>\n",
              "    <tr>\n",
              "      <th>4</th>\n",
              "      <td>2015-01-04 04:00:00</td>\n",
              "      <td>47</td>\n",
              "      <td>2.0</td>\n",
              "      <td>0.0</td>\n",
              "      <td>93.0</td>\n",
              "      <td>6.5</td>\n",
              "      <td>1.0</td>\n",
              "      <td>0.0</td>\n",
              "      <td>1.0</td>\n",
              "      <td>3.0</td>\n",
              "    </tr>\n",
              "  </tbody>\n",
              "</table>\n",
              "</div>\n",
              "      <button class=\"colab-df-convert\" onclick=\"convertToInteractive('df-bdcc1f45-68e0-401f-b0a0-0cfc52518337')\"\n",
              "              title=\"Convert this dataframe to an interactive table.\"\n",
              "              style=\"display:none;\">\n",
              "        \n",
              "  <svg xmlns=\"http://www.w3.org/2000/svg\" height=\"24px\"viewBox=\"0 0 24 24\"\n",
              "       width=\"24px\">\n",
              "    <path d=\"M0 0h24v24H0V0z\" fill=\"none\"/>\n",
              "    <path d=\"M18.56 5.44l.94 2.06.94-2.06 2.06-.94-2.06-.94-.94-2.06-.94 2.06-2.06.94zm-11 1L8.5 8.5l.94-2.06 2.06-.94-2.06-.94L8.5 2.5l-.94 2.06-2.06.94zm10 10l.94 2.06.94-2.06 2.06-.94-2.06-.94-.94-2.06-.94 2.06-2.06.94z\"/><path d=\"M17.41 7.96l-1.37-1.37c-.4-.4-.92-.59-1.43-.59-.52 0-1.04.2-1.43.59L10.3 9.45l-7.72 7.72c-.78.78-.78 2.05 0 2.83L4 21.41c.39.39.9.59 1.41.59.51 0 1.02-.2 1.41-.59l7.78-7.78 2.81-2.81c.8-.78.8-2.07 0-2.86zM5.41 20L4 18.59l7.72-7.72 1.47 1.35L5.41 20z\"/>\n",
              "  </svg>\n",
              "      </button>\n",
              "      \n",
              "  <style>\n",
              "    .colab-df-container {\n",
              "      display:flex;\n",
              "      flex-wrap:wrap;\n",
              "      gap: 12px;\n",
              "    }\n",
              "\n",
              "    .colab-df-convert {\n",
              "      background-color: #E8F0FE;\n",
              "      border: none;\n",
              "      border-radius: 50%;\n",
              "      cursor: pointer;\n",
              "      display: none;\n",
              "      fill: #1967D2;\n",
              "      height: 32px;\n",
              "      padding: 0 0 0 0;\n",
              "      width: 32px;\n",
              "    }\n",
              "\n",
              "    .colab-df-convert:hover {\n",
              "      background-color: #E2EBFA;\n",
              "      box-shadow: 0px 1px 2px rgba(60, 64, 67, 0.3), 0px 1px 3px 1px rgba(60, 64, 67, 0.15);\n",
              "      fill: #174EA6;\n",
              "    }\n",
              "\n",
              "    [theme=dark] .colab-df-convert {\n",
              "      background-color: #3B4455;\n",
              "      fill: #D2E3FC;\n",
              "    }\n",
              "\n",
              "    [theme=dark] .colab-df-convert:hover {\n",
              "      background-color: #434B5C;\n",
              "      box-shadow: 0px 1px 3px 1px rgba(0, 0, 0, 0.15);\n",
              "      filter: drop-shadow(0px 1px 2px rgba(0, 0, 0, 0.3));\n",
              "      fill: #FFFFFF;\n",
              "    }\n",
              "  </style>\n",
              "\n",
              "      <script>\n",
              "        const buttonEl =\n",
              "          document.querySelector('#df-bdcc1f45-68e0-401f-b0a0-0cfc52518337 button.colab-df-convert');\n",
              "        buttonEl.style.display =\n",
              "          google.colab.kernel.accessAllowed ? 'block' : 'none';\n",
              "\n",
              "        async function convertToInteractive(key) {\n",
              "          const element = document.querySelector('#df-bdcc1f45-68e0-401f-b0a0-0cfc52518337');\n",
              "          const dataTable =\n",
              "            await google.colab.kernel.invokeFunction('convertToInteractive',\n",
              "                                                     [key], {});\n",
              "          if (!dataTable) return;\n",
              "\n",
              "          const docLinkHtml = 'Like what you see? Visit the ' +\n",
              "            '<a target=\"_blank\" href=https://colab.research.google.com/notebooks/data_table.ipynb>data table notebook</a>'\n",
              "            + ' to learn more about interactive tables.';\n",
              "          element.innerHTML = '';\n",
              "          dataTable['output_type'] = 'display_data';\n",
              "          await google.colab.output.renderOutput(dataTable, element);\n",
              "          const docLink = document.createElement('div');\n",
              "          docLink.innerHTML = docLinkHtml;\n",
              "          element.appendChild(docLink);\n",
              "        }\n",
              "      </script>\n",
              "    </div>\n",
              "  </div>\n",
              "  "
            ],
            "text/plain": [
              "                 datas  contagem  temperatura  ...  feriado  final_ds  estacao\n",
              "0  2015-01-04 00:00:00       182          3.0  ...      0.0       1.0      3.0\n",
              "1  2015-01-04 01:00:00       138          3.0  ...      0.0       1.0      3.0\n",
              "2  2015-01-04 02:00:00       134          2.5  ...      0.0       1.0      3.0\n",
              "3  2015-01-04 03:00:00        72          2.0  ...      0.0       1.0      3.0\n",
              "4  2015-01-04 04:00:00        47          2.0  ...      0.0       1.0      3.0\n",
              "\n",
              "[5 rows x 10 columns]"
            ]
          },
          "metadata": {},
          "execution_count": 4
        }
      ],
      "source": [
        "import pandas as pd\n",
        "from datetime import datetime\n",
        "import seaborn as sns\n",
        "import matplotlib.pyplot as plt\n",
        "\n",
        "uri= \"https://raw.githubusercontent.com/alura-cursos/deeptime/aula4/bicicletas.csv\"\n",
        "dados = pd.read_csv(uri)\n",
        "dados.head()"
      ]
    },
    {
      "cell_type": "code",
      "source": [
        "plt.figure(figsize=(10,7))\n",
        "\n",
        "sns.lineplot(x=\"datas\", y=\"contagem\", data=dados)\n",
        "\n",
        "#rotacionando as datas no gráfico para que não\n",
        "# fiquem sobreescritas umas sob as outras. \n",
        "plt.xticks(rotation=70)\n"
      ],
      "metadata": {
        "colab": {
          "base_uri": "https://localhost:8080/",
          "height": 510
        },
        "id": "NfQ4H0OEy_Eb",
        "outputId": "5ce278c3-ca08-4fb6-94cb-e656c66b30ce"
      },
      "execution_count": 13,
      "outputs": [
        {
          "output_type": "execute_result",
          "data": {
            "text/plain": [
              "(array([735599., 735689., 735780., 735872., 735964., 736055., 736146.,\n",
              "        736238., 736330.]), <a list of 9 Text major ticklabel objects>)"
            ]
          },
          "metadata": {},
          "execution_count": 13
        },
        {
          "output_type": "display_data",
          "data": {
            "image/png": "[encoded data removed]",
            "text/plain": [
              "<Figure size 720x504 with 1 Axes>"
            ]
          },
          "metadata": {
            "needs_background": "light"
          }
        }
      ]
    },
    {
      "cell_type": "markdown",
      "source": [
        "# Escalonando:"
      ],
      "metadata": {
        "id": "6mO89HSy2WXN"
      }
    },
    {
      "cell_type": "code",
      "source": [
        "from sklearn.preprocessing import StandardScaler\n",
        "\n",
        "scaler = StandardScaler()\n",
        "\n",
        "# Aqui está escalonando a informação apenas da contagem e, \n",
        "# por isso, eu treino apenas a contagem. Através do values\n",
        "# estou pegando todos os valores de dados contagem e refazendo \n",
        "# a sua forma numa escala de -1 e 1. \n",
        "scaler.fit(dados[\"contagem\"].values.reshape(-1,1))\n",
        "\n",
        "# Transformando os dados da contagem com o scaler e os colocando\n",
        "# numa escala de -1 e 1. \n",
        "y = scaler.transform(dados[\"contagem\"].values.reshape(-1,1))"
      ],
      "metadata": {
        "id": "O66MbF-s0DSt"
      },
      "execution_count": 15,
      "outputs": []
    },
    {
      "cell_type": "code",
      "source": [
        "tamanho_treino = int(len(dados)*0.9)\n",
        "tamanho_teste = len(dados) - tamanho_treino\n"
      ],
      "metadata": {
        "id": "UCuNnyZU0mqE"
      },
      "execution_count": 16,
      "outputs": []
    },
    {
      "cell_type": "code",
      "source": [
        "# Definindo os tamanhos de y treino e teste, com base naquilo que foi escalonado.\n",
        "y_treino = y[0:tamanho_treino]\n",
        "y_teste = y[tamanho_treino:len(dados)]"
      ],
      "metadata": {
        "id": "flymd7QV4I-L"
      },
      "execution_count": 19,
      "outputs": []
    },
    {
      "cell_type": "code",
      "source": [
        "print(y_treino[:, 0])"
      ],
      "metadata": {
        "colab": {
          "base_uri": "https://localhost:8080/"
        },
        "id": "uReaCEsP410Q",
        "outputId": "6b2a5182-ca6f-48af-aeb5-3be048573362"
      },
      "execution_count": 34,
      "outputs": [
        {
          "output_type": "stream",
          "name": "stdout",
          "text": [
            "[-0.88574518 -0.9262953  -0.92998167 ... -0.9548647  -0.9548647\n",
            " -0.89403952]\n"
          ]
        }
      ]
    },
    {
      "cell_type": "code",
      "source": [
        "data=dados[0:tamanho_treino]\n",
        "data"
      ],
      "metadata": {
        "colab": {
          "base_uri": "https://localhost:8080/",
          "height": 424
        },
        "id": "AoY7YUx77TLN",
        "outputId": "8947b9d6-4cfd-4076-ac5d-c216f9b89d31"
      },
      "execution_count": 37,
      "outputs": [
        {
          "output_type": "execute_result",
          "data": {
            "text/html": [
              "\n",
              "  <div id=\"df-53d32baf-c84c-4fe4-a05e-3c58c0ac549b\">\n",
              "    <div class=\"colab-df-container\">\n",
              "      <div>\n",
              "<style scoped>\n",
              "    .dataframe tbody tr th:only-of-type {\n",
              "        vertical-align: middle;\n",
              "    }\n",
              "\n",
              "    .dataframe tbody tr th {\n",
              "        vertical-align: top;\n",
              "    }\n",
              "\n",
              "    .dataframe thead th {\n",
              "        text-align: right;\n",
              "    }\n",
              "</style>\n",
              "<table border=\"1\" class=\"dataframe\">\n",
              "  <thead>\n",
              "    <tr style=\"text-align: right;\">\n",
              "      <th></th>\n",
              "      <th>datas</th>\n",
              "      <th>contagem</th>\n",
              "      <th>temperatura</th>\n",
              "      <th>sensacao</th>\n",
              "      <th>umidade</th>\n",
              "      <th>vel_vento</th>\n",
              "      <th>clima</th>\n",
              "      <th>feriado</th>\n",
              "      <th>final_ds</th>\n",
              "      <th>estacao</th>\n",
              "    </tr>\n",
              "  </thead>\n",
              "  <tbody>\n",
              "    <tr>\n",
              "      <th>0</th>\n",
              "      <td>2015-01-04 00:00:00</td>\n",
              "      <td>182</td>\n",
              "      <td>3.0</td>\n",
              "      <td>2.0</td>\n",
              "      <td>93.0</td>\n",
              "      <td>6.0</td>\n",
              "      <td>3.0</td>\n",
              "      <td>0.0</td>\n",
              "      <td>1.0</td>\n",
              "      <td>3.0</td>\n",
              "    </tr>\n",
              "    <tr>\n",
              "      <th>1</th>\n",
              "      <td>2015-01-04 01:00:00</td>\n",
              "      <td>138</td>\n",
              "      <td>3.0</td>\n",
              "      <td>2.5</td>\n",
              "      <td>93.0</td>\n",
              "      <td>5.0</td>\n",
              "      <td>1.0</td>\n",
              "      <td>0.0</td>\n",
              "      <td>1.0</td>\n",
              "      <td>3.0</td>\n",
              "    </tr>\n",
              "    <tr>\n",
              "      <th>2</th>\n",
              "      <td>2015-01-04 02:00:00</td>\n",
              "      <td>134</td>\n",
              "      <td>2.5</td>\n",
              "      <td>2.5</td>\n",
              "      <td>96.5</td>\n",
              "      <td>0.0</td>\n",
              "      <td>1.0</td>\n",
              "      <td>0.0</td>\n",
              "      <td>1.0</td>\n",
              "      <td>3.0</td>\n",
              "    </tr>\n",
              "    <tr>\n",
              "      <th>3</th>\n",
              "      <td>2015-01-04 03:00:00</td>\n",
              "      <td>72</td>\n",
              "      <td>2.0</td>\n",
              "      <td>2.0</td>\n",
              "      <td>100.0</td>\n",
              "      <td>0.0</td>\n",
              "      <td>1.0</td>\n",
              "      <td>0.0</td>\n",
              "      <td>1.0</td>\n",
              "      <td>3.0</td>\n",
              "    </tr>\n",
              "    <tr>\n",
              "      <th>4</th>\n",
              "      <td>2015-01-04 04:00:00</td>\n",
              "      <td>47</td>\n",
              "      <td>2.0</td>\n",
              "      <td>0.0</td>\n",
              "      <td>93.0</td>\n",
              "      <td>6.5</td>\n",
              "      <td>1.0</td>\n",
              "      <td>0.0</td>\n",
              "      <td>1.0</td>\n",
              "      <td>3.0</td>\n",
              "    </tr>\n",
              "    <tr>\n",
              "      <th>...</th>\n",
              "      <td>...</td>\n",
              "      <td>...</td>\n",
              "      <td>...</td>\n",
              "      <td>...</td>\n",
              "      <td>...</td>\n",
              "      <td>...</td>\n",
              "      <td>...</td>\n",
              "      <td>...</td>\n",
              "      <td>...</td>\n",
              "      <td>...</td>\n",
              "    </tr>\n",
              "    <tr>\n",
              "      <th>15667</th>\n",
              "      <td>2016-10-23 03:00:00</td>\n",
              "      <td>217</td>\n",
              "      <td>8.0</td>\n",
              "      <td>7.0</td>\n",
              "      <td>90.0</td>\n",
              "      <td>6.0</td>\n",
              "      <td>2.0</td>\n",
              "      <td>0.0</td>\n",
              "      <td>1.0</td>\n",
              "      <td>2.0</td>\n",
              "    </tr>\n",
              "    <tr>\n",
              "      <th>15668</th>\n",
              "      <td>2016-10-23 04:00:00</td>\n",
              "      <td>150</td>\n",
              "      <td>8.0</td>\n",
              "      <td>7.0</td>\n",
              "      <td>93.0</td>\n",
              "      <td>6.0</td>\n",
              "      <td>2.0</td>\n",
              "      <td>0.0</td>\n",
              "      <td>1.0</td>\n",
              "      <td>2.0</td>\n",
              "    </tr>\n",
              "    <tr>\n",
              "      <th>15669</th>\n",
              "      <td>2016-10-23 05:00:00</td>\n",
              "      <td>107</td>\n",
              "      <td>8.0</td>\n",
              "      <td>8.0</td>\n",
              "      <td>87.0</td>\n",
              "      <td>4.0</td>\n",
              "      <td>3.0</td>\n",
              "      <td>0.0</td>\n",
              "      <td>1.0</td>\n",
              "      <td>2.0</td>\n",
              "    </tr>\n",
              "    <tr>\n",
              "      <th>15670</th>\n",
              "      <td>2016-10-23 06:00:00</td>\n",
              "      <td>107</td>\n",
              "      <td>8.0</td>\n",
              "      <td>7.0</td>\n",
              "      <td>90.0</td>\n",
              "      <td>6.5</td>\n",
              "      <td>3.0</td>\n",
              "      <td>0.0</td>\n",
              "      <td>1.0</td>\n",
              "      <td>2.0</td>\n",
              "    </tr>\n",
              "    <tr>\n",
              "      <th>15671</th>\n",
              "      <td>2016-10-23 07:00:00</td>\n",
              "      <td>173</td>\n",
              "      <td>7.5</td>\n",
              "      <td>6.5</td>\n",
              "      <td>90.0</td>\n",
              "      <td>6.0</td>\n",
              "      <td>1.0</td>\n",
              "      <td>0.0</td>\n",
              "      <td>1.0</td>\n",
              "      <td>2.0</td>\n",
              "    </tr>\n",
              "  </tbody>\n",
              "</table>\n",
              "<p>15672 rows × 10 columns</p>\n",
              "</div>\n",
              "      <button class=\"colab-df-convert\" onclick=\"convertToInteractive('df-53d32baf-c84c-4fe4-a05e-3c58c0ac549b')\"\n",
              "              title=\"Convert this dataframe to an interactive table.\"\n",
              "              style=\"display:none;\">\n",
              "        \n",
              "  <svg xmlns=\"http://www.w3.org/2000/svg\" height=\"24px\"viewBox=\"0 0 24 24\"\n",
              "       width=\"24px\">\n",
              "    <path d=\"M0 0h24v24H0V0z\" fill=\"none\"/>\n",
              "    <path d=\"M18.56 5.44l.94 2.06.94-2.06 2.06-.94-2.06-.94-.94-2.06-.94 2.06-2.06.94zm-11 1L8.5 8.5l.94-2.06 2.06-.94-2.06-.94L8.5 2.5l-.94 2.06-2.06.94zm10 10l.94 2.06.94-2.06 2.06-.94-2.06-.94-.94-2.06-.94 2.06-2.06.94z\"/><path d=\"M17.41 7.96l-1.37-1.37c-.4-.4-.92-.59-1.43-.59-.52 0-1.04.2-1.43.59L10.3 9.45l-7.72 7.72c-.78.78-.78 2.05 0 2.83L4 21.41c.39.39.9.59 1.41.59.51 0 1.02-.2 1.41-.59l7.78-7.78 2.81-2.81c.8-.78.8-2.07 0-2.86zM5.41 20L4 18.59l7.72-7.72 1.47 1.35L5.41 20z\"/>\n",
              "  </svg>\n",
              "      </button>\n",
              "      \n",
              "  <style>\n",
              "    .colab-df-container {\n",
              "      display:flex;\n",
              "      flex-wrap:wrap;\n",
              "      gap: 12px;\n",
              "    }\n",
              "\n",
              "    .colab-df-convert {\n",
              "      background-color: #E8F0FE;\n",
              "      border: none;\n",
              "      border-radius: 50%;\n",
              "      cursor: pointer;\n",
              "      display: none;\n",
              "      fill: #1967D2;\n",
              "      height: 32px;\n",
              "      padding: 0 0 0 0;\n",
              "      width: 32px;\n",
              "    }\n",
              "\n",
              "    .colab-df-convert:hover {\n",
              "      background-color: #E2EBFA;\n",
              "      box-shadow: 0px 1px 2px rgba(60, 64, 67, 0.3), 0px 1px 3px 1px rgba(60, 64, 67, 0.15);\n",
              "      fill: #174EA6;\n",
              "    }\n",
              "\n",
              "    [theme=dark] .colab-df-convert {\n",
              "      background-color: #3B4455;\n",
              "      fill: #D2E3FC;\n",
              "    }\n",
              "\n",
              "    [theme=dark] .colab-df-convert:hover {\n",
              "      background-color: #434B5C;\n",
              "      box-shadow: 0px 1px 3px 1px rgba(0, 0, 0, 0.15);\n",
              "      filter: drop-shadow(0px 1px 2px rgba(0, 0, 0, 0.3));\n",
              "      fill: #FFFFFF;\n",
              "    }\n",
              "  </style>\n",
              "\n",
              "      <script>\n",
              "        const buttonEl =\n",
              "          document.querySelector('#df-53d32baf-c84c-4fe4-a05e-3c58c0ac549b button.colab-df-convert');\n",
              "        buttonEl.style.display =\n",
              "          google.colab.kernel.accessAllowed ? 'block' : 'none';\n",
              "\n",
              "        async function convertToInteractive(key) {\n",
              "          const element = document.querySelector('#df-53d32baf-c84c-4fe4-a05e-3c58c0ac549b');\n",
              "          const dataTable =\n",
              "            await google.colab.kernel.invokeFunction('convertToInteractive',\n",
              "                                                     [key], {});\n",
              "          if (!dataTable) return;\n",
              "\n",
              "          const docLinkHtml = 'Like what you see? Visit the ' +\n",
              "            '<a target=\"_blank\" href=https://colab.research.google.com/notebooks/data_table.ipynb>data table notebook</a>'\n",
              "            + ' to learn more about interactive tables.';\n",
              "          element.innerHTML = '';\n",
              "          dataTable['output_type'] = 'display_data';\n",
              "          await google.colab.output.renderOutput(dataTable, element);\n",
              "          const docLink = document.createElement('div');\n",
              "          docLink.innerHTML = docLinkHtml;\n",
              "          element.appendChild(docLink);\n",
              "        }\n",
              "      </script>\n",
              "    </div>\n",
              "  </div>\n",
              "  "
            ],
            "text/plain": [
              "                    datas  contagem  temperatura  ...  feriado  final_ds  estacao\n",
              "0     2015-01-04 00:00:00       182          3.0  ...      0.0       1.0      3.0\n",
              "1     2015-01-04 01:00:00       138          3.0  ...      0.0       1.0      3.0\n",
              "2     2015-01-04 02:00:00       134          2.5  ...      0.0       1.0      3.0\n",
              "3     2015-01-04 03:00:00        72          2.0  ...      0.0       1.0      3.0\n",
              "4     2015-01-04 04:00:00        47          2.0  ...      0.0       1.0      3.0\n",
              "...                   ...       ...          ...  ...      ...       ...      ...\n",
              "15667 2016-10-23 03:00:00       217          8.0  ...      0.0       1.0      2.0\n",
              "15668 2016-10-23 04:00:00       150          8.0  ...      0.0       1.0      2.0\n",
              "15669 2016-10-23 05:00:00       107          8.0  ...      0.0       1.0      2.0\n",
              "15670 2016-10-23 06:00:00       107          8.0  ...      0.0       1.0      2.0\n",
              "15671 2016-10-23 07:00:00       173          7.5  ...      0.0       1.0      2.0\n",
              "\n",
              "[15672 rows x 10 columns]"
            ]
          },
          "metadata": {},
          "execution_count": 37
        }
      ]
    },
    {
      "cell_type": "code",
      "source": [
        "# Eu acho que y_treino[:,0] match com dados[0:tamanho_treino] por exemplo, \n",
        "# pois o primeiro passa todos os atributos em uma linha, assemlhando com os dados\n",
        "# em cada coluna do dataframe acima. Se eu passase apenas y_treino, teria apenas uma coluna\n",
        "# de dados e, assim, o data iria requerer apenas uma dimensão, e não muitas que estão presentes no dataframe. "
      ],
      "metadata": {
        "id": "QBsnYGX_7q8t"
      },
      "execution_count": null,
      "outputs": []
    },
    {
      "cell_type": "code",
      "source": [
        "plt.figure(figsize=(10,7))\n",
        "\n",
        "sns.lineplot(x=\"datas\", y=y_treino[:,0], data=dados[0:tamanho_treino], label=\"treino\")\n",
        "sns.lineplot(x=\"datas\", y=y_teste[:,0], data=dados[tamanho_treino:len(dados)], label=\"teste\")\n",
        "\n",
        "#rotacionando as datas no gráfico para que não\n",
        "# fiquem sobreescritas umas sob as outras. \n",
        "plt.xticks(rotation=70)\n"
      ],
      "metadata": {
        "colab": {
          "base_uri": "https://localhost:8080/",
          "height": 510
        },
        "id": "yjhh_34k4Q4o",
        "outputId": "3a52d0af-62ad-4491-e1fe-84a46a61f647"
      },
      "execution_count": 24,
      "outputs": [
        {
          "output_type": "execute_result",
          "data": {
            "text/plain": [
              "(array([735599., 735689., 735780., 735872., 735964., 736055., 736146.,\n",
              "        736238., 736330.]), <a list of 9 Text major ticklabel objects>)"
            ]
          },
          "metadata": {},
          "execution_count": 24
        },
        {
          "output_type": "display_data",
          "data": {
            "image/png": "[encoded data removed]",
            "text/plain": [
              "<Figure size 720x504 with 1 Axes>"
            ]
          },
          "metadata": {
            "needs_background": "light"
          }
        }
      ]
    },
    {
      "cell_type": "markdown",
      "source": [
        "# Criando uma função que separa os dados da contagem, pois esses servirão tanto para a entrada quanto para a saída. "
      ],
      "metadata": {
        "id": "pNfCAXnr6ZAr"
      }
    },
    {
      "cell_type": "code",
      "source": [
        "import numpy as np\n",
        "\n",
        "# número de passos representa um atraso, por assim dizer, \n",
        "# usado para modificar os valores entre entrada e saída. \n",
        "def separando_dados(vetor,n_passos):\n",
        "  x_novo, y_novo = [], []\n",
        "  for i in range(n_passos,vetor.shape[0]):\n",
        "    x_novo.append(list(vetor.loc[i-n_passos:i-1]))\n",
        "    y_novo.append(vetor.loc[i])\n",
        "  x_novo, y_novo = np.array(x_novo), np.array(y_novo) \n",
        "  return x_novo, y_novo"
      ],
      "metadata": {
        "id": "9zXQOaCd5LGS"
      },
      "execution_count": 30,
      "outputs": []
    },
    {
      "cell_type": "code",
      "source": [
        "vetor = pd.DataFrame(y_treino)[0]\n",
        "\n",
        "x_treino_novo, y_treino_novo = separando_dados(vetor, 10)\n"
      ],
      "metadata": {
        "id": "7rUz1x2v6lY1"
      },
      "execution_count": 38,
      "outputs": []
    },
    {
      "cell_type": "code",
      "source": [
        "vetor2 = pd.DataFrame(y_teste)[0]\n",
        "\n",
        "x_teste_novo, y_teste_novo = separando_dados(vetor2, 10)"
      ],
      "metadata": {
        "id": "7mUbvSuf8U8G"
      },
      "execution_count": 39,
      "outputs": []
    },
    {
      "cell_type": "markdown",
      "source": [
        "# Rede neural recorrente:\n"
      ],
      "metadata": {
        "id": "Eryrhyvv94H1"
      }
    },
    {
      "cell_type": "code",
      "source": [
        "# Antes de iniciar com a rede, deve-se passar o conjunto dos dados conforme\n",
        "# a rede espera receber. \n",
        "\n",
        "# Tanto x_treino_novo.shape[0] quanto x_teste_novo.shape[0] corresponde a primeira coluna\n",
        "# dos dados provindos da função separando dados. Para a segunda coluna, tem-se o valor um no \n",
        "# lugar do número zero. \n",
        "\n",
        "x_treino_novo = x_treino_novo.reshape(x_treino_novo.shape[0], x_treino_novo.shape[1], 1)\n",
        "x_teste_novo = x_teste_novo.reshape(x_teste_novo.shape[0], x_teste_novo.shape[1], 1)"
      ],
      "metadata": {
        "id": "JZtYcuB98kVo"
      },
      "execution_count": null,
      "outputs": []
    },
    {
      "cell_type": "code",
      "source": [
        "from tensorflow.keras.models import Sequential\n",
        "from tensorflow.keras.layers import Dense\n",
        "from tensorflow import keras\n",
        "from tensorflow.keras.layers import LSTM\n",
        "\n",
        "recorrente = Sequential()\n",
        "\n",
        "# LSTM é um tipo de rede recorrente na qual passo 128 lupins com as entradas \n",
        "# 0 e 1, que representam as últimas dimensões do treino novo em x. \n",
        "recorrente.add(LSTM(128, input_shape=(x_treino_novo.shape[0], x_treino_novo.shape[1])))\n",
        "\n",
        "recorrente.compile(loss=\"mean_squared_error\", optimizer=\"RMSProp\")"
      ],
      "metadata": {
        "id": "KXJUXL-d-XMR"
      },
      "execution_count": 46,
      "outputs": []
    },
    {
      "cell_type": "code",
      "source": [
        "# Faltou eu terminar o código. Porém a sua finalização perpassa em usar \n",
        "# essa rede neural recorrente no treinamento e previsão dos dados plotando \n",
        "# um gráfico semelhante à primeira parte e nada mais. "
      ],
      "metadata": {
        "id": "i34tm4Ow-aMZ"
      },
      "execution_count": null,
      "outputs": []
    }
  ]
}