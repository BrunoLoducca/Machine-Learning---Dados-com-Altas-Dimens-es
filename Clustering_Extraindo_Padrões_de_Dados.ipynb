{
  "nbformat": 4,
  "nbformat_minor": 0,
  "metadata": {
    "colab": {
      "name": "Clustering: Extraindo Padrões de Dados.ipynb",
      "provenance": [],
      "collapsed_sections": [],
      "authorship_tag": "ABX9TyPi1KYHW11zWILuEIwfQqZF",
      "include_colab_link": true
    },
    "kernelspec": {
      "name": "python3",
      "display_name": "Python 3"
    },
    "language_info": {
      "name": "python"
    }
  },
  "cells": [
    {
      "cell_type": "markdown",
      "metadata": {
        "id": "view-in-github",
        "colab_type": "text"
      },
      "source": [
        "<a href=\"https://colab.research.google.com/github/BrunoLoducca/Machine-Learning---Dados-com-Altas-Dimens-es/blob/main/Clustering_Extraindo_Padr%C3%B5es_de_Dados.ipynb\" target=\"_parent\"><img src=\"https://colab.research.google.com/assets/colab-badge.svg\" alt=\"Open In Colab\"/></a>"
      ]
    },
    {
      "cell_type": "code",
      "execution_count": null,
      "metadata": {
        "id": "Xfae0yRSMoJ3",
        "colab": {
          "base_uri": "https://localhost:8080/",
          "height": 270
        },
        "outputId": "08c31a7d-2c94-47e5-94b7-2261130f3127"
      },
      "outputs": [
        {
          "output_type": "execute_result",
          "data": {
            "text/html": [
              "\n",
              "  <div id=\"df-515ec279-8264-4c63-9d7e-65ce3184e186\">\n",
              "    <div class=\"colab-df-container\">\n",
              "      <div>\n",
              "<style scoped>\n",
              "    .dataframe tbody tr th:only-of-type {\n",
              "        vertical-align: middle;\n",
              "    }\n",
              "\n",
              "    .dataframe tbody tr th {\n",
              "        vertical-align: top;\n",
              "    }\n",
              "\n",
              "    .dataframe thead th {\n",
              "        text-align: right;\n",
              "    }\n",
              "</style>\n",
              "<table border=\"1\" class=\"dataframe\">\n",
              "  <thead>\n",
              "    <tr style=\"text-align: right;\">\n",
              "      <th></th>\n",
              "      <th>BALANCO</th>\n",
              "      <th>FREQUENCIA_DE_BALANCO</th>\n",
              "      <th>COMPRAS</th>\n",
              "      <th>COMPRA_A_VISTA</th>\n",
              "      <th>PARCELAS_DE_COMPRAS</th>\n",
              "      <th>ADIANTAMENTO_DE_DINHEIRO</th>\n",
              "      <th>FREQUENCIA_DE_COMPRAS</th>\n",
              "      <th>FREQUENCIA_DE_COMPRAS_A_VISTA</th>\n",
              "      <th>FREQUENCIA_DE_PARCELAS_DE_COMPRAS</th>\n",
              "      <th>FREQUENCIA_DE_ADIANTAMENTO_DE_DINHEIRO</th>\n",
              "      <th>ADIANTAMENTO_DE_DINHEIRO_TRX</th>\n",
              "      <th>COMPRAS_TRX</th>\n",
              "      <th>LIMITE_DE_CREDITO</th>\n",
              "      <th>PAGAMENTOS</th>\n",
              "      <th>PAGAMENTOS_MINIMOS</th>\n",
              "      <th>PRC_PAGAMENTO_COMPLETO</th>\n",
              "    </tr>\n",
              "  </thead>\n",
              "  <tbody>\n",
              "    <tr>\n",
              "      <th>0</th>\n",
              "      <td>40.900749</td>\n",
              "      <td>0.818182</td>\n",
              "      <td>95.40</td>\n",
              "      <td>0.00</td>\n",
              "      <td>95.4</td>\n",
              "      <td>0.000000</td>\n",
              "      <td>0.166667</td>\n",
              "      <td>0.000000</td>\n",
              "      <td>0.083333</td>\n",
              "      <td>0.000000</td>\n",
              "      <td>0</td>\n",
              "      <td>2</td>\n",
              "      <td>1000.0</td>\n",
              "      <td>201.802084</td>\n",
              "      <td>139.509787</td>\n",
              "      <td>0.000000</td>\n",
              "    </tr>\n",
              "    <tr>\n",
              "      <th>1</th>\n",
              "      <td>3202.467416</td>\n",
              "      <td>0.909091</td>\n",
              "      <td>0.00</td>\n",
              "      <td>0.00</td>\n",
              "      <td>0.0</td>\n",
              "      <td>6442.945483</td>\n",
              "      <td>0.000000</td>\n",
              "      <td>0.000000</td>\n",
              "      <td>0.000000</td>\n",
              "      <td>0.250000</td>\n",
              "      <td>4</td>\n",
              "      <td>0</td>\n",
              "      <td>7000.0</td>\n",
              "      <td>4103.032597</td>\n",
              "      <td>1072.340217</td>\n",
              "      <td>0.222222</td>\n",
              "    </tr>\n",
              "    <tr>\n",
              "      <th>2</th>\n",
              "      <td>2495.148862</td>\n",
              "      <td>1.000000</td>\n",
              "      <td>773.17</td>\n",
              "      <td>773.17</td>\n",
              "      <td>0.0</td>\n",
              "      <td>0.000000</td>\n",
              "      <td>1.000000</td>\n",
              "      <td>1.000000</td>\n",
              "      <td>0.000000</td>\n",
              "      <td>0.000000</td>\n",
              "      <td>0</td>\n",
              "      <td>12</td>\n",
              "      <td>7500.0</td>\n",
              "      <td>622.066742</td>\n",
              "      <td>627.284787</td>\n",
              "      <td>0.000000</td>\n",
              "    </tr>\n",
              "    <tr>\n",
              "      <th>3</th>\n",
              "      <td>1666.670542</td>\n",
              "      <td>0.636364</td>\n",
              "      <td>1499.00</td>\n",
              "      <td>1499.00</td>\n",
              "      <td>0.0</td>\n",
              "      <td>205.788017</td>\n",
              "      <td>0.083333</td>\n",
              "      <td>0.083333</td>\n",
              "      <td>0.000000</td>\n",
              "      <td>0.083333</td>\n",
              "      <td>1</td>\n",
              "      <td>1</td>\n",
              "      <td>7500.0</td>\n",
              "      <td>0.000000</td>\n",
              "      <td>NaN</td>\n",
              "      <td>0.000000</td>\n",
              "    </tr>\n",
              "    <tr>\n",
              "      <th>4</th>\n",
              "      <td>817.714335</td>\n",
              "      <td>1.000000</td>\n",
              "      <td>16.00</td>\n",
              "      <td>16.00</td>\n",
              "      <td>0.0</td>\n",
              "      <td>0.000000</td>\n",
              "      <td>0.083333</td>\n",
              "      <td>0.083333</td>\n",
              "      <td>0.000000</td>\n",
              "      <td>0.000000</td>\n",
              "      <td>0</td>\n",
              "      <td>1</td>\n",
              "      <td>1200.0</td>\n",
              "      <td>678.334763</td>\n",
              "      <td>244.791237</td>\n",
              "      <td>0.000000</td>\n",
              "    </tr>\n",
              "  </tbody>\n",
              "</table>\n",
              "</div>\n",
              "      <button class=\"colab-df-convert\" onclick=\"convertToInteractive('df-515ec279-8264-4c63-9d7e-65ce3184e186')\"\n",
              "              title=\"Convert this dataframe to an interactive table.\"\n",
              "              style=\"display:none;\">\n",
              "        \n",
              "  <svg xmlns=\"http://www.w3.org/2000/svg\" height=\"24px\"viewBox=\"0 0 24 24\"\n",
              "       width=\"24px\">\n",
              "    <path d=\"M0 0h24v24H0V0z\" fill=\"none\"/>\n",
              "    <path d=\"M18.56 5.44l.94 2.06.94-2.06 2.06-.94-2.06-.94-.94-2.06-.94 2.06-2.06.94zm-11 1L8.5 8.5l.94-2.06 2.06-.94-2.06-.94L8.5 2.5l-.94 2.06-2.06.94zm10 10l.94 2.06.94-2.06 2.06-.94-2.06-.94-.94-2.06-.94 2.06-2.06.94z\"/><path d=\"M17.41 7.96l-1.37-1.37c-.4-.4-.92-.59-1.43-.59-.52 0-1.04.2-1.43.59L10.3 9.45l-7.72 7.72c-.78.78-.78 2.05 0 2.83L4 21.41c.39.39.9.59 1.41.59.51 0 1.02-.2 1.41-.59l7.78-7.78 2.81-2.81c.8-.78.8-2.07 0-2.86zM5.41 20L4 18.59l7.72-7.72 1.47 1.35L5.41 20z\"/>\n",
              "  </svg>\n",
              "      </button>\n",
              "      \n",
              "  <style>\n",
              "    .colab-df-container {\n",
              "      display:flex;\n",
              "      flex-wrap:wrap;\n",
              "      gap: 12px;\n",
              "    }\n",
              "\n",
              "    .colab-df-convert {\n",
              "      background-color: #E8F0FE;\n",
              "      border: none;\n",
              "      border-radius: 50%;\n",
              "      cursor: pointer;\n",
              "      display: none;\n",
              "      fill: #1967D2;\n",
              "      height: 32px;\n",
              "      padding: 0 0 0 0;\n",
              "      width: 32px;\n",
              "    }\n",
              "\n",
              "    .colab-df-convert:hover {\n",
              "      background-color: #E2EBFA;\n",
              "      box-shadow: 0px 1px 2px rgba(60, 64, 67, 0.3), 0px 1px 3px 1px rgba(60, 64, 67, 0.15);\n",
              "      fill: #174EA6;\n",
              "    }\n",
              "\n",
              "    [theme=dark] .colab-df-convert {\n",
              "      background-color: #3B4455;\n",
              "      fill: #D2E3FC;\n",
              "    }\n",
              "\n",
              "    [theme=dark] .colab-df-convert:hover {\n",
              "      background-color: #434B5C;\n",
              "      box-shadow: 0px 1px 3px 1px rgba(0, 0, 0, 0.15);\n",
              "      filter: drop-shadow(0px 1px 2px rgba(0, 0, 0, 0.3));\n",
              "      fill: #FFFFFF;\n",
              "    }\n",
              "  </style>\n",
              "\n",
              "      <script>\n",
              "        const buttonEl =\n",
              "          document.querySelector('#df-515ec279-8264-4c63-9d7e-65ce3184e186 button.colab-df-convert');\n",
              "        buttonEl.style.display =\n",
              "          google.colab.kernel.accessAllowed ? 'block' : 'none';\n",
              "\n",
              "        async function convertToInteractive(key) {\n",
              "          const element = document.querySelector('#df-515ec279-8264-4c63-9d7e-65ce3184e186');\n",
              "          const dataTable =\n",
              "            await google.colab.kernel.invokeFunction('convertToInteractive',\n",
              "                                                     [key], {});\n",
              "          if (!dataTable) return;\n",
              "\n",
              "          const docLinkHtml = 'Like what you see? Visit the ' +\n",
              "            '<a target=\"_blank\" href=https://colab.research.google.com/notebooks/data_table.ipynb>data table notebook</a>'\n",
              "            + ' to learn more about interactive tables.';\n",
              "          element.innerHTML = '';\n",
              "          dataTable['output_type'] = 'display_data';\n",
              "          await google.colab.output.renderOutput(dataTable, element);\n",
              "          const docLink = document.createElement('div');\n",
              "          docLink.innerHTML = docLinkHtml;\n",
              "          element.appendChild(docLink);\n",
              "        }\n",
              "      </script>\n",
              "    </div>\n",
              "  </div>\n",
              "  "
            ],
            "text/plain": [
              "       BALANCO  ...  PRC_PAGAMENTO_COMPLETO\n",
              "0    40.900749  ...                0.000000\n",
              "1  3202.467416  ...                0.222222\n",
              "2  2495.148862  ...                0.000000\n",
              "3  1666.670542  ...                0.000000\n",
              "4   817.714335  ...                0.000000\n",
              "\n",
              "[5 rows x 16 columns]"
            ]
          },
          "metadata": {},
          "execution_count": 1
        }
      ],
      "source": [
        "import pandas as pd\n",
        "import numpy as np\n",
        "\n",
        "uri = \"https://raw.githubusercontent.com/alura-cursos/alura-clustering-validation/base-de-dados/CC%20GENERAL.csv\"\n",
        "\n",
        "dados_raw = pd.read_csv(uri)\n",
        "\n",
        "\n",
        "a_renomear = {\"CUST_ID\": \"CONSUMIDOR_ID\", \n",
        "              \"BALANCE\": \"BALANCO\", \n",
        "              \"BALANCE_FREQUENCY\": \"FREQUENCIA_DE_BALANCO\", \n",
        "              \"PURCHASES\": \"COMPRAS\", \n",
        "              \"ONEOFF_PURCHASES\": \"COMPRA_A_VISTA\", \n",
        "              \"INSTALLMENTS_PURCHASES\": \"PARCELAS_DE_COMPRAS\", \n",
        "              \"CASH_ADVANCE\": \"ADIANTAMENTO_DE_DINHEIRO\", \n",
        "              \"PURCHASES_FREQUENCY\": \"FREQUENCIA_DE_COMPRAS\", \n",
        "              \"ONEOFF_PURCHASES_FREQUENCY\": \"FREQUENCIA_DE_COMPRAS_A_VISTA\", \n",
        "              \"PURCHASES_INSTALLMENTS_FREQUENCY\":\"FREQUENCIA_DE_PARCELAS_DE_COMPRAS\", \n",
        "              \"CASH_ADVANCE_FREQUENCY\":\"FREQUENCIA_DE_ADIANTAMENTO_DE_DINHEIRO\", \n",
        "              \"CASH_ADVANCE_TRX\": \"ADIANTAMENTO_DE_DINHEIRO_TRX\", \n",
        "              \"PURCHASES_TRX\": \"COMPRAS_TRX\", \n",
        "              \"CREDIT_LIMIT\": \"LIMITE_DE_CREDITO\", \n",
        "              \"PAYMENTS\": \"PAGAMENTOS\", \n",
        "              \"MINIMUM_PAYMENTS\": \"PAGAMENTOS_MINIMOS\", \n",
        "              \"PRC_FULL_PAYMENT\": \"PRC_PAGAMENTO_COMPLETO\", \n",
        "              \"TENURE\": \"POSSE\"}\n",
        "\n",
        "dados_raw = dados_raw.rename(columns=a_renomear)\n",
        "dados_raw = dados_raw.drop(columns=[\"CONSUMIDOR_ID\", \"POSSE\"])\n",
        "dados_raw.head()"
      ]
    },
    {
      "cell_type": "code",
      "source": [
        "from pandas.core.dtypes.missing import isna\n",
        "\n",
        "# Verificando quais são os dados nulos\n",
        "missing_data = dados_raw.isna().sum()\n",
        "print(missing_data)"
      ],
      "metadata": {
        "id": "uAMfM928M6cv",
        "colab": {
          "base_uri": "https://localhost:8080/"
        },
        "outputId": "6d0340c6-9d2f-43ef-8a79-ff98769e6b45"
      },
      "execution_count": null,
      "outputs": [
        {
          "output_type": "stream",
          "name": "stdout",
          "text": [
            "BALANCO                                     0\n",
            "FREQUENCIA_DE_BALANCO                       0\n",
            "COMPRAS                                     0\n",
            "COMPRA_A_VISTA                              0\n",
            "PARCELAS_DE_COMPRAS                         0\n",
            "ADIANTAMENTO_DE_DINHEIRO                    0\n",
            "FREQUENCIA_DE_COMPRAS                       0\n",
            "FREQUENCIA_DE_COMPRAS_A_VISTA               0\n",
            "FREQUENCIA_DE_PARCELAS_DE_COMPRAS           0\n",
            "FREQUENCIA_DE_ADIANTAMENTO_DE_DINHEIRO      0\n",
            "ADIANTAMENTO_DE_DINHEIRO_TRX                0\n",
            "COMPRAS_TRX                                 0\n",
            "LIMITE_DE_CREDITO                           1\n",
            "PAGAMENTOS                                  0\n",
            "PAGAMENTOS_MINIMOS                        313\n",
            "PRC_PAGAMENTO_COMPLETO                      0\n",
            "dtype: int64\n"
          ]
        }
      ]
    },
    {
      "cell_type": "code",
      "source": [
        "# Estou substituindo os valores vazios por meio do \"fillna\", que significa\n",
        "# preenhcer dados vazios, pela mediana desse label. \n",
        "dados_raw = dados_raw.fillna(dados_raw.median())\n",
        "\n",
        "# Verificando quais são os dados nulos\n",
        "missing_data = dados_raw.isna().sum()\n",
        "print(missing_data)"
      ],
      "metadata": {
        "colab": {
          "base_uri": "https://localhost:8080/"
        },
        "id": "3UGpO3VETDoD",
        "outputId": "89df5bc2-0986-4248-b252-b36c6d83aaa7"
      },
      "execution_count": null,
      "outputs": [
        {
          "output_type": "stream",
          "name": "stdout",
          "text": [
            "BALANCO                                   0\n",
            "FREQUENCIA_DE_BALANCO                     0\n",
            "COMPRAS                                   0\n",
            "COMPRA_A_VISTA                            0\n",
            "PARCELAS_DE_COMPRAS                       0\n",
            "ADIANTAMENTO_DE_DINHEIRO                  0\n",
            "FREQUENCIA_DE_COMPRAS                     0\n",
            "FREQUENCIA_DE_COMPRAS_A_VISTA             0\n",
            "FREQUENCIA_DE_PARCELAS_DE_COMPRAS         0\n",
            "FREQUENCIA_DE_ADIANTAMENTO_DE_DINHEIRO    0\n",
            "ADIANTAMENTO_DE_DINHEIRO_TRX              0\n",
            "COMPRAS_TRX                               0\n",
            "LIMITE_DE_CREDITO                         0\n",
            "PAGAMENTOS                                0\n",
            "PAGAMENTOS_MINIMOS                        0\n",
            "PRC_PAGAMENTO_COMPLETO                    0\n",
            "dtype: int64\n"
          ]
        }
      ]
    },
    {
      "cell_type": "code",
      "source": [
        "from sklearn.preprocessing import Normalizer\n",
        "\n",
        "# O Normalizer é um normalisador que coloca um intervalo entre 0 e 1 aos dados. \n",
        "normalisador = Normalizer()\n",
        "np_dados_raw = normalisador.fit_transform(dados_raw)\n",
        "\n",
        "dados = pd.DataFrame(np_dados_raw, columns=dados_raw.keys())\n",
        "dados.head()"
      ],
      "metadata": {
        "colab": {
          "base_uri": "https://localhost:8080/",
          "height": 270
        },
        "id": "OcyHzy1dUpn2",
        "outputId": "a75a07b3-3a17-40d3-b2f5-6f98dca48a33"
      },
      "execution_count": null,
      "outputs": [
        {
          "output_type": "execute_result",
          "data": {
            "text/html": [
              "\n",
              "  <div id=\"df-370b2b19-b922-49e0-be86-972095cd0bcd\">\n",
              "    <div class=\"colab-df-container\">\n",
              "      <div>\n",
              "<style scoped>\n",
              "    .dataframe tbody tr th:only-of-type {\n",
              "        vertical-align: middle;\n",
              "    }\n",
              "\n",
              "    .dataframe tbody tr th {\n",
              "        vertical-align: top;\n",
              "    }\n",
              "\n",
              "    .dataframe thead th {\n",
              "        text-align: right;\n",
              "    }\n",
              "</style>\n",
              "<table border=\"1\" class=\"dataframe\">\n",
              "  <thead>\n",
              "    <tr style=\"text-align: right;\">\n",
              "      <th></th>\n",
              "      <th>BALANCO</th>\n",
              "      <th>FREQUENCIA_DE_BALANCO</th>\n",
              "      <th>COMPRAS</th>\n",
              "      <th>COMPRA_A_VISTA</th>\n",
              "      <th>PARCELAS_DE_COMPRAS</th>\n",
              "      <th>ADIANTAMENTO_DE_DINHEIRO</th>\n",
              "      <th>FREQUENCIA_DE_COMPRAS</th>\n",
              "      <th>FREQUENCIA_DE_COMPRAS_A_VISTA</th>\n",
              "      <th>FREQUENCIA_DE_PARCELAS_DE_COMPRAS</th>\n",
              "      <th>FREQUENCIA_DE_ADIANTAMENTO_DE_DINHEIRO</th>\n",
              "      <th>ADIANTAMENTO_DE_DINHEIRO_TRX</th>\n",
              "      <th>COMPRAS_TRX</th>\n",
              "      <th>LIMITE_DE_CREDITO</th>\n",
              "      <th>PAGAMENTOS</th>\n",
              "      <th>PAGAMENTOS_MINIMOS</th>\n",
              "      <th>PRC_PAGAMENTO_COMPLETO</th>\n",
              "    </tr>\n",
              "  </thead>\n",
              "  <tbody>\n",
              "    <tr>\n",
              "      <th>0</th>\n",
              "      <td>0.039356</td>\n",
              "      <td>0.000787</td>\n",
              "      <td>0.091796</td>\n",
              "      <td>0.000000</td>\n",
              "      <td>0.091796</td>\n",
              "      <td>0.000000</td>\n",
              "      <td>0.000160</td>\n",
              "      <td>0.000000</td>\n",
              "      <td>0.00008</td>\n",
              "      <td>0.000000</td>\n",
              "      <td>0.000000</td>\n",
              "      <td>0.001924</td>\n",
              "      <td>0.962221</td>\n",
              "      <td>0.194178</td>\n",
              "      <td>0.134239</td>\n",
              "      <td>0.00000</td>\n",
              "    </tr>\n",
              "    <tr>\n",
              "      <th>1</th>\n",
              "      <td>0.293876</td>\n",
              "      <td>0.000083</td>\n",
              "      <td>0.000000</td>\n",
              "      <td>0.000000</td>\n",
              "      <td>0.000000</td>\n",
              "      <td>0.591240</td>\n",
              "      <td>0.000000</td>\n",
              "      <td>0.000000</td>\n",
              "      <td>0.00000</td>\n",
              "      <td>0.000023</td>\n",
              "      <td>0.000367</td>\n",
              "      <td>0.000000</td>\n",
              "      <td>0.642358</td>\n",
              "      <td>0.376517</td>\n",
              "      <td>0.098404</td>\n",
              "      <td>0.00002</td>\n",
              "    </tr>\n",
              "    <tr>\n",
              "      <th>2</th>\n",
              "      <td>0.310798</td>\n",
              "      <td>0.000125</td>\n",
              "      <td>0.096307</td>\n",
              "      <td>0.096307</td>\n",
              "      <td>0.000000</td>\n",
              "      <td>0.000000</td>\n",
              "      <td>0.000125</td>\n",
              "      <td>0.000125</td>\n",
              "      <td>0.00000</td>\n",
              "      <td>0.000000</td>\n",
              "      <td>0.000000</td>\n",
              "      <td>0.001495</td>\n",
              "      <td>0.934207</td>\n",
              "      <td>0.077485</td>\n",
              "      <td>0.078135</td>\n",
              "      <td>0.00000</td>\n",
              "    </tr>\n",
              "    <tr>\n",
              "      <th>3</th>\n",
              "      <td>0.208887</td>\n",
              "      <td>0.000080</td>\n",
              "      <td>0.187872</td>\n",
              "      <td>0.187872</td>\n",
              "      <td>0.000000</td>\n",
              "      <td>0.025792</td>\n",
              "      <td>0.000010</td>\n",
              "      <td>0.000010</td>\n",
              "      <td>0.00000</td>\n",
              "      <td>0.000010</td>\n",
              "      <td>0.000125</td>\n",
              "      <td>0.000125</td>\n",
              "      <td>0.939988</td>\n",
              "      <td>0.000000</td>\n",
              "      <td>0.039147</td>\n",
              "      <td>0.00000</td>\n",
              "    </tr>\n",
              "    <tr>\n",
              "      <th>4</th>\n",
              "      <td>0.504298</td>\n",
              "      <td>0.000617</td>\n",
              "      <td>0.009867</td>\n",
              "      <td>0.009867</td>\n",
              "      <td>0.000000</td>\n",
              "      <td>0.000000</td>\n",
              "      <td>0.000051</td>\n",
              "      <td>0.000051</td>\n",
              "      <td>0.00000</td>\n",
              "      <td>0.000000</td>\n",
              "      <td>0.000000</td>\n",
              "      <td>0.000617</td>\n",
              "      <td>0.740060</td>\n",
              "      <td>0.418340</td>\n",
              "      <td>0.150967</td>\n",
              "      <td>0.00000</td>\n",
              "    </tr>\n",
              "  </tbody>\n",
              "</table>\n",
              "</div>\n",
              "      <button class=\"colab-df-convert\" onclick=\"convertToInteractive('df-370b2b19-b922-49e0-be86-972095cd0bcd')\"\n",
              "              title=\"Convert this dataframe to an interactive table.\"\n",
              "              style=\"display:none;\">\n",
              "        \n",
              "  <svg xmlns=\"http://www.w3.org/2000/svg\" height=\"24px\"viewBox=\"0 0 24 24\"\n",
              "       width=\"24px\">\n",
              "    <path d=\"M0 0h24v24H0V0z\" fill=\"none\"/>\n",
              "    <path d=\"M18.56 5.44l.94 2.06.94-2.06 2.06-.94-2.06-.94-.94-2.06-.94 2.06-2.06.94zm-11 1L8.5 8.5l.94-2.06 2.06-.94-2.06-.94L8.5 2.5l-.94 2.06-2.06.94zm10 10l.94 2.06.94-2.06 2.06-.94-2.06-.94-.94-2.06-.94 2.06-2.06.94z\"/><path d=\"M17.41 7.96l-1.37-1.37c-.4-.4-.92-.59-1.43-.59-.52 0-1.04.2-1.43.59L10.3 9.45l-7.72 7.72c-.78.78-.78 2.05 0 2.83L4 21.41c.39.39.9.59 1.41.59.51 0 1.02-.2 1.41-.59l7.78-7.78 2.81-2.81c.8-.78.8-2.07 0-2.86zM5.41 20L4 18.59l7.72-7.72 1.47 1.35L5.41 20z\"/>\n",
              "  </svg>\n",
              "      </button>\n",
              "      \n",
              "  <style>\n",
              "    .colab-df-container {\n",
              "      display:flex;\n",
              "      flex-wrap:wrap;\n",
              "      gap: 12px;\n",
              "    }\n",
              "\n",
              "    .colab-df-convert {\n",
              "      background-color: #E8F0FE;\n",
              "      border: none;\n",
              "      border-radius: 50%;\n",
              "      cursor: pointer;\n",
              "      display: none;\n",
              "      fill: #1967D2;\n",
              "      height: 32px;\n",
              "      padding: 0 0 0 0;\n",
              "      width: 32px;\n",
              "    }\n",
              "\n",
              "    .colab-df-convert:hover {\n",
              "      background-color: #E2EBFA;\n",
              "      box-shadow: 0px 1px 2px rgba(60, 64, 67, 0.3), 0px 1px 3px 1px rgba(60, 64, 67, 0.15);\n",
              "      fill: #174EA6;\n",
              "    }\n",
              "\n",
              "    [theme=dark] .colab-df-convert {\n",
              "      background-color: #3B4455;\n",
              "      fill: #D2E3FC;\n",
              "    }\n",
              "\n",
              "    [theme=dark] .colab-df-convert:hover {\n",
              "      background-color: #434B5C;\n",
              "      box-shadow: 0px 1px 3px 1px rgba(0, 0, 0, 0.15);\n",
              "      filter: drop-shadow(0px 1px 2px rgba(0, 0, 0, 0.3));\n",
              "      fill: #FFFFFF;\n",
              "    }\n",
              "  </style>\n",
              "\n",
              "      <script>\n",
              "        const buttonEl =\n",
              "          document.querySelector('#df-370b2b19-b922-49e0-be86-972095cd0bcd button.colab-df-convert');\n",
              "        buttonEl.style.display =\n",
              "          google.colab.kernel.accessAllowed ? 'block' : 'none';\n",
              "\n",
              "        async function convertToInteractive(key) {\n",
              "          const element = document.querySelector('#df-370b2b19-b922-49e0-be86-972095cd0bcd');\n",
              "          const dataTable =\n",
              "            await google.colab.kernel.invokeFunction('convertToInteractive',\n",
              "                                                     [key], {});\n",
              "          if (!dataTable) return;\n",
              "\n",
              "          const docLinkHtml = 'Like what you see? Visit the ' +\n",
              "            '<a target=\"_blank\" href=https://colab.research.google.com/notebooks/data_table.ipynb>data table notebook</a>'\n",
              "            + ' to learn more about interactive tables.';\n",
              "          element.innerHTML = '';\n",
              "          dataTable['output_type'] = 'display_data';\n",
              "          await google.colab.output.renderOutput(dataTable, element);\n",
              "          const docLink = document.createElement('div');\n",
              "          docLink.innerHTML = docLinkHtml;\n",
              "          element.appendChild(docLink);\n",
              "        }\n",
              "      </script>\n",
              "    </div>\n",
              "  </div>\n",
              "  "
            ],
            "text/plain": [
              "    BALANCO  FREQUENCIA_DE_BALANCO  ...  PAGAMENTOS_MINIMOS  PRC_PAGAMENTO_COMPLETO\n",
              "0  0.039356               0.000787  ...            0.134239                 0.00000\n",
              "1  0.293876               0.000083  ...            0.098404                 0.00002\n",
              "2  0.310798               0.000125  ...            0.078135                 0.00000\n",
              "3  0.208887               0.000080  ...            0.039147                 0.00000\n",
              "4  0.504298               0.000617  ...            0.150967                 0.00000\n",
              "\n",
              "[5 rows x 16 columns]"
            ]
          },
          "metadata": {},
          "execution_count": 4
        }
      ]
    },
    {
      "cell_type": "code",
      "source": [
        "from sklearn.cluster import KMeans\n",
        "from sklearn import metrics\n",
        "\n",
        "SEED = 5\n",
        "np.random.seed(SEED)\n",
        "\n",
        "# É importante instanciar o n_init, pois o KKmeans não é um agrupador deterministico, \n",
        "# o que significa que a cada execução, obtêm-se resultados diferentes. \n",
        "# n_init = 10 significa que o agrupador KKmeans irá retornar o mesmo valor 10x.\n",
        "# max_iter=300 significa o número máximo de interações que o algorítimo fará. \n",
        "agrupador = KMeans(n_clusters=5, n_init= 10, max_iter=300)\n",
        "# Aferindo o resultado, que já retorna os labels\n",
        "labels = agrupador.fit_predict(dados)\n",
        "\n",
        "from sklearn import metrics\n",
        "\n",
        "# Chamando o coeficiente de silhuta. \n",
        "# os labels atribui cada valor dos dados a um cluster.\n",
        "silhueta = metrics.silhouette_score(dados, labels, metric=\"euclidean\")\n",
        "print(silhueta)\n"
      ],
      "metadata": {
        "id": "N90RQQs0VwqH",
        "colab": {
          "base_uri": "https://localhost:8080/"
        },
        "outputId": "54c563be-44f2-4aed-a622-a8d5c2e65caf"
      },
      "execution_count": null,
      "outputs": [
        {
          "output_type": "stream",
          "name": "stdout",
          "text": [
            "0.3645219978094767\n"
          ]
        }
      ]
    },
    {
      "cell_type": "code",
      "source": [
        "# O resultado acima representa o valor do coeficiente de silhuta\n",
        "# O coeficiente apresenta resultados entre -1 e 1, sendo resultados\n",
        "# positivos tidos como bons, considerando que o determinado cluster \n",
        "# utilizado é válido. "
      ],
      "metadata": {
        "id": "-RaEzpsvnEs4"
      },
      "execution_count": null,
      "outputs": []
    },
    {
      "cell_type": "code",
      "source": [
        "# os labels atribui cada valor dos dados a um cluster\n",
        "# Um bom dbs situa-se mais perto de 0 possível, quando comparado a um tipo de baseline\n",
        "dbs = metrics.davies_bouldin_score(dados, labels)\n",
        "print(dbs)"
      ],
      "metadata": {
        "colab": {
          "base_uri": "https://localhost:8080/"
        },
        "id": "S9bawUgtwuQM",
        "outputId": "4a12eaa7-7f90-4db3-802b-e779598d9ef2"
      },
      "execution_count": null,
      "outputs": [
        {
          "output_type": "stream",
          "name": "stdout",
          "text": [
            "1.0759608810957069\n"
          ]
        }
      ]
    },
    {
      "cell_type": "code",
      "source": [
        "# Um bom calinski situa-se sobre o máximo valor possível quando comparado a um tipo de baseline\n",
        "calinski = metrics.calinski_harabasz_score(dados, labels)\n",
        "print(calinski)"
      ],
      "metadata": {
        "colab": {
          "base_uri": "https://localhost:8080/"
        },
        "id": "tnGsyeNZw4l9",
        "outputId": "0bbabcc7-7835-4be3-f525-1266ad7b786d"
      },
      "execution_count": null,
      "outputs": [
        {
          "output_type": "stream",
          "name": "stdout",
          "text": [
            "3431.8011174859953\n"
          ]
        }
      ]
    },
    {
      "cell_type": "code",
      "source": [
        "# Ok, tenho valores para a silhueta, o dbs e o callinski, mas quão bom são?\n",
        "# Para isso, eu irei fazer uma comparação relativa, na qual irei mudar a quantidade\n",
        "# de clusters do meu agrupador, que é o KMeans, como forma de encontrar a melhor\n",
        "# configuração do KMeans para executar, dessa forma, a clusterização. \n",
        "# Para tanto, criarei um método:\n",
        "\n",
        "def algorítimo_de_agrupamento(n_clusters, dataset):\n",
        "\n",
        "  np.random.seed(5)\n",
        "\n",
        "  agrupador = KMeans(n_clusters=n_clusters, n_init=10, max_iter=300)\n",
        "  labels = agrupador.fit_predict(dataset)\n",
        "\n",
        "  s = metrics.silhouette_score(dataset, labels, metric=\"euclidean\")\n",
        "  dbs = metrics.davies_bouldin_score(dataset, labels)\n",
        "  calinski = metrics.calinski_harabasz_score(dataset, labels)\n",
        "\n",
        "  print(\"O valor da silhueta é de:\", s)\n",
        "  print(\"O valor do índice de Davis Bouldin é de:\", dbs) \n",
        "  print(\"O valor do índice de Calinski-Harabasz é de:\", calinski)"
      ],
      "metadata": {
        "id": "XP1R54ms4Dk0"
      },
      "execution_count": null,
      "outputs": []
    },
    {
      "cell_type": "code",
      "source": [
        "algorítimo_de_agrupamento(5, dados)"
      ],
      "metadata": {
        "colab": {
          "base_uri": "https://localhost:8080/"
        },
        "id": "Co-Pa4ak8wgV",
        "outputId": "547f48f8-f068-4d3b-eb61-b9b0b15caa4b"
      },
      "execution_count": null,
      "outputs": [
        {
          "output_type": "stream",
          "name": "stdout",
          "text": [
            "O valor da silhueta é de: 0.3645219978094767\n",
            "O valor do índice de Davis Bouldin é de: 1.0759608810957069\n",
            "O valor do índice de Calinski-Harabasz é de: 3431.8011174859953\n"
          ]
        }
      ]
    },
    {
      "cell_type": "code",
      "source": [
        "random_data = np.random.rand(8950, 16)\n",
        "\n",
        "algorítimo_de_agrupamento(5, random_data)"
      ],
      "metadata": {
        "colab": {
          "base_uri": "https://localhost:8080/"
        },
        "id": "EEFa9orP9VM-",
        "outputId": "73a630ff-6e8a-46ea-f076-06dfc990029f"
      },
      "execution_count": null,
      "outputs": [
        {
          "output_type": "stream",
          "name": "stdout",
          "text": [
            "O valor da silhueta é de: 0.03959498095879946\n",
            "O valor do índice de Davis Bouldin é de: 3.485070381515475\n",
            "O valor do índice de Calinski-Harabasz é de: 302.9317044701063\n"
          ]
        }
      ]
    },
    {
      "cell_type": "code",
      "source": [
        "# Em comparação com o primeiro, feito por mim, e o segundo, \n",
        "# aleatoriezado pelo PC, percebe-se que o primeiro é melhor, \n",
        "# o que significa que esse agrupador passa nessa validação"
      ],
      "metadata": {
        "id": "o5tIppOm_hHV"
      },
      "execution_count": null,
      "outputs": []
    },
    {
      "cell_type": "code",
      "source": [
        "# Uma outra forma de validar é dividir a fonte de dados numa determinada \n",
        "# proporção, passar os valores divididos pelo agrupador e, depois, para os respectivos \n",
        "# \"validadores matemáticos\", no sentido em que, se cada porção ser similar a outra, \n",
        "# o agrupador é válido. \n",
        "\n",
        "set1, set2, set3 = np.array_split(dados, 3)\n",
        "\n",
        "algorítimo_de_agrupamento(5, set1)\n",
        "algorítimo_de_agrupamento(5, set2)\n",
        "algorítimo_de_agrupamento(5, set3)\n",
        "\n"
      ],
      "metadata": {
        "colab": {
          "base_uri": "https://localhost:8080/"
        },
        "id": "-UCy2raIDPP3",
        "outputId": "47d38f8d-fb95-4570-e1dd-77c623d60104"
      },
      "execution_count": null,
      "outputs": [
        {
          "output_type": "stream",
          "name": "stdout",
          "text": [
            "O valor da silhueta é de: 0.3688875009118462\n",
            "O valor do índice de Davis Bouldin é de: 1.0560676486660836\n",
            "O valor do índice de Calinski-Harabasz é de: 1204.0960326087893\n",
            "O valor da silhueta é de: 0.35406999696241026\n",
            "O valor do índice de Davis Bouldin é de: 1.1389554530299946\n",
            "O valor do índice de Calinski-Harabasz é de: 1194.9454119497243\n",
            "O valor da silhueta é de: 0.36713104970461446\n",
            "O valor do índice de Davis Bouldin é de: 1.0991014125845049\n",
            "O valor do índice de Calinski-Harabasz é de: 1167.5075975296127\n"
          ]
        }
      ]
    },
    {
      "cell_type": "code",
      "source": [
        "# Os valores são semelhantes, parecidos. Agora posso ir à interpretação. "
      ],
      "metadata": {
        "id": "GDVITgScD9We"
      },
      "execution_count": null,
      "outputs": []
    },
    {
      "cell_type": "code",
      "source": [
        "from matplotlib import figure\n",
        "import matplotlib.pyplot as plt\n",
        "\n",
        "plt.scatter(dados[\"COMPRAS\"], dados[\"PAGAMENTOS\"], c=labels, s=5, cmap='rainbow' )\n",
        "plt.xlabel(\"valor total pago\")\n",
        "plt.ylabel(\"valor total gasto\")\n",
        "plt.figure(figsize=(50,50))\n",
        "plt.show"
      ],
      "metadata": {
        "colab": {
          "base_uri": "https://localhost:8080/",
          "height": 314
        },
        "id": "UW7Oe8KuEDKV",
        "outputId": "5fa30834-d33f-4144-95eb-3c061f96de49"
      },
      "execution_count": null,
      "outputs": [
        {
          "output_type": "execute_result",
          "data": {
            "text/plain": [
              "<function matplotlib.pyplot.show>"
            ]
          },
          "metadata": {},
          "execution_count": 15
        },
        {
          "output_type": "display_data",
          "data": {
            "image/png": "[encoded data removed]",
            "text/plain": [
              "<Figure size 432x288 with 1 Axes>"
            ]
          },
          "metadata": {
            "needs_background": "light"
          }
        },
        {
          "output_type": "display_data",
          "data": {
            "text/plain": [
              "<Figure size 3600x3600 with 0 Axes>"
            ]
          },
          "metadata": {}
        }
      ]
    },
    {
      "cell_type": "code",
      "source": [
        "# Como a maneira de compreensão através da visualização gráfica\n",
        "# não é possível, farei de uma outra forma.\n",
        "from sklearn.cluster import KMeans\n",
        "\n",
        "SEED = 5\n",
        "np.random.seed(SEED)\n",
        "\n",
        "agrupador = KMeans(n_clusters=5, n_init= 10, max_iter=300)\n",
        "\n",
        "labels = agrupador.fit_predict(dados)\n",
        "\n",
        "# Analisando os centroids dos dados, consigo ver valores \n",
        "# correspondentes a cada cluster, aqui evidenciado pelo inicio e fim \n",
        "# colchetes. Cada coluna presente, representa uma coluna do dataframe. \n",
        "# O que procuramos são os valores que possuem uma maior variância em \n",
        "# relação ao seu mesmo representante de um outro cluster. Por exemplo, \n",
        "# tomando em conta os dois primeiros clusters, nota-se que a primeira coluna\n",
        "# conta com valores variando da seguinte forma:\n",
        "# 2.35306625e-01 e 5.04294070e-01, o que indica uma maior variância. \n",
        "# Já a segunda coluna, por sua vez:\n",
        "# 2.16352812e-04 e 2.72242076e-04, indicando uma menor variância. \n",
        "centroids = agrupador.cluster_centers_\n",
        "print(centroids)"
      ],
      "metadata": {
        "colab": {
          "base_uri": "https://localhost:8080/"
        },
        "id": "vGGWxkH-bkHB",
        "outputId": "747f2451-ea45-4d6a-eb4d-5f4f18749977"
      },
      "execution_count": null,
      "outputs": [
        {
          "output_type": "stream",
          "name": "stdout",
          "text": [
            "[[2.35306625e-01 2.16352812e-04 6.05163989e-02 3.44248410e-02\n",
            "  2.60967627e-02 3.99956952e-01 5.27259778e-05 2.05044082e-05\n",
            "  3.52934886e-05 6.54492579e-05 1.57058848e-03 1.12580417e-03\n",
            "  5.35234813e-01 5.97766487e-01 1.04466914e-01 2.77090123e-05]\n",
            " [6.90071773e-02 2.30718554e-04 1.21544417e-01 4.79816606e-02\n",
            "  7.36630157e-02 2.43125432e-02 1.72915820e-04 3.36789398e-05\n",
            "  1.40371107e-04 7.91422881e-06 1.23860850e-04 2.86468615e-03\n",
            "  9.43573334e-01 1.53792838e-01 5.68347988e-02 7.61725600e-05]\n",
            " [5.04231090e-01 2.72311689e-04 6.17321425e-02 3.62269020e-02\n",
            "  2.55269536e-02 2.52702410e-01 6.72689504e-05 2.56975193e-05\n",
            "  4.50239293e-05 5.74188452e-05 1.15642722e-03 1.33088960e-03\n",
            "  7.19333925e-01 1.66164378e-01 1.79180227e-01 5.52303554e-07]\n",
            " [1.59999628e-01 2.45301618e-04 4.38629300e-01 2.57109259e-01\n",
            "  1.81691775e-01 2.58728121e-02 2.04397971e-04 8.90423829e-05\n",
            "  1.50590954e-04 9.39341912e-06 1.69901859e-04 6.17457556e-03\n",
            "  6.03719056e-01 4.02576568e-01 8.54459126e-02 7.19457109e-05]\n",
            " [3.32918803e-01 2.68423552e-04 1.58240376e-01 3.63059801e-02\n",
            "  1.22319068e-01 5.83557153e-02 1.66754597e-04 2.64938445e-05\n",
            "  1.47063187e-04 1.93217566e-05 4.27934836e-04 3.86197017e-03\n",
            "  3.76718873e-01 2.51861450e-01 6.80311114e-01 4.23993819e-06]]\n"
          ]
        }
      ]
    },
    {
      "cell_type": "code",
      "source": [
        "max = len(centroids[0])\n",
        "for i in range(max):\n",
        "    print(dados.columns.values[i],\"\\n{:.4f}\".format(centroids[:, i].var()))"
      ],
      "metadata": {
        "colab": {
          "base_uri": "https://localhost:8080/"
        },
        "id": "8BJD2Sd3b0Ed",
        "outputId": "9d4807f1-ec69-4323-93c4-885cf4f36a97"
      },
      "execution_count": null,
      "outputs": [
        {
          "output_type": "stream",
          "name": "stdout",
          "text": [
            "BALANCO \n",
            "0.0224\n",
            "FREQUENCIA_DE_BALANCO \n",
            "0.0000\n",
            "COMPRAS \n",
            "0.0197\n",
            "COMPRA_A_VISTA \n",
            "0.0077\n",
            "PARCELAS_DE_COMPRAS \n",
            "0.0036\n",
            "ADIANTAMENTO_DE_DINHEIRO \n",
            "0.0225\n",
            "FREQUENCIA_DE_COMPRAS \n",
            "0.0000\n",
            "FREQUENCIA_DE_COMPRAS_A_VISTA \n",
            "0.0000\n",
            "FREQUENCIA_DE_PARCELAS_DE_COMPRAS \n",
            "0.0000\n",
            "FREQUENCIA_DE_ADIANTAMENTO_DE_DINHEIRO \n",
            "0.0000\n",
            "ADIANTAMENTO_DE_DINHEIRO_TRX \n",
            "0.0000\n",
            "COMPRAS_TRX \n",
            "0.0000\n",
            "LIMITE_DE_CREDITO \n",
            "0.0360\n",
            "PAGAMENTOS \n",
            "0.0280\n",
            "PAGAMENTOS_MINIMOS \n",
            "0.0543\n",
            "PRC_PAGAMENTO_COMPLETO \n",
            "0.0000\n"
          ]
        }
      ]
    },
    {
      "cell_type": "code",
      "source": [
        "# Valores usados:\n",
        "# Balanco, Adiantamento_de_dinheiro, Compras, Limite_de_crédito, Pagamentos"
      ],
      "metadata": {
        "id": "vZKLECLpilDZ"
      },
      "execution_count": null,
      "outputs": []
    },
    {
      "cell_type": "code",
      "source": [
        "dados_raw[\"cluster\"] = labels\n",
        "descricao = dados_raw.groupby(\"cluster\")[\"BALANCO\", \"ADIANTAMENTO_DE_DINHEIRO\", \"COMPRAS\", \"LIMITE_DE_CREDITO\", \"PAGAMENTOS\"]\n",
        "n_clientes = descricao.size()\n",
        "descricao = descricao.mean()\n",
        "dados[\"N_CLIENTES\"] = n_clientes\n",
        "print(descricao)\n",
        "\n"
      ],
      "metadata": {
        "id": "4FlimPcrimVS",
        "colab": {
          "base_uri": "https://localhost:8080/"
        },
        "outputId": "ff104d7e-74fb-41ed-d6c1-4cb1002ffc40"
      },
      "execution_count": null,
      "outputs": [
        {
          "output_type": "stream",
          "name": "stdout",
          "text": [
            "             BALANCO  ADIANTAMENTO_DE_DINHEIRO  ...  LIMITE_DE_CREDITO   PAGAMENTOS\n",
            "cluster                                         ...                                \n",
            "0        1796.066730               3267.660346  ...        3981.537441  4710.615663\n",
            "1         443.746756                141.482978  ...        5130.547795   814.294226\n",
            "2        3038.132314               1636.114441  ...        4496.336858   968.599396\n",
            "3        1142.320861                183.376625  ...        4097.306540  3036.763695\n",
            "4        1987.501586                421.129352  ...        2227.737226  1336.238911\n",
            "\n",
            "[5 rows x 5 columns]\n"
          ]
        },
        {
          "output_type": "stream",
          "name": "stderr",
          "text": [
            "/usr/local/lib/python3.7/dist-packages/ipykernel_launcher.py:2: FutureWarning: Indexing with multiple keys (implicitly converted to a tuple of keys) will be deprecated, use a list instead.\n",
            "  \n"
          ]
        }
      ]
    },
    {
      "cell_type": "code",
      "source": [
        "# CLUSTER 0: Clientes que gastam pouco.\n",
        "# CLUSTER 1: Clientes que mais gastam. O foco deles é saque.\n",
        "# CLUSTER 2: Clientes que gastam muito com compras.\n",
        "# CLUSTER 3: Clientes que gastam muito com saques.\n",
        "# CLUSTER 4:"
      ],
      "metadata": {
        "id": "6ZcC26xV6ZZH"
      },
      "execution_count": null,
      "outputs": []
    },
    {
      "cell_type": "code",
      "source": [
        "# CLUSTER 0: Clientes que gastam pouco. Clientes com o maior limite. Bons pagadores. Maior número de clientes.\n",
        "# CLUSTER 1: Clientes que mais gastam. O foco deles é o saque. Piores pagadores. Boa quantidade de clientes.\n",
        "# CLUSTER 2: Clientes que gastam muito com compras. Melhores pagadores.\n",
        "# CLUSTER 3: Clientes que gastam muito com saques. Pagam as vezes.\n",
        "# CLUSTER 4: Clientes com o menor limite. Não são bons pagadores. Menor quantidade de clientes."
      ],
      "metadata": {
        "id": "ZtpTT-do6B-x"
      },
      "execution_count": null,
      "outputs": []
    },
    {
      "cell_type": "code",
      "source": [
        ""
      ],
      "metadata": {
        "id": "jO5WxUX06lLc"
      },
      "execution_count": null,
      "outputs": []
    }
  ]
}