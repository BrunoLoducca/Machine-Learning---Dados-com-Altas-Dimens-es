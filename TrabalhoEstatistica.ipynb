{
  "nbformat": 4,
  "nbformat_minor": 0,
  "metadata": {
    "colab": {
      "provenance": [],
      "authorship_tag": "ABX9TyPaikxQgp3S1fLsOVDKDslO",
      "include_colab_link": true
    },
    "kernelspec": {
      "name": "ir",
      "display_name": "R"
    },
    "language_info": {
      "name": "R"
    }
  },
  "cells": [
    {
      "cell_type": "markdown",
      "metadata": {
        "id": "view-in-github",
        "colab_type": "text"
      },
      "source": [
        "<a href=\"https://colab.research.google.com/github/BrunoLoducca/Machine-Learning---Dados-com-Altas-Dimens-es/blob/main/TrabalhoEstatistica.ipynb\" target=\"_parent\"><img src=\"https://colab.research.google.com/assets/colab-badge.svg\" alt=\"Open In Colab\"/></a>"
      ]
    },
    {
      "cell_type": "code",
      "execution_count": 1,
      "metadata": {
        "colab": {
          "base_uri": "https://localhost:8080/",
          "height": 410
        },
        "id": "vRIp9RNETUvs",
        "outputId": "1be88e5e-1b72-45b5-dc0a-a76f99463655"
      },
      "outputs": [
        {
          "output_type": "display_data",
          "data": {
            "text/html": [
              "<table class=\"dataframe\">\n",
              "<caption>A data.frame: 6 × 43</caption>\n",
              "<thead>\n",
              "\t<tr><th></th><th scope=col>Ano</th><th scope=col>Código.da.Grande.Região</th><th scope=col>Nome.da.Grande.Região</th><th scope=col>Código.da.Unidade.da.Federação</th><th scope=col>Sigla.da.Unidade.da.Federação</th><th scope=col>Nome.da.Unidade.da.Federação</th><th scope=col>Código.do.Município</th><th scope=col>Nome.do.Município</th><th scope=col>Região.Metropolitana</th><th scope=col>Código.da.Mesorregião</th><th scope=col>⋯</th><th scope=col>Valor.adicionado.bruto.da.Indústria..a.preços.correntes..R..1.000.</th><th scope=col>Valor.adicionado.bruto.dos.Serviços..a.preços.correntes....exceto.Administração..defesa..educação.e.saúde.públicas.e.seguridade.social..R..1.000.</th><th scope=col>Valor.adicionado.bruto.da.Administração..defesa..educação.e.saúde.públicas.e.seguridade.social...a.preços.correntes..R..1.000.</th><th scope=col>Valor.adicionado.bruto.total...a.preços.correntes..R..1.000.</th><th scope=col>Impostos..líquidos.de.subsídios..sobre.produtos...a.preços.correntes..R..1.000.</th><th scope=col>Produto.Interno.Bruto...a.preços.correntes..R..1.000.</th><th scope=col>Produto.Interno.Bruto.per.capita...a.preços.correntes..R..1.00.</th><th scope=col>Atividade.com.maior.valor.adicionado.bruto</th><th scope=col>Atividade.com.segundo.maior.valor.adicionado.bruto</th><th scope=col>Atividade.com.terceiro.maior.valor.adicionado.bruto</th></tr>\n",
              "\t<tr><th></th><th scope=col>&lt;int&gt;</th><th scope=col>&lt;int&gt;</th><th scope=col>&lt;chr&gt;</th><th scope=col>&lt;int&gt;</th><th scope=col>&lt;chr&gt;</th><th scope=col>&lt;chr&gt;</th><th scope=col>&lt;int&gt;</th><th scope=col>&lt;chr&gt;</th><th scope=col>&lt;chr&gt;</th><th scope=col>&lt;int&gt;</th><th scope=col>⋯</th><th scope=col>&lt;chr&gt;</th><th scope=col>&lt;chr&gt;</th><th scope=col>&lt;chr&gt;</th><th scope=col>&lt;chr&gt;</th><th scope=col>&lt;chr&gt;</th><th scope=col>&lt;chr&gt;</th><th scope=col>&lt;chr&gt;</th><th scope=col>&lt;chr&gt;</th><th scope=col>&lt;chr&gt;</th><th scope=col>&lt;chr&gt;</th></tr>\n",
              "</thead>\n",
              "<tbody>\n",
              "\t<tr><th scope=row>1</th><td>2020</td><td>1</td><td>Norte</td><td>11</td><td>RO</td><td>Rondônia</td><td>1100015</td><td>Alta Floresta D'Oeste</td><td></td><td>1102</td><td>⋯</td><td>  20,716  </td><td>  150,192   </td><td>  160,860 </td><td>  535,163   </td><td>  35,109  </td><td>  570,272   </td><td>  25,091.18 </td><td>Administração, defesa, educação e saúde públicas e seguridade social</td><td>Pecuária, inclusive apoio à pecuária                                </td><td>Demais serviços                                                     </td></tr>\n",
              "\t<tr><th scope=row>2</th><td>2020</td><td>1</td><td>Norte</td><td>11</td><td>RO</td><td>Rondônia</td><td>1100023</td><td>Ariquemes            </td><td></td><td>1102</td><td>⋯</td><td>  404,752 </td><td>  1,207,405 </td><td>  710,513 </td><td>  2,522,393 </td><td>  295,656 </td><td>  2,818,049 </td><td>  25,730.20 </td><td>Demais serviços                                                     </td><td>Administração, defesa, educação e saúde públicas e seguridade social</td><td>Comércio e reparação de veículos automotores e motocicletas         </td></tr>\n",
              "\t<tr><th scope=row>3</th><td>2020</td><td>1</td><td>Norte</td><td>11</td><td>RO</td><td>Rondônia</td><td>1100031</td><td>Cabixi               </td><td></td><td>1102</td><td>⋯</td><td>  5,438   </td><td>  28,667    </td><td>  44,671  </td><td>  159,953   </td><td>  7,237   </td><td>  167,190   </td><td>  32,226.25 </td><td>Administração, defesa, educação e saúde públicas e seguridade social</td><td>Pecuária, inclusive apoio à pecuária                                </td><td>Agricultura, inclusive apoio à agricultura e a pós colheita         </td></tr>\n",
              "\t<tr><th scope=row>4</th><td>2020</td><td>1</td><td>Norte</td><td>11</td><td>RO</td><td>Rondônia</td><td>1100049</td><td>Cacoal               </td><td></td><td>1102</td><td>⋯</td><td>  275,537 </td><td>  1,157,344 </td><td>  575,806 </td><td>  2,244,902 </td><td>  274,451 </td><td>  2,519,353 </td><td>  29,331.29 </td><td>Demais serviços                                                     </td><td>Administração, defesa, educação e saúde públicas e seguridade social</td><td>Comércio e reparação de veículos automotores e motocicletas         </td></tr>\n",
              "\t<tr><th scope=row>5</th><td>2020</td><td>1</td><td>Norte</td><td>11</td><td>RO</td><td>Rondônia</td><td>1100056</td><td>Cerejeiras           </td><td></td><td>1102</td><td>⋯</td><td>  23,582  </td><td>  276,755   </td><td>  115,652 </td><td>  510,747   </td><td>  89,923  </td><td>  600,670   </td><td>  37,069.25 </td><td>Comércio e reparação de veículos automotores e motocicletas         </td><td>Demais serviços                                                     </td><td>Administração, defesa, educação e saúde públicas e seguridade social</td></tr>\n",
              "\t<tr><th scope=row>6</th><td>2020</td><td>1</td><td>Norte</td><td>11</td><td>RO</td><td>Rondônia</td><td>1100064</td><td>Colorado do Oeste    </td><td></td><td>1102</td><td>⋯</td><td>  24,322  </td><td>  118,529   </td><td>  111,082 </td><td>  342,856   </td><td>  24,075  </td><td>  366,931   </td><td>  23,605.94 </td><td>Administração, defesa, educação e saúde públicas e seguridade social</td><td>Demais serviços                                                     </td><td>Pecuária, inclusive apoio à pecuária                                </td></tr>\n",
              "</tbody>\n",
              "</table>\n"
            ],
            "text/markdown": "\nA data.frame: 6 × 43\n\n| <!--/--> | Ano &lt;int&gt; | Código.da.Grande.Região &lt;int&gt; | Nome.da.Grande.Região &lt;chr&gt; | Código.da.Unidade.da.Federação &lt;int&gt; | Sigla.da.Unidade.da.Federação &lt;chr&gt; | Nome.da.Unidade.da.Federação &lt;chr&gt; | Código.do.Município &lt;int&gt; | Nome.do.Município &lt;chr&gt; | Região.Metropolitana &lt;chr&gt; | Código.da.Mesorregião &lt;int&gt; | ⋯ ⋯ | Valor.adicionado.bruto.da.Indústria..a.preços.correntes..R..1.000. &lt;chr&gt; | Valor.adicionado.bruto.dos.Serviços..a.preços.correntes....exceto.Administração..defesa..educação.e.saúde.públicas.e.seguridade.social..R..1.000. &lt;chr&gt; | Valor.adicionado.bruto.da.Administração..defesa..educação.e.saúde.públicas.e.seguridade.social...a.preços.correntes..R..1.000. &lt;chr&gt; | Valor.adicionado.bruto.total...a.preços.correntes..R..1.000. &lt;chr&gt; | Impostos..líquidos.de.subsídios..sobre.produtos...a.preços.correntes..R..1.000. &lt;chr&gt; | Produto.Interno.Bruto...a.preços.correntes..R..1.000. &lt;chr&gt; | Produto.Interno.Bruto.per.capita...a.preços.correntes..R..1.00. &lt;chr&gt; | Atividade.com.maior.valor.adicionado.bruto &lt;chr&gt; | Atividade.com.segundo.maior.valor.adicionado.bruto &lt;chr&gt; | Atividade.com.terceiro.maior.valor.adicionado.bruto &lt;chr&gt; |\n|---|---|---|---|---|---|---|---|---|---|---|---|---|---|---|---|---|---|---|---|---|---|\n| 1 | 2020 | 1 | Norte | 11 | RO | Rondônia | 1100015 | Alta Floresta D'Oeste | <!----> | 1102 | ⋯ |   20,716   |   150,192    |   160,860  |   535,163    |   35,109   |   570,272    |   25,091.18  | Administração, defesa, educação e saúde públicas e seguridade social | Pecuária, inclusive apoio à pecuária                                 | Demais serviços                                                      |\n| 2 | 2020 | 1 | Norte | 11 | RO | Rondônia | 1100023 | Ariquemes             | <!----> | 1102 | ⋯ |   404,752  |   1,207,405  |   710,513  |   2,522,393  |   295,656  |   2,818,049  |   25,730.20  | Demais serviços                                                      | Administração, defesa, educação e saúde públicas e seguridade social | Comércio e reparação de veículos automotores e motocicletas          |\n| 3 | 2020 | 1 | Norte | 11 | RO | Rondônia | 1100031 | Cabixi                | <!----> | 1102 | ⋯ |   5,438    |   28,667     |   44,671   |   159,953    |   7,237    |   167,190    |   32,226.25  | Administração, defesa, educação e saúde públicas e seguridade social | Pecuária, inclusive apoio à pecuária                                 | Agricultura, inclusive apoio à agricultura e a pós colheita          |\n| 4 | 2020 | 1 | Norte | 11 | RO | Rondônia | 1100049 | Cacoal                | <!----> | 1102 | ⋯ |   275,537  |   1,157,344  |   575,806  |   2,244,902  |   274,451  |   2,519,353  |   29,331.29  | Demais serviços                                                      | Administração, defesa, educação e saúde públicas e seguridade social | Comércio e reparação de veículos automotores e motocicletas          |\n| 5 | 2020 | 1 | Norte | 11 | RO | Rondônia | 1100056 | Cerejeiras            | <!----> | 1102 | ⋯ |   23,582   |   276,755    |   115,652  |   510,747    |   89,923   |   600,670    |   37,069.25  | Comércio e reparação de veículos automotores e motocicletas          | Demais serviços                                                      | Administração, defesa, educação e saúde públicas e seguridade social |\n| 6 | 2020 | 1 | Norte | 11 | RO | Rondônia | 1100064 | Colorado do Oeste     | <!----> | 1102 | ⋯ |   24,322   |   118,529    |   111,082  |   342,856    |   24,075   |   366,931    |   23,605.94  | Administração, defesa, educação e saúde públicas e seguridade social | Demais serviços                                                      | Pecuária, inclusive apoio à pecuária                                 |\n\n",
            "text/latex": "A data.frame: 6 × 43\n\\begin{tabular}{r|lllllllllllllllllllll}\n  & Ano & Código.da.Grande.Região & Nome.da.Grande.Região & Código.da.Unidade.da.Federação & Sigla.da.Unidade.da.Federação & Nome.da.Unidade.da.Federação & Código.do.Município & Nome.do.Município & Região.Metropolitana & Código.da.Mesorregião & ⋯ & Valor.adicionado.bruto.da.Indústria..a.preços.correntes..R..1.000. & Valor.adicionado.bruto.dos.Serviços..a.preços.correntes....exceto.Administração..defesa..educação.e.saúde.públicas.e.seguridade.social..R..1.000. & Valor.adicionado.bruto.da.Administração..defesa..educação.e.saúde.públicas.e.seguridade.social...a.preços.correntes..R..1.000. & Valor.adicionado.bruto.total...a.preços.correntes..R..1.000. & Impostos..líquidos.de.subsídios..sobre.produtos...a.preços.correntes..R..1.000. & Produto.Interno.Bruto...a.preços.correntes..R..1.000. & Produto.Interno.Bruto.per.capita...a.preços.correntes..R..1.00. & Atividade.com.maior.valor.adicionado.bruto & Atividade.com.segundo.maior.valor.adicionado.bruto & Atividade.com.terceiro.maior.valor.adicionado.bruto\\\\\n  & <int> & <int> & <chr> & <int> & <chr> & <chr> & <int> & <chr> & <chr> & <int> & ⋯ & <chr> & <chr> & <chr> & <chr> & <chr> & <chr> & <chr> & <chr> & <chr> & <chr>\\\\\n\\hline\n\t1 & 2020 & 1 & Norte & 11 & RO & Rondônia & 1100015 & Alta Floresta D'Oeste &  & 1102 & ⋯ &   20,716   &   150,192    &   160,860  &   535,163    &   35,109   &   570,272    &   25,091.18  & Administração, defesa, educação e saúde públicas e seguridade social & Pecuária, inclusive apoio à pecuária                                 & Demais serviços                                                     \\\\\n\t2 & 2020 & 1 & Norte & 11 & RO & Rondônia & 1100023 & Ariquemes             &  & 1102 & ⋯ &   404,752  &   1,207,405  &   710,513  &   2,522,393  &   295,656  &   2,818,049  &   25,730.20  & Demais serviços                                                      & Administração, defesa, educação e saúde públicas e seguridade social & Comércio e reparação de veículos automotores e motocicletas         \\\\\n\t3 & 2020 & 1 & Norte & 11 & RO & Rondônia & 1100031 & Cabixi                &  & 1102 & ⋯ &   5,438    &   28,667     &   44,671   &   159,953    &   7,237    &   167,190    &   32,226.25  & Administração, defesa, educação e saúde públicas e seguridade social & Pecuária, inclusive apoio à pecuária                                 & Agricultura, inclusive apoio à agricultura e a pós colheita         \\\\\n\t4 & 2020 & 1 & Norte & 11 & RO & Rondônia & 1100049 & Cacoal                &  & 1102 & ⋯ &   275,537  &   1,157,344  &   575,806  &   2,244,902  &   274,451  &   2,519,353  &   29,331.29  & Demais serviços                                                      & Administração, defesa, educação e saúde públicas e seguridade social & Comércio e reparação de veículos automotores e motocicletas         \\\\\n\t5 & 2020 & 1 & Norte & 11 & RO & Rondônia & 1100056 & Cerejeiras            &  & 1102 & ⋯ &   23,582   &   276,755    &   115,652  &   510,747    &   89,923   &   600,670    &   37,069.25  & Comércio e reparação de veículos automotores e motocicletas          & Demais serviços                                                      & Administração, defesa, educação e saúde públicas e seguridade social\\\\\n\t6 & 2020 & 1 & Norte & 11 & RO & Rondônia & 1100064 & Colorado do Oeste     &  & 1102 & ⋯ &   24,322   &   118,529    &   111,082  &   342,856    &   24,075   &   366,931    &   23,605.94  & Administração, defesa, educação e saúde públicas e seguridade social & Demais serviços                                                      & Pecuária, inclusive apoio à pecuária                                \\\\\n\\end{tabular}\n",
            "text/plain": [
              "  Ano  Código.da.Grande.Região Nome.da.Grande.Região\n",
              "1 2020 1                       Norte                \n",
              "2 2020 1                       Norte                \n",
              "3 2020 1                       Norte                \n",
              "4 2020 1                       Norte                \n",
              "5 2020 1                       Norte                \n",
              "6 2020 1                       Norte                \n",
              "  Código.da.Unidade.da.Federação Sigla.da.Unidade.da.Federação\n",
              "1 11                             RO                           \n",
              "2 11                             RO                           \n",
              "3 11                             RO                           \n",
              "4 11                             RO                           \n",
              "5 11                             RO                           \n",
              "6 11                             RO                           \n",
              "  Nome.da.Unidade.da.Federação Código.do.Município Nome.do.Município    \n",
              "1 Rondônia                     1100015             Alta Floresta D'Oeste\n",
              "2 Rondônia                     1100023             Ariquemes            \n",
              "3 Rondônia                     1100031             Cabixi               \n",
              "4 Rondônia                     1100049             Cacoal               \n",
              "5 Rondônia                     1100056             Cerejeiras           \n",
              "6 Rondônia                     1100064             Colorado do Oeste    \n",
              "  Região.Metropolitana Código.da.Mesorregião ⋯\n",
              "1                      1102                  ⋯\n",
              "2                      1102                  ⋯\n",
              "3                      1102                  ⋯\n",
              "4                      1102                  ⋯\n",
              "5                      1102                  ⋯\n",
              "6                      1102                  ⋯\n",
              "  Valor.adicionado.bruto.da.Indústria..a.preços.correntes..R..1.000.\n",
              "1   20,716                                                          \n",
              "2   404,752                                                         \n",
              "3   5,438                                                           \n",
              "4   275,537                                                         \n",
              "5   23,582                                                          \n",
              "6   24,322                                                          \n",
              "  Valor.adicionado.bruto.dos.Serviços..a.preços.correntes....exceto.Administração..defesa..educação.e.saúde.públicas.e.seguridade.social..R..1.000.\n",
              "1   150,192                                                                                                                                        \n",
              "2   1,207,405                                                                                                                                      \n",
              "3   28,667                                                                                                                                         \n",
              "4   1,157,344                                                                                                                                      \n",
              "5   276,755                                                                                                                                        \n",
              "6   118,529                                                                                                                                        \n",
              "  Valor.adicionado.bruto.da.Administração..defesa..educação.e.saúde.públicas.e.seguridade.social...a.preços.correntes..R..1.000.\n",
              "1   160,860                                                                                                                     \n",
              "2   710,513                                                                                                                     \n",
              "3   44,671                                                                                                                      \n",
              "4   575,806                                                                                                                     \n",
              "5   115,652                                                                                                                     \n",
              "6   111,082                                                                                                                     \n",
              "  Valor.adicionado.bruto.total...a.preços.correntes..R..1.000.\n",
              "1   535,163                                                   \n",
              "2   2,522,393                                                 \n",
              "3   159,953                                                   \n",
              "4   2,244,902                                                 \n",
              "5   510,747                                                   \n",
              "6   342,856                                                   \n",
              "  Impostos..líquidos.de.subsídios..sobre.produtos...a.preços.correntes..R..1.000.\n",
              "1   35,109                                                                       \n",
              "2   295,656                                                                      \n",
              "3   7,237                                                                        \n",
              "4   274,451                                                                      \n",
              "5   89,923                                                                       \n",
              "6   24,075                                                                       \n",
              "  Produto.Interno.Bruto...a.preços.correntes..R..1.000.\n",
              "1   570,272                                            \n",
              "2   2,818,049                                          \n",
              "3   167,190                                            \n",
              "4   2,519,353                                          \n",
              "5   600,670                                            \n",
              "6   366,931                                            \n",
              "  Produto.Interno.Bruto.per.capita...a.preços.correntes..R..1.00.\n",
              "1   25,091.18                                                    \n",
              "2   25,730.20                                                    \n",
              "3   32,226.25                                                    \n",
              "4   29,331.29                                                    \n",
              "5   37,069.25                                                    \n",
              "6   23,605.94                                                    \n",
              "  Atividade.com.maior.valor.adicionado.bruto                          \n",
              "1 Administração, defesa, educação e saúde públicas e seguridade social\n",
              "2 Demais serviços                                                     \n",
              "3 Administração, defesa, educação e saúde públicas e seguridade social\n",
              "4 Demais serviços                                                     \n",
              "5 Comércio e reparação de veículos automotores e motocicletas         \n",
              "6 Administração, defesa, educação e saúde públicas e seguridade social\n",
              "  Atividade.com.segundo.maior.valor.adicionado.bruto                  \n",
              "1 Pecuária, inclusive apoio à pecuária                                \n",
              "2 Administração, defesa, educação e saúde públicas e seguridade social\n",
              "3 Pecuária, inclusive apoio à pecuária                                \n",
              "4 Administração, defesa, educação e saúde públicas e seguridade social\n",
              "5 Demais serviços                                                     \n",
              "6 Demais serviços                                                     \n",
              "  Atividade.com.terceiro.maior.valor.adicionado.bruto                 \n",
              "1 Demais serviços                                                     \n",
              "2 Comércio e reparação de veículos automotores e motocicletas         \n",
              "3 Agricultura, inclusive apoio à agricultura e a pós colheita         \n",
              "4 Comércio e reparação de veículos automotores e motocicletas         \n",
              "5 Administração, defesa, educação e saúde públicas e seguridade social\n",
              "6 Pecuária, inclusive apoio à pecuária                                "
            ]
          },
          "metadata": {}
        }
      ],
      "source": [
        "pib_cidades = read.csv(\"PIB-2020-CIDADES-_1_.csv\")\n",
        "\n",
        "head(pib_cidades)"
      ]
    },
    {
      "cell_type": "code",
      "source": [
        "colnames(pib_cidades)"
      ],
      "metadata": {
        "colab": {
          "base_uri": "https://localhost:8080/",
          "height": 225
        },
        "id": "MVWjrrsiTrBG",
        "outputId": "a2659a0d-fa52-4807-b670-0633688b55bc"
      },
      "execution_count": 2,
      "outputs": [
        {
          "output_type": "display_data",
          "data": {
            "text/html": [
              "<style>\n",
              ".list-inline {list-style: none; margin:0; padding: 0}\n",
              ".list-inline>li {display: inline-block}\n",
              ".list-inline>li:not(:last-child)::after {content: \"\\00b7\"; padding: 0 .5ex}\n",
              "</style>\n",
              "<ol class=list-inline><li>'Ano'</li><li>'Código.da.Grande.Região'</li><li>'Nome.da.Grande.Região'</li><li>'Código.da.Unidade.da.Federação'</li><li>'Sigla.da.Unidade.da.Federação'</li><li>'Nome.da.Unidade.da.Federação'</li><li>'Código.do.Município'</li><li>'Nome.do.Município'</li><li>'Região.Metropolitana'</li><li>'Código.da.Mesorregião'</li><li>'Nome.da.Mesorregião'</li><li>'Código.da.Microrregião'</li><li>'Nome.da.Microrregião'</li><li>'Código.da.Região.Geográfica.Imediata'</li><li>'Nome.da.Região.Geográfica.Imediata'</li><li>'Município.da.Região.Geográfica.Imediata'</li><li>'Código.da.Região.Geográfica.Intermediária'</li><li>'Nome.da.Região.Geográfica.Intermediária'</li><li>'Município.da.Região.Geográfica.Intermediária'</li><li>'Código.Concentração.Urbana'</li><li>'Nome.Concentração.Urbana'</li><li>'Tipo.Concentração.Urbana'</li><li>'Código.Arranjo.Populacional'</li><li>'Nome.Arranjo.Populacional'</li><li>'Hierarquia.Urbana'</li><li>'Hierarquia.Urbana..principais.categorias.'</li><li>'Código.da.Região.Rural'</li><li>'Nome.da.Região.Rural'</li><li>'Região.rural..segundo.classificação.do.núcleo.'</li><li>'Amazônia.Legal'</li><li>'Semiárido'</li><li>'Cidade.Região.de.São.Paulo'</li><li>'Valor.adicionado.bruto.da.Agropecuária...a.preços.correntes..R..1.000.'</li><li>'Valor.adicionado.bruto.da.Indústria..a.preços.correntes..R..1.000.'</li><li>'Valor.adicionado.bruto.dos.Serviços..a.preços.correntes....exceto.Administração..defesa..educação.e.saúde.públicas.e.seguridade.social..R..1.000.'</li><li>'Valor.adicionado.bruto.da.Administração..defesa..educação.e.saúde.públicas.e.seguridade.social...a.preços.correntes..R..1.000.'</li><li>'Valor.adicionado.bruto.total...a.preços.correntes..R..1.000.'</li><li>'Impostos..líquidos.de.subsídios..sobre.produtos...a.preços.correntes..R..1.000.'</li><li>'Produto.Interno.Bruto...a.preços.correntes..R..1.000.'</li><li>'Produto.Interno.Bruto.per.capita...a.preços.correntes..R..1.00.'</li><li>'Atividade.com.maior.valor.adicionado.bruto'</li><li>'Atividade.com.segundo.maior.valor.adicionado.bruto'</li><li>'Atividade.com.terceiro.maior.valor.adicionado.bruto'</li></ol>\n"
            ],
            "text/markdown": "1. 'Ano'\n2. 'Código.da.Grande.Região'\n3. 'Nome.da.Grande.Região'\n4. 'Código.da.Unidade.da.Federação'\n5. 'Sigla.da.Unidade.da.Federação'\n6. 'Nome.da.Unidade.da.Federação'\n7. 'Código.do.Município'\n8. 'Nome.do.Município'\n9. 'Região.Metropolitana'\n10. 'Código.da.Mesorregião'\n11. 'Nome.da.Mesorregião'\n12. 'Código.da.Microrregião'\n13. 'Nome.da.Microrregião'\n14. 'Código.da.Região.Geográfica.Imediata'\n15. 'Nome.da.Região.Geográfica.Imediata'\n16. 'Município.da.Região.Geográfica.Imediata'\n17. 'Código.da.Região.Geográfica.Intermediária'\n18. 'Nome.da.Região.Geográfica.Intermediária'\n19. 'Município.da.Região.Geográfica.Intermediária'\n20. 'Código.Concentração.Urbana'\n21. 'Nome.Concentração.Urbana'\n22. 'Tipo.Concentração.Urbana'\n23. 'Código.Arranjo.Populacional'\n24. 'Nome.Arranjo.Populacional'\n25. 'Hierarquia.Urbana'\n26. 'Hierarquia.Urbana..principais.categorias.'\n27. 'Código.da.Região.Rural'\n28. 'Nome.da.Região.Rural'\n29. 'Região.rural..segundo.classificação.do.núcleo.'\n30. 'Amazônia.Legal'\n31. 'Semiárido'\n32. 'Cidade.Região.de.São.Paulo'\n33. 'Valor.adicionado.bruto.da.Agropecuária...a.preços.correntes..R..1.000.'\n34. 'Valor.adicionado.bruto.da.Indústria..a.preços.correntes..R..1.000.'\n35. 'Valor.adicionado.bruto.dos.Serviços..a.preços.correntes....exceto.Administração..defesa..educação.e.saúde.públicas.e.seguridade.social..R..1.000.'\n36. 'Valor.adicionado.bruto.da.Administração..defesa..educação.e.saúde.públicas.e.seguridade.social...a.preços.correntes..R..1.000.'\n37. 'Valor.adicionado.bruto.total...a.preços.correntes..R..1.000.'\n38. 'Impostos..líquidos.de.subsídios..sobre.produtos...a.preços.correntes..R..1.000.'\n39. 'Produto.Interno.Bruto...a.preços.correntes..R..1.000.'\n40. 'Produto.Interno.Bruto.per.capita...a.preços.correntes..R..1.00.'\n41. 'Atividade.com.maior.valor.adicionado.bruto'\n42. 'Atividade.com.segundo.maior.valor.adicionado.bruto'\n43. 'Atividade.com.terceiro.maior.valor.adicionado.bruto'\n\n\n",
            "text/latex": "\\begin{enumerate*}\n\\item 'Ano'\n\\item 'Código.da.Grande.Região'\n\\item 'Nome.da.Grande.Região'\n\\item 'Código.da.Unidade.da.Federação'\n\\item 'Sigla.da.Unidade.da.Federação'\n\\item 'Nome.da.Unidade.da.Federação'\n\\item 'Código.do.Município'\n\\item 'Nome.do.Município'\n\\item 'Região.Metropolitana'\n\\item 'Código.da.Mesorregião'\n\\item 'Nome.da.Mesorregião'\n\\item 'Código.da.Microrregião'\n\\item 'Nome.da.Microrregião'\n\\item 'Código.da.Região.Geográfica.Imediata'\n\\item 'Nome.da.Região.Geográfica.Imediata'\n\\item 'Município.da.Região.Geográfica.Imediata'\n\\item 'Código.da.Região.Geográfica.Intermediária'\n\\item 'Nome.da.Região.Geográfica.Intermediária'\n\\item 'Município.da.Região.Geográfica.Intermediária'\n\\item 'Código.Concentração.Urbana'\n\\item 'Nome.Concentração.Urbana'\n\\item 'Tipo.Concentração.Urbana'\n\\item 'Código.Arranjo.Populacional'\n\\item 'Nome.Arranjo.Populacional'\n\\item 'Hierarquia.Urbana'\n\\item 'Hierarquia.Urbana..principais.categorias.'\n\\item 'Código.da.Região.Rural'\n\\item 'Nome.da.Região.Rural'\n\\item 'Região.rural..segundo.classificação.do.núcleo.'\n\\item 'Amazônia.Legal'\n\\item 'Semiárido'\n\\item 'Cidade.Região.de.São.Paulo'\n\\item 'Valor.adicionado.bruto.da.Agropecuária...a.preços.correntes..R..1.000.'\n\\item 'Valor.adicionado.bruto.da.Indústria..a.preços.correntes..R..1.000.'\n\\item 'Valor.adicionado.bruto.dos.Serviços..a.preços.correntes....exceto.Administração..defesa..educação.e.saúde.públicas.e.seguridade.social..R..1.000.'\n\\item 'Valor.adicionado.bruto.da.Administração..defesa..educação.e.saúde.públicas.e.seguridade.social...a.preços.correntes..R..1.000.'\n\\item 'Valor.adicionado.bruto.total...a.preços.correntes..R..1.000.'\n\\item 'Impostos..líquidos.de.subsídios..sobre.produtos...a.preços.correntes..R..1.000.'\n\\item 'Produto.Interno.Bruto...a.preços.correntes..R..1.000.'\n\\item 'Produto.Interno.Bruto.per.capita...a.preços.correntes..R..1.00.'\n\\item 'Atividade.com.maior.valor.adicionado.bruto'\n\\item 'Atividade.com.segundo.maior.valor.adicionado.bruto'\n\\item 'Atividade.com.terceiro.maior.valor.adicionado.bruto'\n\\end{enumerate*}\n",
            "text/plain": [
              " [1] \"Ano\"                                                                                                                                              \n",
              " [2] \"Código.da.Grande.Região\"                                                                                                                          \n",
              " [3] \"Nome.da.Grande.Região\"                                                                                                                            \n",
              " [4] \"Código.da.Unidade.da.Federação\"                                                                                                                   \n",
              " [5] \"Sigla.da.Unidade.da.Federação\"                                                                                                                    \n",
              " [6] \"Nome.da.Unidade.da.Federação\"                                                                                                                     \n",
              " [7] \"Código.do.Município\"                                                                                                                              \n",
              " [8] \"Nome.do.Município\"                                                                                                                                \n",
              " [9] \"Região.Metropolitana\"                                                                                                                             \n",
              "[10] \"Código.da.Mesorregião\"                                                                                                                            \n",
              "[11] \"Nome.da.Mesorregião\"                                                                                                                              \n",
              "[12] \"Código.da.Microrregião\"                                                                                                                           \n",
              "[13] \"Nome.da.Microrregião\"                                                                                                                             \n",
              "[14] \"Código.da.Região.Geográfica.Imediata\"                                                                                                             \n",
              "[15] \"Nome.da.Região.Geográfica.Imediata\"                                                                                                               \n",
              "[16] \"Município.da.Região.Geográfica.Imediata\"                                                                                                          \n",
              "[17] \"Código.da.Região.Geográfica.Intermediária\"                                                                                                        \n",
              "[18] \"Nome.da.Região.Geográfica.Intermediária\"                                                                                                          \n",
              "[19] \"Município.da.Região.Geográfica.Intermediária\"                                                                                                     \n",
              "[20] \"Código.Concentração.Urbana\"                                                                                                                       \n",
              "[21] \"Nome.Concentração.Urbana\"                                                                                                                         \n",
              "[22] \"Tipo.Concentração.Urbana\"                                                                                                                         \n",
              "[23] \"Código.Arranjo.Populacional\"                                                                                                                      \n",
              "[24] \"Nome.Arranjo.Populacional\"                                                                                                                        \n",
              "[25] \"Hierarquia.Urbana\"                                                                                                                                \n",
              "[26] \"Hierarquia.Urbana..principais.categorias.\"                                                                                                        \n",
              "[27] \"Código.da.Região.Rural\"                                                                                                                           \n",
              "[28] \"Nome.da.Região.Rural\"                                                                                                                             \n",
              "[29] \"Região.rural..segundo.classificação.do.núcleo.\"                                                                                                   \n",
              "[30] \"Amazônia.Legal\"                                                                                                                                   \n",
              "[31] \"Semiárido\"                                                                                                                                        \n",
              "[32] \"Cidade.Região.de.São.Paulo\"                                                                                                                       \n",
              "[33] \"Valor.adicionado.bruto.da.Agropecuária...a.preços.correntes..R..1.000.\"                                                                           \n",
              "[34] \"Valor.adicionado.bruto.da.Indústria..a.preços.correntes..R..1.000.\"                                                                               \n",
              "[35] \"Valor.adicionado.bruto.dos.Serviços..a.preços.correntes....exceto.Administração..defesa..educação.e.saúde.públicas.e.seguridade.social..R..1.000.\"\n",
              "[36] \"Valor.adicionado.bruto.da.Administração..defesa..educação.e.saúde.públicas.e.seguridade.social...a.preços.correntes..R..1.000.\"                   \n",
              "[37] \"Valor.adicionado.bruto.total...a.preços.correntes..R..1.000.\"                                                                                     \n",
              "[38] \"Impostos..líquidos.de.subsídios..sobre.produtos...a.preços.correntes..R..1.000.\"                                                                  \n",
              "[39] \"Produto.Interno.Bruto...a.preços.correntes..R..1.000.\"                                                                                            \n",
              "[40] \"Produto.Interno.Bruto.per.capita...a.preços.correntes..R..1.00.\"                                                                                  \n",
              "[41] \"Atividade.com.maior.valor.adicionado.bruto\"                                                                                                       \n",
              "[42] \"Atividade.com.segundo.maior.valor.adicionado.bruto\"                                                                                               \n",
              "[43] \"Atividade.com.terceiro.maior.valor.adicionado.bruto\"                                                                                              "
            ]
          },
          "metadata": {}
        }
      ]
    },
    {
      "cell_type": "code",
      "source": [
        "pib_cidades = subset(pib_cidades, select = -c(Código.da.Grande.Região,\n",
        "Código.da.Unidade.da.Federação, Código.do.Município, \n",
        "Código.da.Mesorregião, Nome.da.Mesorregião, Código.da.Microrregião, \n",
        "Nome.da.Microrregião, Código.da.Região.Geográfica.Imediata, Nome.da.Região.Geográfica.Imediata, \n",
        "Região.Metropolitana, Código.Concentração.Urbana, \n",
        "Nome.Concentração.Urbana, Tipo.Concentração.Urbana, Código.Arranjo.Populacional,  \n",
        "Município.da.Região.Geográfica.Imediata, Código.da.Região.Geográfica.Intermediária, \n",
        "Nome.da.Região.Geográfica.Intermediária, Município.da.Região.Geográfica.Intermediária, Código.da.Região.Rural, \n",
        "Nome.Arranjo.Populacional, Hierarquia.Urbana, Nome.da.Região.Rural))\n",
        "\n",
        "\n",
        "\n",
        "\n"
      ],
      "metadata": {
        "id": "OX4wyMH_UW1v"
      },
      "execution_count": 3,
      "outputs": []
    },
    {
      "cell_type": "code",
      "source": [
        "pib_cidades$Nome.Arranjo.Poulacional = NULL\n",
        "pib_cidades$Hierarquia.Urbana..principais.categorias. = NULL\n",
        "pib_cidades$Nome.Hierarquia.Urbana = NULL\n",
        "pib_cidades$Nome.da.Região.Rural = NULL\n",
        "pib_cidades$Região.rural..segundo.classificação.do.núcleo = NULL\n",
        "pib_cidades$`Cidade.Região.de.São.Paulo` = NULL\n",
        "\n"
      ],
      "metadata": {
        "id": "4KJqXMv_UskH"
      },
      "execution_count": 8,
      "outputs": []
    },
    {
      "cell_type": "code",
      "source": [
        "head(pib_cidades)"
      ],
      "metadata": {
        "colab": {
          "base_uri": "https://localhost:8080/",
          "height": 410
        },
        "id": "8bpKTkKnWRQt",
        "outputId": "ee71c61a-2890-4810-88a9-6eb52a2aa10f"
      },
      "execution_count": 9,
      "outputs": [
        {
          "output_type": "display_data",
          "data": {
            "text/html": [
              "<table class=\"dataframe\">\n",
              "<caption>A data.frame: 6 × 19</caption>\n",
              "<thead>\n",
              "\t<tr><th></th><th scope=col>Ano</th><th scope=col>Nome.da.Grande.Região</th><th scope=col>Sigla.da.Unidade.da.Federação</th><th scope=col>Nome.da.Unidade.da.Federação</th><th scope=col>Nome.do.Município</th><th scope=col>Região.rural..segundo.classificação.do.núcleo.</th><th scope=col>Amazônia.Legal</th><th scope=col>Semiárido</th><th scope=col>Valor.adicionado.bruto.da.Agropecuária...a.preços.correntes..R..1.000.</th><th scope=col>Valor.adicionado.bruto.da.Indústria..a.preços.correntes..R..1.000.</th><th scope=col>Valor.adicionado.bruto.dos.Serviços..a.preços.correntes....exceto.Administração..defesa..educação.e.saúde.públicas.e.seguridade.social..R..1.000.</th><th scope=col>Valor.adicionado.bruto.da.Administração..defesa..educação.e.saúde.públicas.e.seguridade.social...a.preços.correntes..R..1.000.</th><th scope=col>Valor.adicionado.bruto.total...a.preços.correntes..R..1.000.</th><th scope=col>Impostos..líquidos.de.subsídios..sobre.produtos...a.preços.correntes..R..1.000.</th><th scope=col>Produto.Interno.Bruto...a.preços.correntes..R..1.000.</th><th scope=col>Produto.Interno.Bruto.per.capita...a.preços.correntes..R..1.00.</th><th scope=col>Atividade.com.maior.valor.adicionado.bruto</th><th scope=col>Atividade.com.segundo.maior.valor.adicionado.bruto</th><th scope=col>Atividade.com.terceiro.maior.valor.adicionado.bruto</th></tr>\n",
              "\t<tr><th></th><th scope=col>&lt;int&gt;</th><th scope=col>&lt;chr&gt;</th><th scope=col>&lt;chr&gt;</th><th scope=col>&lt;chr&gt;</th><th scope=col>&lt;chr&gt;</th><th scope=col>&lt;chr&gt;</th><th scope=col>&lt;chr&gt;</th><th scope=col>&lt;chr&gt;</th><th scope=col>&lt;chr&gt;</th><th scope=col>&lt;chr&gt;</th><th scope=col>&lt;chr&gt;</th><th scope=col>&lt;chr&gt;</th><th scope=col>&lt;chr&gt;</th><th scope=col>&lt;chr&gt;</th><th scope=col>&lt;chr&gt;</th><th scope=col>&lt;chr&gt;</th><th scope=col>&lt;chr&gt;</th><th scope=col>&lt;chr&gt;</th><th scope=col>&lt;chr&gt;</th></tr>\n",
              "</thead>\n",
              "<tbody>\n",
              "\t<tr><th scope=row>1</th><td>2020</td><td>Norte</td><td>RO</td><td>Rondônia</td><td>Alta Floresta D'Oeste</td><td>Região Rural de Capital Regional   </td><td>Sim</td><td>Não</td><td>  203,394 </td><td>  20,716  </td><td>  150,192   </td><td>  160,860 </td><td>  535,163   </td><td>  35,109  </td><td>  570,272   </td><td>  25,091.18 </td><td>Administração, defesa, educação e saúde públicas e seguridade social</td><td>Pecuária, inclusive apoio à pecuária                                </td><td>Demais serviços                                                     </td></tr>\n",
              "\t<tr><th scope=row>2</th><td>2020</td><td>Norte</td><td>RO</td><td>Rondônia</td><td>Ariquemes            </td><td>Região Rural de Capital Regional   </td><td>Sim</td><td>Não</td><td>  199,723 </td><td>  404,752 </td><td>  1,207,405 </td><td>  710,513 </td><td>  2,522,393 </td><td>  295,656 </td><td>  2,818,049 </td><td>  25,730.20 </td><td>Demais serviços                                                     </td><td>Administração, defesa, educação e saúde públicas e seguridade social</td><td>Comércio e reparação de veículos automotores e motocicletas         </td></tr>\n",
              "\t<tr><th scope=row>3</th><td>2020</td><td>Norte</td><td>RO</td><td>Rondônia</td><td>Cabixi               </td><td>Região Rural de Capital Regional   </td><td>Sim</td><td>Não</td><td>  81,177  </td><td>  5,438   </td><td>  28,667    </td><td>  44,671  </td><td>  159,953   </td><td>  7,237   </td><td>  167,190   </td><td>  32,226.25 </td><td>Administração, defesa, educação e saúde públicas e seguridade social</td><td>Pecuária, inclusive apoio à pecuária                                </td><td>Agricultura, inclusive apoio à agricultura e a pós colheita         </td></tr>\n",
              "\t<tr><th scope=row>4</th><td>2020</td><td>Norte</td><td>RO</td><td>Rondônia</td><td>Cacoal               </td><td>Região Rural de Centro Sub-regional</td><td>Sim</td><td>Não</td><td>  236,215 </td><td>  275,537 </td><td>  1,157,344 </td><td>  575,806 </td><td>  2,244,902 </td><td>  274,451 </td><td>  2,519,353 </td><td>  29,331.29 </td><td>Demais serviços                                                     </td><td>Administração, defesa, educação e saúde públicas e seguridade social</td><td>Comércio e reparação de veículos automotores e motocicletas         </td></tr>\n",
              "\t<tr><th scope=row>5</th><td>2020</td><td>Norte</td><td>RO</td><td>Rondônia</td><td>Cerejeiras           </td><td>Região Rural de Capital Regional   </td><td>Sim</td><td>Não</td><td>  94,758  </td><td>  23,582  </td><td>  276,755   </td><td>  115,652 </td><td>  510,747   </td><td>  89,923  </td><td>  600,670   </td><td>  37,069.25 </td><td>Comércio e reparação de veículos automotores e motocicletas         </td><td>Demais serviços                                                     </td><td>Administração, defesa, educação e saúde públicas e seguridade social</td></tr>\n",
              "\t<tr><th scope=row>6</th><td>2020</td><td>Norte</td><td>RO</td><td>Rondônia</td><td>Colorado do Oeste    </td><td>Região Rural de Capital Regional   </td><td>Sim</td><td>Não</td><td>  88,923  </td><td>  24,322  </td><td>  118,529   </td><td>  111,082 </td><td>  342,856   </td><td>  24,075  </td><td>  366,931   </td><td>  23,605.94 </td><td>Administração, defesa, educação e saúde públicas e seguridade social</td><td>Demais serviços                                                     </td><td>Pecuária, inclusive apoio à pecuária                                </td></tr>\n",
              "</tbody>\n",
              "</table>\n"
            ],
            "text/markdown": "\nA data.frame: 6 × 19\n\n| <!--/--> | Ano &lt;int&gt; | Nome.da.Grande.Região &lt;chr&gt; | Sigla.da.Unidade.da.Federação &lt;chr&gt; | Nome.da.Unidade.da.Federação &lt;chr&gt; | Nome.do.Município &lt;chr&gt; | Região.rural..segundo.classificação.do.núcleo. &lt;chr&gt; | Amazônia.Legal &lt;chr&gt; | Semiárido &lt;chr&gt; | Valor.adicionado.bruto.da.Agropecuária...a.preços.correntes..R..1.000. &lt;chr&gt; | Valor.adicionado.bruto.da.Indústria..a.preços.correntes..R..1.000. &lt;chr&gt; | Valor.adicionado.bruto.dos.Serviços..a.preços.correntes....exceto.Administração..defesa..educação.e.saúde.públicas.e.seguridade.social..R..1.000. &lt;chr&gt; | Valor.adicionado.bruto.da.Administração..defesa..educação.e.saúde.públicas.e.seguridade.social...a.preços.correntes..R..1.000. &lt;chr&gt; | Valor.adicionado.bruto.total...a.preços.correntes..R..1.000. &lt;chr&gt; | Impostos..líquidos.de.subsídios..sobre.produtos...a.preços.correntes..R..1.000. &lt;chr&gt; | Produto.Interno.Bruto...a.preços.correntes..R..1.000. &lt;chr&gt; | Produto.Interno.Bruto.per.capita...a.preços.correntes..R..1.00. &lt;chr&gt; | Atividade.com.maior.valor.adicionado.bruto &lt;chr&gt; | Atividade.com.segundo.maior.valor.adicionado.bruto &lt;chr&gt; | Atividade.com.terceiro.maior.valor.adicionado.bruto &lt;chr&gt; |\n|---|---|---|---|---|---|---|---|---|---|---|---|---|---|---|---|---|---|---|---|\n| 1 | 2020 | Norte | RO | Rondônia | Alta Floresta D'Oeste | Região Rural de Capital Regional    | Sim | Não |   203,394  |   20,716   |   150,192    |   160,860  |   535,163    |   35,109   |   570,272    |   25,091.18  | Administração, defesa, educação e saúde públicas e seguridade social | Pecuária, inclusive apoio à pecuária                                 | Demais serviços                                                      |\n| 2 | 2020 | Norte | RO | Rondônia | Ariquemes             | Região Rural de Capital Regional    | Sim | Não |   199,723  |   404,752  |   1,207,405  |   710,513  |   2,522,393  |   295,656  |   2,818,049  |   25,730.20  | Demais serviços                                                      | Administração, defesa, educação e saúde públicas e seguridade social | Comércio e reparação de veículos automotores e motocicletas          |\n| 3 | 2020 | Norte | RO | Rondônia | Cabixi                | Região Rural de Capital Regional    | Sim | Não |   81,177   |   5,438    |   28,667     |   44,671   |   159,953    |   7,237    |   167,190    |   32,226.25  | Administração, defesa, educação e saúde públicas e seguridade social | Pecuária, inclusive apoio à pecuária                                 | Agricultura, inclusive apoio à agricultura e a pós colheita          |\n| 4 | 2020 | Norte | RO | Rondônia | Cacoal                | Região Rural de Centro Sub-regional | Sim | Não |   236,215  |   275,537  |   1,157,344  |   575,806  |   2,244,902  |   274,451  |   2,519,353  |   29,331.29  | Demais serviços                                                      | Administração, defesa, educação e saúde públicas e seguridade social | Comércio e reparação de veículos automotores e motocicletas          |\n| 5 | 2020 | Norte | RO | Rondônia | Cerejeiras            | Região Rural de Capital Regional    | Sim | Não |   94,758   |   23,582   |   276,755    |   115,652  |   510,747    |   89,923   |   600,670    |   37,069.25  | Comércio e reparação de veículos automotores e motocicletas          | Demais serviços                                                      | Administração, defesa, educação e saúde públicas e seguridade social |\n| 6 | 2020 | Norte | RO | Rondônia | Colorado do Oeste     | Região Rural de Capital Regional    | Sim | Não |   88,923   |   24,322   |   118,529    |   111,082  |   342,856    |   24,075   |   366,931    |   23,605.94  | Administração, defesa, educação e saúde públicas e seguridade social | Demais serviços                                                      | Pecuária, inclusive apoio à pecuária                                 |\n\n",
            "text/latex": "A data.frame: 6 × 19\n\\begin{tabular}{r|lllllllllllllllllll}\n  & Ano & Nome.da.Grande.Região & Sigla.da.Unidade.da.Federação & Nome.da.Unidade.da.Federação & Nome.do.Município & Região.rural..segundo.classificação.do.núcleo. & Amazônia.Legal & Semiárido & Valor.adicionado.bruto.da.Agropecuária...a.preços.correntes..R..1.000. & Valor.adicionado.bruto.da.Indústria..a.preços.correntes..R..1.000. & Valor.adicionado.bruto.dos.Serviços..a.preços.correntes....exceto.Administração..defesa..educação.e.saúde.públicas.e.seguridade.social..R..1.000. & Valor.adicionado.bruto.da.Administração..defesa..educação.e.saúde.públicas.e.seguridade.social...a.preços.correntes..R..1.000. & Valor.adicionado.bruto.total...a.preços.correntes..R..1.000. & Impostos..líquidos.de.subsídios..sobre.produtos...a.preços.correntes..R..1.000. & Produto.Interno.Bruto...a.preços.correntes..R..1.000. & Produto.Interno.Bruto.per.capita...a.preços.correntes..R..1.00. & Atividade.com.maior.valor.adicionado.bruto & Atividade.com.segundo.maior.valor.adicionado.bruto & Atividade.com.terceiro.maior.valor.adicionado.bruto\\\\\n  & <int> & <chr> & <chr> & <chr> & <chr> & <chr> & <chr> & <chr> & <chr> & <chr> & <chr> & <chr> & <chr> & <chr> & <chr> & <chr> & <chr> & <chr> & <chr>\\\\\n\\hline\n\t1 & 2020 & Norte & RO & Rondônia & Alta Floresta D'Oeste & Região Rural de Capital Regional    & Sim & Não &   203,394  &   20,716   &   150,192    &   160,860  &   535,163    &   35,109   &   570,272    &   25,091.18  & Administração, defesa, educação e saúde públicas e seguridade social & Pecuária, inclusive apoio à pecuária                                 & Demais serviços                                                     \\\\\n\t2 & 2020 & Norte & RO & Rondônia & Ariquemes             & Região Rural de Capital Regional    & Sim & Não &   199,723  &   404,752  &   1,207,405  &   710,513  &   2,522,393  &   295,656  &   2,818,049  &   25,730.20  & Demais serviços                                                      & Administração, defesa, educação e saúde públicas e seguridade social & Comércio e reparação de veículos automotores e motocicletas         \\\\\n\t3 & 2020 & Norte & RO & Rondônia & Cabixi                & Região Rural de Capital Regional    & Sim & Não &   81,177   &   5,438    &   28,667     &   44,671   &   159,953    &   7,237    &   167,190    &   32,226.25  & Administração, defesa, educação e saúde públicas e seguridade social & Pecuária, inclusive apoio à pecuária                                 & Agricultura, inclusive apoio à agricultura e a pós colheita         \\\\\n\t4 & 2020 & Norte & RO & Rondônia & Cacoal                & Região Rural de Centro Sub-regional & Sim & Não &   236,215  &   275,537  &   1,157,344  &   575,806  &   2,244,902  &   274,451  &   2,519,353  &   29,331.29  & Demais serviços                                                      & Administração, defesa, educação e saúde públicas e seguridade social & Comércio e reparação de veículos automotores e motocicletas         \\\\\n\t5 & 2020 & Norte & RO & Rondônia & Cerejeiras            & Região Rural de Capital Regional    & Sim & Não &   94,758   &   23,582   &   276,755    &   115,652  &   510,747    &   89,923   &   600,670    &   37,069.25  & Comércio e reparação de veículos automotores e motocicletas          & Demais serviços                                                      & Administração, defesa, educação e saúde públicas e seguridade social\\\\\n\t6 & 2020 & Norte & RO & Rondônia & Colorado do Oeste     & Região Rural de Capital Regional    & Sim & Não &   88,923   &   24,322   &   118,529    &   111,082  &   342,856    &   24,075   &   366,931    &   23,605.94  & Administração, defesa, educação e saúde públicas e seguridade social & Demais serviços                                                      & Pecuária, inclusive apoio à pecuária                                \\\\\n\\end{tabular}\n",
            "text/plain": [
              "  Ano  Nome.da.Grande.Região Sigla.da.Unidade.da.Federação\n",
              "1 2020 Norte                 RO                           \n",
              "2 2020 Norte                 RO                           \n",
              "3 2020 Norte                 RO                           \n",
              "4 2020 Norte                 RO                           \n",
              "5 2020 Norte                 RO                           \n",
              "6 2020 Norte                 RO                           \n",
              "  Nome.da.Unidade.da.Federação Nome.do.Município    \n",
              "1 Rondônia                     Alta Floresta D'Oeste\n",
              "2 Rondônia                     Ariquemes            \n",
              "3 Rondônia                     Cabixi               \n",
              "4 Rondônia                     Cacoal               \n",
              "5 Rondônia                     Cerejeiras           \n",
              "6 Rondônia                     Colorado do Oeste    \n",
              "  Região.rural..segundo.classificação.do.núcleo. Amazônia.Legal Semiárido\n",
              "1 Região Rural de Capital Regional               Sim            Não      \n",
              "2 Região Rural de Capital Regional               Sim            Não      \n",
              "3 Região Rural de Capital Regional               Sim            Não      \n",
              "4 Região Rural de Centro Sub-regional            Sim            Não      \n",
              "5 Região Rural de Capital Regional               Sim            Não      \n",
              "6 Região Rural de Capital Regional               Sim            Não      \n",
              "  Valor.adicionado.bruto.da.Agropecuária...a.preços.correntes..R..1.000.\n",
              "1   203,394                                                             \n",
              "2   199,723                                                             \n",
              "3   81,177                                                              \n",
              "4   236,215                                                             \n",
              "5   94,758                                                              \n",
              "6   88,923                                                              \n",
              "  Valor.adicionado.bruto.da.Indústria..a.preços.correntes..R..1.000.\n",
              "1   20,716                                                          \n",
              "2   404,752                                                         \n",
              "3   5,438                                                           \n",
              "4   275,537                                                         \n",
              "5   23,582                                                          \n",
              "6   24,322                                                          \n",
              "  Valor.adicionado.bruto.dos.Serviços..a.preços.correntes....exceto.Administração..defesa..educação.e.saúde.públicas.e.seguridade.social..R..1.000.\n",
              "1   150,192                                                                                                                                        \n",
              "2   1,207,405                                                                                                                                      \n",
              "3   28,667                                                                                                                                         \n",
              "4   1,157,344                                                                                                                                      \n",
              "5   276,755                                                                                                                                        \n",
              "6   118,529                                                                                                                                        \n",
              "  Valor.adicionado.bruto.da.Administração..defesa..educação.e.saúde.públicas.e.seguridade.social...a.preços.correntes..R..1.000.\n",
              "1   160,860                                                                                                                     \n",
              "2   710,513                                                                                                                     \n",
              "3   44,671                                                                                                                      \n",
              "4   575,806                                                                                                                     \n",
              "5   115,652                                                                                                                     \n",
              "6   111,082                                                                                                                     \n",
              "  Valor.adicionado.bruto.total...a.preços.correntes..R..1.000.\n",
              "1   535,163                                                   \n",
              "2   2,522,393                                                 \n",
              "3   159,953                                                   \n",
              "4   2,244,902                                                 \n",
              "5   510,747                                                   \n",
              "6   342,856                                                   \n",
              "  Impostos..líquidos.de.subsídios..sobre.produtos...a.preços.correntes..R..1.000.\n",
              "1   35,109                                                                       \n",
              "2   295,656                                                                      \n",
              "3   7,237                                                                        \n",
              "4   274,451                                                                      \n",
              "5   89,923                                                                       \n",
              "6   24,075                                                                       \n",
              "  Produto.Interno.Bruto...a.preços.correntes..R..1.000.\n",
              "1   570,272                                            \n",
              "2   2,818,049                                          \n",
              "3   167,190                                            \n",
              "4   2,519,353                                          \n",
              "5   600,670                                            \n",
              "6   366,931                                            \n",
              "  Produto.Interno.Bruto.per.capita...a.preços.correntes..R..1.00.\n",
              "1   25,091.18                                                    \n",
              "2   25,730.20                                                    \n",
              "3   32,226.25                                                    \n",
              "4   29,331.29                                                    \n",
              "5   37,069.25                                                    \n",
              "6   23,605.94                                                    \n",
              "  Atividade.com.maior.valor.adicionado.bruto                          \n",
              "1 Administração, defesa, educação e saúde públicas e seguridade social\n",
              "2 Demais serviços                                                     \n",
              "3 Administração, defesa, educação e saúde públicas e seguridade social\n",
              "4 Demais serviços                                                     \n",
              "5 Comércio e reparação de veículos automotores e motocicletas         \n",
              "6 Administração, defesa, educação e saúde públicas e seguridade social\n",
              "  Atividade.com.segundo.maior.valor.adicionado.bruto                  \n",
              "1 Pecuária, inclusive apoio à pecuária                                \n",
              "2 Administração, defesa, educação e saúde públicas e seguridade social\n",
              "3 Pecuária, inclusive apoio à pecuária                                \n",
              "4 Administração, defesa, educação e saúde públicas e seguridade social\n",
              "5 Demais serviços                                                     \n",
              "6 Demais serviços                                                     \n",
              "  Atividade.com.terceiro.maior.valor.adicionado.bruto                 \n",
              "1 Demais serviços                                                     \n",
              "2 Comércio e reparação de veículos automotores e motocicletas         \n",
              "3 Agricultura, inclusive apoio à agricultura e a pós colheita         \n",
              "4 Comércio e reparação de veículos automotores e motocicletas         \n",
              "5 Administração, defesa, educação e saúde públicas e seguridade social\n",
              "6 Pecuária, inclusive apoio à pecuária                                "
            ]
          },
          "metadata": {}
        }
      ]
    },
    {
      "cell_type": "code",
      "source": [
        "head(pib_cidades[9])"
      ],
      "metadata": {
        "colab": {
          "base_uri": "https://localhost:8080/",
          "height": 286
        },
        "id": "B31jO5_GnlBS",
        "outputId": "49bd6929-92ce-41b7-ae4e-3647cea4883b"
      },
      "execution_count": 13,
      "outputs": [
        {
          "output_type": "display_data",
          "data": {
            "text/html": [
              "<table class=\"dataframe\">\n",
              "<caption>A data.frame: 6 × 1</caption>\n",
              "<thead>\n",
              "\t<tr><th></th><th scope=col>Valor.adicionado.bruto.da.Agropecuária...a.preços.correntes..R..1.000.</th></tr>\n",
              "\t<tr><th></th><th scope=col>&lt;chr&gt;</th></tr>\n",
              "</thead>\n",
              "<tbody>\n",
              "\t<tr><th scope=row>1</th><td>  203,394 </td></tr>\n",
              "\t<tr><th scope=row>2</th><td>  199,723 </td></tr>\n",
              "\t<tr><th scope=row>3</th><td>  81,177  </td></tr>\n",
              "\t<tr><th scope=row>4</th><td>  236,215 </td></tr>\n",
              "\t<tr><th scope=row>5</th><td>  94,758  </td></tr>\n",
              "\t<tr><th scope=row>6</th><td>  88,923  </td></tr>\n",
              "</tbody>\n",
              "</table>\n"
            ],
            "text/markdown": "\nA data.frame: 6 × 1\n\n| <!--/--> | Valor.adicionado.bruto.da.Agropecuária...a.preços.correntes..R..1.000. &lt;chr&gt; |\n|---|---|\n| 1 |   203,394  |\n| 2 |   199,723  |\n| 3 |   81,177   |\n| 4 |   236,215  |\n| 5 |   94,758   |\n| 6 |   88,923   |\n\n",
            "text/latex": "A data.frame: 6 × 1\n\\begin{tabular}{r|l}\n  & Valor.adicionado.bruto.da.Agropecuária...a.preços.correntes..R..1.000.\\\\\n  & <chr>\\\\\n\\hline\n\t1 &   203,394 \\\\\n\t2 &   199,723 \\\\\n\t3 &   81,177  \\\\\n\t4 &   236,215 \\\\\n\t5 &   94,758  \\\\\n\t6 &   88,923  \\\\\n\\end{tabular}\n",
            "text/plain": [
              "  Valor.adicionado.bruto.da.Agropecuária...a.preços.correntes..R..1.000.\n",
              "1   203,394                                                             \n",
              "2   199,723                                                             \n",
              "3   81,177                                                              \n",
              "4   236,215                                                             \n",
              "5   94,758                                                              \n",
              "6   88,923                                                              "
            ]
          },
          "metadata": {}
        }
      ]
    },
    {
      "cell_type": "code",
      "source": [
        "pib_cidades$pib_cidades[9] = as.numeric(pib_cidades$pib_cidades[9])\n",
        "\n"
      ],
      "metadata": {
        "id": "AnRKVA6Zolse"
      },
      "execution_count": 16,
      "outputs": []
    },
    {
      "cell_type": "code",
      "source": [
        "head(pib_cidades[9])"
      ],
      "metadata": {
        "colab": {
          "base_uri": "https://localhost:8080/",
          "height": 286
        },
        "id": "zypNk55IpOK0",
        "outputId": "ea29eee1-7c82-40bb-acdf-9e008a0b2a65"
      },
      "execution_count": 17,
      "outputs": [
        {
          "output_type": "display_data",
          "data": {
            "text/html": [
              "<table class=\"dataframe\">\n",
              "<caption>A data.frame: 6 × 1</caption>\n",
              "<thead>\n",
              "\t<tr><th></th><th scope=col>Valor.adicionado.bruto.da.Agropecuária...a.preços.correntes..R..1.000.</th></tr>\n",
              "\t<tr><th></th><th scope=col>&lt;chr&gt;</th></tr>\n",
              "</thead>\n",
              "<tbody>\n",
              "\t<tr><th scope=row>1</th><td>  203,394 </td></tr>\n",
              "\t<tr><th scope=row>2</th><td>  199,723 </td></tr>\n",
              "\t<tr><th scope=row>3</th><td>  81,177  </td></tr>\n",
              "\t<tr><th scope=row>4</th><td>  236,215 </td></tr>\n",
              "\t<tr><th scope=row>5</th><td>  94,758  </td></tr>\n",
              "\t<tr><th scope=row>6</th><td>  88,923  </td></tr>\n",
              "</tbody>\n",
              "</table>\n"
            ],
            "text/markdown": "\nA data.frame: 6 × 1\n\n| <!--/--> | Valor.adicionado.bruto.da.Agropecuária...a.preços.correntes..R..1.000. &lt;chr&gt; |\n|---|---|\n| 1 |   203,394  |\n| 2 |   199,723  |\n| 3 |   81,177   |\n| 4 |   236,215  |\n| 5 |   94,758   |\n| 6 |   88,923   |\n\n",
            "text/latex": "A data.frame: 6 × 1\n\\begin{tabular}{r|l}\n  & Valor.adicionado.bruto.da.Agropecuária...a.preços.correntes..R..1.000.\\\\\n  & <chr>\\\\\n\\hline\n\t1 &   203,394 \\\\\n\t2 &   199,723 \\\\\n\t3 &   81,177  \\\\\n\t4 &   236,215 \\\\\n\t5 &   94,758  \\\\\n\t6 &   88,923  \\\\\n\\end{tabular}\n",
            "text/plain": [
              "  Valor.adicionado.bruto.da.Agropecuária...a.preços.correntes..R..1.000.\n",
              "1   203,394                                                             \n",
              "2   199,723                                                             \n",
              "3   81,177                                                              \n",
              "4   236,215                                                             \n",
              "5   94,758                                                              \n",
              "6   88,923                                                              "
            ]
          },
          "metadata": {}
        }
      ]
    },
    {
      "cell_type": "code",
      "source": [
        "mean(pib_cidades[9])"
      ],
      "metadata": {
        "colab": {
          "base_uri": "https://localhost:8080/",
          "height": 69
        },
        "id": "3LTC6FzmphVB",
        "outputId": "d44c9b78-86e8-4416-de17-217e539ca9af"
      },
      "execution_count": 22,
      "outputs": [
        {
          "output_type": "stream",
          "name": "stderr",
          "text": [
            "Warning message in mean.default(pib_cidades[9]):\n",
            "“argument is not numeric or logical: returning NA”\n"
          ]
        },
        {
          "output_type": "display_data",
          "data": {
            "text/html": [
              "&lt;NA&gt;"
            ],
            "text/markdown": "&lt;NA&gt;",
            "text/latex": "<NA>",
            "text/plain": [
              "[1] NA"
            ]
          },
          "metadata": {}
        }
      ]
    },
    {
      "cell_type": "code",
      "source": [
        "pib_cidades = transform(pib_cidades, pib_cidades[9] == as.numeric(pib_cidades$pib_cidades[9]))"
      ],
      "metadata": {
        "id": "7XGu_ICDqE_6"
      },
      "execution_count": 33,
      "outputs": []
    },
    {
      "cell_type": "code",
      "source": [
        "head(pib_cidades[9])"
      ],
      "metadata": {
        "colab": {
          "base_uri": "https://localhost:8080/",
          "height": 286
        },
        "id": "s6CGk9YGsx__",
        "outputId": "b866f461-c4d3-47e0-d346-4f5bd53e8e17"
      },
      "execution_count": 34,
      "outputs": [
        {
          "output_type": "display_data",
          "data": {
            "text/html": [
              "<table class=\"dataframe\">\n",
              "<caption>A data.frame: 6 × 1</caption>\n",
              "<thead>\n",
              "\t<tr><th></th><th scope=col>Valor.adicionado.bruto.da.Agropecuária...a.preços.correntes..R..1.000.</th></tr>\n",
              "\t<tr><th></th><th scope=col>&lt;chr&gt;</th></tr>\n",
              "</thead>\n",
              "<tbody>\n",
              "\t<tr><th scope=row>1</th><td>  203,394 </td></tr>\n",
              "\t<tr><th scope=row>2</th><td>  199,723 </td></tr>\n",
              "\t<tr><th scope=row>3</th><td>  81,177  </td></tr>\n",
              "\t<tr><th scope=row>4</th><td>  236,215 </td></tr>\n",
              "\t<tr><th scope=row>5</th><td>  94,758  </td></tr>\n",
              "\t<tr><th scope=row>6</th><td>  88,923  </td></tr>\n",
              "</tbody>\n",
              "</table>\n"
            ],
            "text/markdown": "\nA data.frame: 6 × 1\n\n| <!--/--> | Valor.adicionado.bruto.da.Agropecuária...a.preços.correntes..R..1.000. &lt;chr&gt; |\n|---|---|\n| 1 |   203,394  |\n| 2 |   199,723  |\n| 3 |   81,177   |\n| 4 |   236,215  |\n| 5 |   94,758   |\n| 6 |   88,923   |\n\n",
            "text/latex": "A data.frame: 6 × 1\n\\begin{tabular}{r|l}\n  & Valor.adicionado.bruto.da.Agropecuária...a.preços.correntes..R..1.000.\\\\\n  & <chr>\\\\\n\\hline\n\t1 &   203,394 \\\\\n\t2 &   199,723 \\\\\n\t3 &   81,177  \\\\\n\t4 &   236,215 \\\\\n\t5 &   94,758  \\\\\n\t6 &   88,923  \\\\\n\\end{tabular}\n",
            "text/plain": [
              "  Valor.adicionado.bruto.da.Agropecuária...a.preços.correntes..R..1.000.\n",
              "1   203,394                                                             \n",
              "2   199,723                                                             \n",
              "3   81,177                                                              \n",
              "4   236,215                                                             \n",
              "5   94,758                                                              \n",
              "6   88,923                                                              "
            ]
          },
          "metadata": {}
        }
      ]
    },
    {
      "cell_type": "code",
      "source": [],
      "metadata": {
        "id": "5vjtbt8xtakX"
      },
      "execution_count": null,
      "outputs": []
    }
  ]
}