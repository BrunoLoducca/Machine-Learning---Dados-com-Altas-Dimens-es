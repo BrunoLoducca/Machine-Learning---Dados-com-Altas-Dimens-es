{
  "nbformat": 4,
  "nbformat_minor": 0,
  "metadata": {
    "colab": {
      "provenance": [],
      "include_colab_link": true
    },
    "kernelspec": {
      "name": "ir",
      "display_name": "R"
    },
    "language_info": {
      "name": "R"
    }
  },
  "cells": [
    {
      "cell_type": "markdown",
      "metadata": {
        "id": "view-in-github",
        "colab_type": "text"
      },
      "source": [
        "<a href=\"https://colab.research.google.com/github/BrunoLoducca/Machine-Learning---Dados-com-Altas-Dimens-es/blob/main/Aula2_R.ipynb\" target=\"_parent\"><img src=\"https://colab.research.google.com/assets/colab-badge.svg\" alt=\"Open In Colab\"/></a>"
      ]
    },
    {
      "cell_type": "markdown",
      "source": [
        "# Aula 2 - R - Variáveis\n",
        "Relembrando:\n",
        "https://livro.curso-r.com/3-3-objetosFuncoes.html\n",
        "\n",
        "* Nomes de objetos/variáveis não podem começar com número nem underline (\\_)\n",
        "* Não pode ter espaço nem traço (-) \n",
        "* Pode ter ponto (.) ou underline (\\_) no meio\n",
        "* Usamos `<-` (sem espaços no meio) para guardar coisas no objeto"
      ],
      "metadata": {
        "id": "tcRC63igrlgT"
      }
    },
    {
      "cell_type": "code",
      "source": [
        "# O que deu errado aqui?\n",
        "resultado <- 100/2\n",
        "# Corrija o código abaixo \n"
      ],
      "metadata": {
        "id": "dj_MuRLVtsbY"
      },
      "execution_count": 2,
      "outputs": []
    },
    {
      "cell_type": "code",
      "source": [
        "# E agora, o que aconteceu?\n",
        "resultado < (-100)/2\n",
        "# Mesma coisa\n"
      ],
      "metadata": {
        "id": "kN-wWa-9uSWJ",
        "outputId": "99eaae33-7ac3-4306-b44b-ad105e1edf77",
        "colab": {
          "base_uri": "https://localhost:8080/",
          "height": 34
        }
      },
      "execution_count": 4,
      "outputs": [
        {
          "output_type": "display_data",
          "data": {
            "text/html": [
              "FALSE"
            ],
            "text/markdown": "FALSE",
            "text/latex": "FALSE",
            "text/plain": [
              "[1] FALSE"
            ]
          },
          "metadata": {}
        }
      ]
    },
    {
      "cell_type": "code",
      "source": [
        "# O que essa conta faz?\n",
        "resultado = 60\n",
        "# E essa?\n",
        "# Aqui ele compara a variável resultado com o valor 60, comparando 60 por meio \n",
        "# dos dois simbolos de igual. \n",
        "resultado == 60"
      ],
      "metadata": {
        "id": "B0QJF1BhuXSl",
        "outputId": "2192a835-90c5-4c6d-c056-2dc317f989cc",
        "colab": {
          "base_uri": "https://localhost:8080/",
          "height": 34
        }
      },
      "execution_count": 5,
      "outputs": [
        {
          "output_type": "display_data",
          "data": {
            "text/html": [
              "TRUE"
            ],
            "text/markdown": "TRUE",
            "text/latex": "TRUE",
            "text/plain": [
              "[1] TRUE"
            ]
          },
          "metadata": {}
        }
      ]
    },
    {
      "cell_type": "markdown",
      "source": [
        "## Mas variáveis são só para números?\n",
        "Não!"
      ],
      "metadata": {
        "id": "qs1aUMz_u9wV"
      }
    },
    {
      "cell_type": "code",
      "source": [
        "# Tente criar:\n",
        "x <- 100\n",
        "y <- 50\n",
        "z <- 'Oi, mundo'\n",
        "z <- \"Oi, Mundo\" # pode usar aspas duplas ou aspas simples\n",
        "w <- TRUE\n",
        "x\n",
        "y\n",
        "z\n",
        "w"
      ],
      "metadata": {
        "id": "JO9G4E2dvEbf",
        "outputId": "19b0ee75-abbc-4057-9293-b6fde8260c2b",
        "colab": {
          "base_uri": "https://localhost:8080/",
          "height": 86
        }
      },
      "execution_count": 7,
      "outputs": [
        {
          "output_type": "display_data",
          "data": {
            "text/html": [
              "100"
            ],
            "text/markdown": "100",
            "text/latex": "100",
            "text/plain": [
              "[1] 100"
            ]
          },
          "metadata": {}
        },
        {
          "output_type": "display_data",
          "data": {
            "text/html": [
              "50"
            ],
            "text/markdown": "50",
            "text/latex": "50",
            "text/plain": [
              "[1] 50"
            ]
          },
          "metadata": {}
        },
        {
          "output_type": "display_data",
          "data": {
            "text/html": [
              "'Oi, Mundo'"
            ],
            "text/markdown": "'Oi, Mundo'",
            "text/latex": "'Oi, Mundo'",
            "text/plain": [
              "[1] \"Oi, Mundo\""
            ]
          },
          "metadata": {}
        },
        {
          "output_type": "display_data",
          "data": {
            "text/html": [
              "TRUE"
            ],
            "text/markdown": "TRUE",
            "text/latex": "TRUE",
            "text/plain": [
              "[1] TRUE"
            ]
          },
          "metadata": {}
        }
      ]
    },
    {
      "cell_type": "code",
      "source": [
        "x\n",
        "y\n",
        "z\n",
        "w"
      ],
      "metadata": {
        "id": "5zd6GelF2TRe",
        "outputId": "cddb1d1d-d70a-4a22-d10a-7892497b82c6",
        "colab": {
          "base_uri": "https://localhost:8080/",
          "height": 86
        }
      },
      "execution_count": 8,
      "outputs": [
        {
          "output_type": "display_data",
          "data": {
            "text/html": [
              "100"
            ],
            "text/markdown": "100",
            "text/latex": "100",
            "text/plain": [
              "[1] 100"
            ]
          },
          "metadata": {}
        },
        {
          "output_type": "display_data",
          "data": {
            "text/html": [
              "50"
            ],
            "text/markdown": "50",
            "text/latex": "50",
            "text/plain": [
              "[1] 50"
            ]
          },
          "metadata": {}
        },
        {
          "output_type": "display_data",
          "data": {
            "text/html": [
              "'Oi, Mundo'"
            ],
            "text/markdown": "'Oi, Mundo'",
            "text/latex": "'Oi, Mundo'",
            "text/plain": [
              "[1] \"Oi, Mundo\""
            ]
          },
          "metadata": {}
        },
        {
          "output_type": "display_data",
          "data": {
            "text/html": [
              "TRUE"
            ],
            "text/markdown": "TRUE",
            "text/latex": "TRUE",
            "text/plain": [
              "[1] TRUE"
            ]
          },
          "metadata": {}
        }
      ]
    },
    {
      "cell_type": "code",
      "source": [
        "# Dá para fazer conta?\n",
        "x+y"
      ],
      "metadata": {
        "id": "wwdxOt3GvQgx",
        "outputId": "7edce767-dc54-40b5-c9f9-95cc72b0d439",
        "colab": {
          "base_uri": "https://localhost:8080/",
          "height": 34
        }
      },
      "execution_count": 9,
      "outputs": [
        {
          "output_type": "display_data",
          "data": {
            "text/html": [
              "150"
            ],
            "text/markdown": "150",
            "text/latex": "150",
            "text/plain": [
              "[1] 150"
            ]
          },
          "metadata": {}
        }
      ]
    },
    {
      "cell_type": "code",
      "source": [
        "# E essa?\n",
        "x+z"
      ],
      "metadata": {
        "id": "bZgwmO58vYJV"
      },
      "execution_count": null,
      "outputs": []
    },
    {
      "cell_type": "code",
      "source": [
        "# E essa?\n",
        "x+w\n",
        "# Ué ?!\n",
        "# Explicação: x é 100, e w é TRUE, e TRUE é associado ao número 1\n",
        "# Por isso dá 100+1 == 101."
      ],
      "metadata": {
        "id": "VZfDaSf9vgUU"
      },
      "execution_count": null,
      "outputs": []
    },
    {
      "cell_type": "code",
      "source": [
        "x"
      ],
      "metadata": {
        "id": "CYKjdkTG3X8V"
      },
      "execution_count": null,
      "outputs": []
    },
    {
      "cell_type": "code",
      "source": [
        "# Removendo o x\n",
        "rm(x)\n",
        "x"
      ],
      "metadata": {
        "id": "iaCj2KTA3eYP"
      },
      "execution_count": null,
      "outputs": []
    },
    {
      "cell_type": "code",
      "source": [
        "# Recriando o x\n",
        "x <- 100"
      ],
      "metadata": {
        "id": "UVIJfzZh36uh"
      },
      "execution_count": null,
      "outputs": []
    },
    {
      "cell_type": "markdown",
      "source": [
        "## Classes\n",
        "Os objetos de R, ao serem criados, são **classificados**. Assim, cada objeto tem uma **classe**.\n",
        "\n",
        "As classes mais básicas são _numérico_ (`numeric`), _texto_ (`character`) e _lógico_ (`logical`).\n",
        "\n",
        "Para saber a classe de um objeto `x`, usamos a função `class(x)`.\n",
        "\n",
        "Veja: \n",
        "https://livro.curso-r.com/3-5-classes.html"
      ],
      "metadata": {
        "id": "4OUvZ9Egv2ou"
      }
    },
    {
      "cell_type": "code",
      "source": [
        "# Tente:\n",
        "class(x)\n",
        "class(y)\n",
        "class(z)\n",
        "class(w)"
      ],
      "metadata": {
        "id": "50IfMzabwVmh",
        "outputId": "af708861-e81c-4b11-ce4d-797980db1e59",
        "colab": {
          "base_uri": "https://localhost:8080/",
          "height": 86
        }
      },
      "execution_count": 10,
      "outputs": [
        {
          "output_type": "display_data",
          "data": {
            "text/html": [
              "'numeric'"
            ],
            "text/markdown": "'numeric'",
            "text/latex": "'numeric'",
            "text/plain": [
              "[1] \"numeric\""
            ]
          },
          "metadata": {}
        },
        {
          "output_type": "display_data",
          "data": {
            "text/html": [
              "'numeric'"
            ],
            "text/markdown": "'numeric'",
            "text/latex": "'numeric'",
            "text/plain": [
              "[1] \"numeric\""
            ]
          },
          "metadata": {}
        },
        {
          "output_type": "display_data",
          "data": {
            "text/html": [
              "'character'"
            ],
            "text/markdown": "'character'",
            "text/latex": "'character'",
            "text/plain": [
              "[1] \"character\""
            ]
          },
          "metadata": {}
        },
        {
          "output_type": "display_data",
          "data": {
            "text/html": [
              "'logical'"
            ],
            "text/markdown": "'logical'",
            "text/latex": "'logical'",
            "text/plain": [
              "[1] \"logical\""
            ]
          },
          "metadata": {}
        }
      ]
    },
    {
      "cell_type": "code",
      "source": [
        "# Mais alguns exemplos\n",
        "\n",
        "iris"
      ],
      "metadata": {
        "id": "5fhCcmjzw9qP",
        "outputId": "1f187fc5-23e3-4d34-8002-f8fe9f8e297a",
        "colab": {
          "base_uri": "https://localhost:8080/",
          "height": 1000
        }
      },
      "execution_count": 11,
      "outputs": [
        {
          "output_type": "display_data",
          "data": {
            "text/html": [
              "<table class=\"dataframe\">\n",
              "<caption>A data.frame: 150 × 5</caption>\n",
              "<thead>\n",
              "\t<tr><th scope=col>Sepal.Length</th><th scope=col>Sepal.Width</th><th scope=col>Petal.Length</th><th scope=col>Petal.Width</th><th scope=col>Species</th></tr>\n",
              "\t<tr><th scope=col>&lt;dbl&gt;</th><th scope=col>&lt;dbl&gt;</th><th scope=col>&lt;dbl&gt;</th><th scope=col>&lt;dbl&gt;</th><th scope=col>&lt;fct&gt;</th></tr>\n",
              "</thead>\n",
              "<tbody>\n",
              "\t<tr><td>5.1</td><td>3.5</td><td>1.4</td><td>0.2</td><td>setosa</td></tr>\n",
              "\t<tr><td>4.9</td><td>3.0</td><td>1.4</td><td>0.2</td><td>setosa</td></tr>\n",
              "\t<tr><td>4.7</td><td>3.2</td><td>1.3</td><td>0.2</td><td>setosa</td></tr>\n",
              "\t<tr><td>4.6</td><td>3.1</td><td>1.5</td><td>0.2</td><td>setosa</td></tr>\n",
              "\t<tr><td>5.0</td><td>3.6</td><td>1.4</td><td>0.2</td><td>setosa</td></tr>\n",
              "\t<tr><td>5.4</td><td>3.9</td><td>1.7</td><td>0.4</td><td>setosa</td></tr>\n",
              "\t<tr><td>4.6</td><td>3.4</td><td>1.4</td><td>0.3</td><td>setosa</td></tr>\n",
              "\t<tr><td>5.0</td><td>3.4</td><td>1.5</td><td>0.2</td><td>setosa</td></tr>\n",
              "\t<tr><td>4.4</td><td>2.9</td><td>1.4</td><td>0.2</td><td>setosa</td></tr>\n",
              "\t<tr><td>4.9</td><td>3.1</td><td>1.5</td><td>0.1</td><td>setosa</td></tr>\n",
              "\t<tr><td>5.4</td><td>3.7</td><td>1.5</td><td>0.2</td><td>setosa</td></tr>\n",
              "\t<tr><td>4.8</td><td>3.4</td><td>1.6</td><td>0.2</td><td>setosa</td></tr>\n",
              "\t<tr><td>4.8</td><td>3.0</td><td>1.4</td><td>0.1</td><td>setosa</td></tr>\n",
              "\t<tr><td>4.3</td><td>3.0</td><td>1.1</td><td>0.1</td><td>setosa</td></tr>\n",
              "\t<tr><td>5.8</td><td>4.0</td><td>1.2</td><td>0.2</td><td>setosa</td></tr>\n",
              "\t<tr><td>5.7</td><td>4.4</td><td>1.5</td><td>0.4</td><td>setosa</td></tr>\n",
              "\t<tr><td>5.4</td><td>3.9</td><td>1.3</td><td>0.4</td><td>setosa</td></tr>\n",
              "\t<tr><td>5.1</td><td>3.5</td><td>1.4</td><td>0.3</td><td>setosa</td></tr>\n",
              "\t<tr><td>5.7</td><td>3.8</td><td>1.7</td><td>0.3</td><td>setosa</td></tr>\n",
              "\t<tr><td>5.1</td><td>3.8</td><td>1.5</td><td>0.3</td><td>setosa</td></tr>\n",
              "\t<tr><td>5.4</td><td>3.4</td><td>1.7</td><td>0.2</td><td>setosa</td></tr>\n",
              "\t<tr><td>5.1</td><td>3.7</td><td>1.5</td><td>0.4</td><td>setosa</td></tr>\n",
              "\t<tr><td>4.6</td><td>3.6</td><td>1.0</td><td>0.2</td><td>setosa</td></tr>\n",
              "\t<tr><td>5.1</td><td>3.3</td><td>1.7</td><td>0.5</td><td>setosa</td></tr>\n",
              "\t<tr><td>4.8</td><td>3.4</td><td>1.9</td><td>0.2</td><td>setosa</td></tr>\n",
              "\t<tr><td>5.0</td><td>3.0</td><td>1.6</td><td>0.2</td><td>setosa</td></tr>\n",
              "\t<tr><td>5.0</td><td>3.4</td><td>1.6</td><td>0.4</td><td>setosa</td></tr>\n",
              "\t<tr><td>5.2</td><td>3.5</td><td>1.5</td><td>0.2</td><td>setosa</td></tr>\n",
              "\t<tr><td>5.2</td><td>3.4</td><td>1.4</td><td>0.2</td><td>setosa</td></tr>\n",
              "\t<tr><td>4.7</td><td>3.2</td><td>1.6</td><td>0.2</td><td>setosa</td></tr>\n",
              "\t<tr><td>⋮</td><td>⋮</td><td>⋮</td><td>⋮</td><td>⋮</td></tr>\n",
              "\t<tr><td>6.9</td><td>3.2</td><td>5.7</td><td>2.3</td><td>virginica</td></tr>\n",
              "\t<tr><td>5.6</td><td>2.8</td><td>4.9</td><td>2.0</td><td>virginica</td></tr>\n",
              "\t<tr><td>7.7</td><td>2.8</td><td>6.7</td><td>2.0</td><td>virginica</td></tr>\n",
              "\t<tr><td>6.3</td><td>2.7</td><td>4.9</td><td>1.8</td><td>virginica</td></tr>\n",
              "\t<tr><td>6.7</td><td>3.3</td><td>5.7</td><td>2.1</td><td>virginica</td></tr>\n",
              "\t<tr><td>7.2</td><td>3.2</td><td>6.0</td><td>1.8</td><td>virginica</td></tr>\n",
              "\t<tr><td>6.2</td><td>2.8</td><td>4.8</td><td>1.8</td><td>virginica</td></tr>\n",
              "\t<tr><td>6.1</td><td>3.0</td><td>4.9</td><td>1.8</td><td>virginica</td></tr>\n",
              "\t<tr><td>6.4</td><td>2.8</td><td>5.6</td><td>2.1</td><td>virginica</td></tr>\n",
              "\t<tr><td>7.2</td><td>3.0</td><td>5.8</td><td>1.6</td><td>virginica</td></tr>\n",
              "\t<tr><td>7.4</td><td>2.8</td><td>6.1</td><td>1.9</td><td>virginica</td></tr>\n",
              "\t<tr><td>7.9</td><td>3.8</td><td>6.4</td><td>2.0</td><td>virginica</td></tr>\n",
              "\t<tr><td>6.4</td><td>2.8</td><td>5.6</td><td>2.2</td><td>virginica</td></tr>\n",
              "\t<tr><td>6.3</td><td>2.8</td><td>5.1</td><td>1.5</td><td>virginica</td></tr>\n",
              "\t<tr><td>6.1</td><td>2.6</td><td>5.6</td><td>1.4</td><td>virginica</td></tr>\n",
              "\t<tr><td>7.7</td><td>3.0</td><td>6.1</td><td>2.3</td><td>virginica</td></tr>\n",
              "\t<tr><td>6.3</td><td>3.4</td><td>5.6</td><td>2.4</td><td>virginica</td></tr>\n",
              "\t<tr><td>6.4</td><td>3.1</td><td>5.5</td><td>1.8</td><td>virginica</td></tr>\n",
              "\t<tr><td>6.0</td><td>3.0</td><td>4.8</td><td>1.8</td><td>virginica</td></tr>\n",
              "\t<tr><td>6.9</td><td>3.1</td><td>5.4</td><td>2.1</td><td>virginica</td></tr>\n",
              "\t<tr><td>6.7</td><td>3.1</td><td>5.6</td><td>2.4</td><td>virginica</td></tr>\n",
              "\t<tr><td>6.9</td><td>3.1</td><td>5.1</td><td>2.3</td><td>virginica</td></tr>\n",
              "\t<tr><td>5.8</td><td>2.7</td><td>5.1</td><td>1.9</td><td>virginica</td></tr>\n",
              "\t<tr><td>6.8</td><td>3.2</td><td>5.9</td><td>2.3</td><td>virginica</td></tr>\n",
              "\t<tr><td>6.7</td><td>3.3</td><td>5.7</td><td>2.5</td><td>virginica</td></tr>\n",
              "\t<tr><td>6.7</td><td>3.0</td><td>5.2</td><td>2.3</td><td>virginica</td></tr>\n",
              "\t<tr><td>6.3</td><td>2.5</td><td>5.0</td><td>1.9</td><td>virginica</td></tr>\n",
              "\t<tr><td>6.5</td><td>3.0</td><td>5.2</td><td>2.0</td><td>virginica</td></tr>\n",
              "\t<tr><td>6.2</td><td>3.4</td><td>5.4</td><td>2.3</td><td>virginica</td></tr>\n",
              "\t<tr><td>5.9</td><td>3.0</td><td>5.1</td><td>1.8</td><td>virginica</td></tr>\n",
              "</tbody>\n",
              "</table>\n"
            ],
            "text/markdown": "\nA data.frame: 150 × 5\n\n| Sepal.Length &lt;dbl&gt; | Sepal.Width &lt;dbl&gt; | Petal.Length &lt;dbl&gt; | Petal.Width &lt;dbl&gt; | Species &lt;fct&gt; |\n|---|---|---|---|---|\n| 5.1 | 3.5 | 1.4 | 0.2 | setosa |\n| 4.9 | 3.0 | 1.4 | 0.2 | setosa |\n| 4.7 | 3.2 | 1.3 | 0.2 | setosa |\n| 4.6 | 3.1 | 1.5 | 0.2 | setosa |\n| 5.0 | 3.6 | 1.4 | 0.2 | setosa |\n| 5.4 | 3.9 | 1.7 | 0.4 | setosa |\n| 4.6 | 3.4 | 1.4 | 0.3 | setosa |\n| 5.0 | 3.4 | 1.5 | 0.2 | setosa |\n| 4.4 | 2.9 | 1.4 | 0.2 | setosa |\n| 4.9 | 3.1 | 1.5 | 0.1 | setosa |\n| 5.4 | 3.7 | 1.5 | 0.2 | setosa |\n| 4.8 | 3.4 | 1.6 | 0.2 | setosa |\n| 4.8 | 3.0 | 1.4 | 0.1 | setosa |\n| 4.3 | 3.0 | 1.1 | 0.1 | setosa |\n| 5.8 | 4.0 | 1.2 | 0.2 | setosa |\n| 5.7 | 4.4 | 1.5 | 0.4 | setosa |\n| 5.4 | 3.9 | 1.3 | 0.4 | setosa |\n| 5.1 | 3.5 | 1.4 | 0.3 | setosa |\n| 5.7 | 3.8 | 1.7 | 0.3 | setosa |\n| 5.1 | 3.8 | 1.5 | 0.3 | setosa |\n| 5.4 | 3.4 | 1.7 | 0.2 | setosa |\n| 5.1 | 3.7 | 1.5 | 0.4 | setosa |\n| 4.6 | 3.6 | 1.0 | 0.2 | setosa |\n| 5.1 | 3.3 | 1.7 | 0.5 | setosa |\n| 4.8 | 3.4 | 1.9 | 0.2 | setosa |\n| 5.0 | 3.0 | 1.6 | 0.2 | setosa |\n| 5.0 | 3.4 | 1.6 | 0.4 | setosa |\n| 5.2 | 3.5 | 1.5 | 0.2 | setosa |\n| 5.2 | 3.4 | 1.4 | 0.2 | setosa |\n| 4.7 | 3.2 | 1.6 | 0.2 | setosa |\n| ⋮ | ⋮ | ⋮ | ⋮ | ⋮ |\n| 6.9 | 3.2 | 5.7 | 2.3 | virginica |\n| 5.6 | 2.8 | 4.9 | 2.0 | virginica |\n| 7.7 | 2.8 | 6.7 | 2.0 | virginica |\n| 6.3 | 2.7 | 4.9 | 1.8 | virginica |\n| 6.7 | 3.3 | 5.7 | 2.1 | virginica |\n| 7.2 | 3.2 | 6.0 | 1.8 | virginica |\n| 6.2 | 2.8 | 4.8 | 1.8 | virginica |\n| 6.1 | 3.0 | 4.9 | 1.8 | virginica |\n| 6.4 | 2.8 | 5.6 | 2.1 | virginica |\n| 7.2 | 3.0 | 5.8 | 1.6 | virginica |\n| 7.4 | 2.8 | 6.1 | 1.9 | virginica |\n| 7.9 | 3.8 | 6.4 | 2.0 | virginica |\n| 6.4 | 2.8 | 5.6 | 2.2 | virginica |\n| 6.3 | 2.8 | 5.1 | 1.5 | virginica |\n| 6.1 | 2.6 | 5.6 | 1.4 | virginica |\n| 7.7 | 3.0 | 6.1 | 2.3 | virginica |\n| 6.3 | 3.4 | 5.6 | 2.4 | virginica |\n| 6.4 | 3.1 | 5.5 | 1.8 | virginica |\n| 6.0 | 3.0 | 4.8 | 1.8 | virginica |\n| 6.9 | 3.1 | 5.4 | 2.1 | virginica |\n| 6.7 | 3.1 | 5.6 | 2.4 | virginica |\n| 6.9 | 3.1 | 5.1 | 2.3 | virginica |\n| 5.8 | 2.7 | 5.1 | 1.9 | virginica |\n| 6.8 | 3.2 | 5.9 | 2.3 | virginica |\n| 6.7 | 3.3 | 5.7 | 2.5 | virginica |\n| 6.7 | 3.0 | 5.2 | 2.3 | virginica |\n| 6.3 | 2.5 | 5.0 | 1.9 | virginica |\n| 6.5 | 3.0 | 5.2 | 2.0 | virginica |\n| 6.2 | 3.4 | 5.4 | 2.3 | virginica |\n| 5.9 | 3.0 | 5.1 | 1.8 | virginica |\n\n",
            "text/latex": "A data.frame: 150 × 5\n\\begin{tabular}{lllll}\n Sepal.Length & Sepal.Width & Petal.Length & Petal.Width & Species\\\\\n <dbl> & <dbl> & <dbl> & <dbl> & <fct>\\\\\n\\hline\n\t 5.1 & 3.5 & 1.4 & 0.2 & setosa\\\\\n\t 4.9 & 3.0 & 1.4 & 0.2 & setosa\\\\\n\t 4.7 & 3.2 & 1.3 & 0.2 & setosa\\\\\n\t 4.6 & 3.1 & 1.5 & 0.2 & setosa\\\\\n\t 5.0 & 3.6 & 1.4 & 0.2 & setosa\\\\\n\t 5.4 & 3.9 & 1.7 & 0.4 & setosa\\\\\n\t 4.6 & 3.4 & 1.4 & 0.3 & setosa\\\\\n\t 5.0 & 3.4 & 1.5 & 0.2 & setosa\\\\\n\t 4.4 & 2.9 & 1.4 & 0.2 & setosa\\\\\n\t 4.9 & 3.1 & 1.5 & 0.1 & setosa\\\\\n\t 5.4 & 3.7 & 1.5 & 0.2 & setosa\\\\\n\t 4.8 & 3.4 & 1.6 & 0.2 & setosa\\\\\n\t 4.8 & 3.0 & 1.4 & 0.1 & setosa\\\\\n\t 4.3 & 3.0 & 1.1 & 0.1 & setosa\\\\\n\t 5.8 & 4.0 & 1.2 & 0.2 & setosa\\\\\n\t 5.7 & 4.4 & 1.5 & 0.4 & setosa\\\\\n\t 5.4 & 3.9 & 1.3 & 0.4 & setosa\\\\\n\t 5.1 & 3.5 & 1.4 & 0.3 & setosa\\\\\n\t 5.7 & 3.8 & 1.7 & 0.3 & setosa\\\\\n\t 5.1 & 3.8 & 1.5 & 0.3 & setosa\\\\\n\t 5.4 & 3.4 & 1.7 & 0.2 & setosa\\\\\n\t 5.1 & 3.7 & 1.5 & 0.4 & setosa\\\\\n\t 4.6 & 3.6 & 1.0 & 0.2 & setosa\\\\\n\t 5.1 & 3.3 & 1.7 & 0.5 & setosa\\\\\n\t 4.8 & 3.4 & 1.9 & 0.2 & setosa\\\\\n\t 5.0 & 3.0 & 1.6 & 0.2 & setosa\\\\\n\t 5.0 & 3.4 & 1.6 & 0.4 & setosa\\\\\n\t 5.2 & 3.5 & 1.5 & 0.2 & setosa\\\\\n\t 5.2 & 3.4 & 1.4 & 0.2 & setosa\\\\\n\t 4.7 & 3.2 & 1.6 & 0.2 & setosa\\\\\n\t ⋮ & ⋮ & ⋮ & ⋮ & ⋮\\\\\n\t 6.9 & 3.2 & 5.7 & 2.3 & virginica\\\\\n\t 5.6 & 2.8 & 4.9 & 2.0 & virginica\\\\\n\t 7.7 & 2.8 & 6.7 & 2.0 & virginica\\\\\n\t 6.3 & 2.7 & 4.9 & 1.8 & virginica\\\\\n\t 6.7 & 3.3 & 5.7 & 2.1 & virginica\\\\\n\t 7.2 & 3.2 & 6.0 & 1.8 & virginica\\\\\n\t 6.2 & 2.8 & 4.8 & 1.8 & virginica\\\\\n\t 6.1 & 3.0 & 4.9 & 1.8 & virginica\\\\\n\t 6.4 & 2.8 & 5.6 & 2.1 & virginica\\\\\n\t 7.2 & 3.0 & 5.8 & 1.6 & virginica\\\\\n\t 7.4 & 2.8 & 6.1 & 1.9 & virginica\\\\\n\t 7.9 & 3.8 & 6.4 & 2.0 & virginica\\\\\n\t 6.4 & 2.8 & 5.6 & 2.2 & virginica\\\\\n\t 6.3 & 2.8 & 5.1 & 1.5 & virginica\\\\\n\t 6.1 & 2.6 & 5.6 & 1.4 & virginica\\\\\n\t 7.7 & 3.0 & 6.1 & 2.3 & virginica\\\\\n\t 6.3 & 3.4 & 5.6 & 2.4 & virginica\\\\\n\t 6.4 & 3.1 & 5.5 & 1.8 & virginica\\\\\n\t 6.0 & 3.0 & 4.8 & 1.8 & virginica\\\\\n\t 6.9 & 3.1 & 5.4 & 2.1 & virginica\\\\\n\t 6.7 & 3.1 & 5.6 & 2.4 & virginica\\\\\n\t 6.9 & 3.1 & 5.1 & 2.3 & virginica\\\\\n\t 5.8 & 2.7 & 5.1 & 1.9 & virginica\\\\\n\t 6.8 & 3.2 & 5.9 & 2.3 & virginica\\\\\n\t 6.7 & 3.3 & 5.7 & 2.5 & virginica\\\\\n\t 6.7 & 3.0 & 5.2 & 2.3 & virginica\\\\\n\t 6.3 & 2.5 & 5.0 & 1.9 & virginica\\\\\n\t 6.5 & 3.0 & 5.2 & 2.0 & virginica\\\\\n\t 6.2 & 3.4 & 5.4 & 2.3 & virginica\\\\\n\t 5.9 & 3.0 & 5.1 & 1.8 & virginica\\\\\n\\end{tabular}\n",
            "text/plain": [
              "    Sepal.Length Sepal.Width Petal.Length Petal.Width Species  \n",
              "1   5.1          3.5         1.4          0.2         setosa   \n",
              "2   4.9          3.0         1.4          0.2         setosa   \n",
              "3   4.7          3.2         1.3          0.2         setosa   \n",
              "4   4.6          3.1         1.5          0.2         setosa   \n",
              "5   5.0          3.6         1.4          0.2         setosa   \n",
              "6   5.4          3.9         1.7          0.4         setosa   \n",
              "7   4.6          3.4         1.4          0.3         setosa   \n",
              "8   5.0          3.4         1.5          0.2         setosa   \n",
              "9   4.4          2.9         1.4          0.2         setosa   \n",
              "10  4.9          3.1         1.5          0.1         setosa   \n",
              "11  5.4          3.7         1.5          0.2         setosa   \n",
              "12  4.8          3.4         1.6          0.2         setosa   \n",
              "13  4.8          3.0         1.4          0.1         setosa   \n",
              "14  4.3          3.0         1.1          0.1         setosa   \n",
              "15  5.8          4.0         1.2          0.2         setosa   \n",
              "16  5.7          4.4         1.5          0.4         setosa   \n",
              "17  5.4          3.9         1.3          0.4         setosa   \n",
              "18  5.1          3.5         1.4          0.3         setosa   \n",
              "19  5.7          3.8         1.7          0.3         setosa   \n",
              "20  5.1          3.8         1.5          0.3         setosa   \n",
              "21  5.4          3.4         1.7          0.2         setosa   \n",
              "22  5.1          3.7         1.5          0.4         setosa   \n",
              "23  4.6          3.6         1.0          0.2         setosa   \n",
              "24  5.1          3.3         1.7          0.5         setosa   \n",
              "25  4.8          3.4         1.9          0.2         setosa   \n",
              "26  5.0          3.0         1.6          0.2         setosa   \n",
              "27  5.0          3.4         1.6          0.4         setosa   \n",
              "28  5.2          3.5         1.5          0.2         setosa   \n",
              "29  5.2          3.4         1.4          0.2         setosa   \n",
              "30  4.7          3.2         1.6          0.2         setosa   \n",
              "⋮   ⋮            ⋮           ⋮            ⋮           ⋮        \n",
              "121 6.9          3.2         5.7          2.3         virginica\n",
              "122 5.6          2.8         4.9          2.0         virginica\n",
              "123 7.7          2.8         6.7          2.0         virginica\n",
              "124 6.3          2.7         4.9          1.8         virginica\n",
              "125 6.7          3.3         5.7          2.1         virginica\n",
              "126 7.2          3.2         6.0          1.8         virginica\n",
              "127 6.2          2.8         4.8          1.8         virginica\n",
              "128 6.1          3.0         4.9          1.8         virginica\n",
              "129 6.4          2.8         5.6          2.1         virginica\n",
              "130 7.2          3.0         5.8          1.6         virginica\n",
              "131 7.4          2.8         6.1          1.9         virginica\n",
              "132 7.9          3.8         6.4          2.0         virginica\n",
              "133 6.4          2.8         5.6          2.2         virginica\n",
              "134 6.3          2.8         5.1          1.5         virginica\n",
              "135 6.1          2.6         5.6          1.4         virginica\n",
              "136 7.7          3.0         6.1          2.3         virginica\n",
              "137 6.3          3.4         5.6          2.4         virginica\n",
              "138 6.4          3.1         5.5          1.8         virginica\n",
              "139 6.0          3.0         4.8          1.8         virginica\n",
              "140 6.9          3.1         5.4          2.1         virginica\n",
              "141 6.7          3.1         5.6          2.4         virginica\n",
              "142 6.9          3.1         5.1          2.3         virginica\n",
              "143 5.8          2.7         5.1          1.9         virginica\n",
              "144 6.8          3.2         5.9          2.3         virginica\n",
              "145 6.7          3.3         5.7          2.5         virginica\n",
              "146 6.7          3.0         5.2          2.3         virginica\n",
              "147 6.3          2.5         5.0          1.9         virginica\n",
              "148 6.5          3.0         5.2          2.0         virginica\n",
              "149 6.2          3.4         5.4          2.3         virginica\n",
              "150 5.9          3.0         5.1          1.8         virginica"
            ]
          },
          "metadata": {}
        }
      ]
    },
    {
      "cell_type": "code",
      "source": [
        "class(iris)"
      ],
      "metadata": {
        "id": "gV19s59p6y6x",
        "outputId": "8e111802-db56-4633-c2c8-ac8cdaa85a46",
        "colab": {
          "base_uri": "https://localhost:8080/",
          "height": 34
        }
      },
      "execution_count": 12,
      "outputs": [
        {
          "output_type": "display_data",
          "data": {
            "text/html": [
              "'data.frame'"
            ],
            "text/markdown": "'data.frame'",
            "text/latex": "'data.frame'",
            "text/plain": [
              "[1] \"data.frame\""
            ]
          },
          "metadata": {}
        }
      ]
    },
    {
      "cell_type": "markdown",
      "source": [
        "# Exercícios sobre texto\n",
        "1. Crie um objeto `nome` e guarde nele seu nome completo."
      ],
      "metadata": {
        "id": "HYbrLUF-w3rB"
      }
    },
    {
      "cell_type": "code",
      "source": [
        "# Resolva o exercício 1 aqui:\n",
        "nome = \"Bruno Giusti Loducca\""
      ],
      "metadata": {
        "id": "RwipGjqrxGv1"
      },
      "execution_count": 18,
      "outputs": []
    },
    {
      "cell_type": "markdown",
      "source": [
        "2. Use a função `nchar` para contar o número de caracteres do seu nome."
      ],
      "metadata": {
        "id": "F8z3ip9jxKWH"
      }
    },
    {
      "cell_type": "code",
      "source": [
        "# Resolva o exercício 2 aqui:\n",
        "nchar(nome)"
      ],
      "metadata": {
        "id": "IVlkm1UnxJJp",
        "outputId": "77fa7260-2c9a-4f4d-ef0e-208da1c78857",
        "colab": {
          "base_uri": "https://localhost:8080/",
          "height": 34
        }
      },
      "execution_count": 19,
      "outputs": [
        {
          "output_type": "display_data",
          "data": {
            "text/html": [
              "20"
            ],
            "text/markdown": "20",
            "text/latex": "20",
            "text/plain": [
              "[1] 20"
            ]
          },
          "metadata": {}
        }
      ]
    },
    {
      "cell_type": "markdown",
      "source": [
        "3. Rode o código a seguir e explique o que `gsub` faz."
      ],
      "metadata": {
        "id": "5loUOmksxrGm"
      }
    },
    {
      "cell_type": "code",
      "source": [
        "nomesemespaco = gsub(\" \", \"\", nome) # A função gsub substitui algo que contenha na variável nome, sendo\n",
        "                                    # que o primeiro valor antes da ',' é o item que queremos substituir \n",
        "                                    # e o segundo valor após a ',' é valor que será colocado. \n",
        "nomesemespaco"
      ],
      "metadata": {
        "id": "aPXIgW_xxvgF",
        "outputId": "0d5aa810-73fe-4e50-c2ab-067e05c8fa33",
        "colab": {
          "base_uri": "https://localhost:8080/",
          "height": 34
        }
      },
      "execution_count": 21,
      "outputs": [
        {
          "output_type": "display_data",
          "data": {
            "text/html": [
              "'BrunoGiustiLoducca'"
            ],
            "text/markdown": "'BrunoGiustiLoducca'",
            "text/latex": "'BrunoGiustiLoducca'",
            "text/plain": [
              "[1] \"BrunoGiustiLoducca\""
            ]
          },
          "metadata": {}
        }
      ]
    },
    {
      "cell_type": "markdown",
      "source": [
        "4. Escreva um código que conte o número de letras do seu nome, sem contar os espaços."
      ],
      "metadata": {
        "id": "UgHJD_qmx0Y4"
      }
    },
    {
      "cell_type": "code",
      "source": [
        "# Resolva o exercício 4 aqui:\n"
      ],
      "metadata": {
        "id": "dtf1Cckqx7kq"
      },
      "execution_count": null,
      "outputs": []
    },
    {
      "cell_type": "markdown",
      "source": [
        "5. Crie três objetos, `bairro`, `cidade` e `estado`, com o bairro, a cidade e a sigla do estado onde você mora. "
      ],
      "metadata": {
        "id": "c7uxCtA4yAjm"
      }
    },
    {
      "cell_type": "code",
      "source": [
        "# Resolva o exercício 5 aqui:\n",
        "\n",
        "bairro = \"Pirituba\"\n",
        "cidade = \"São Paulo\"\n",
        "estado = \"SP\"\n",
        "\n",
        "bairro\n",
        "cidade\n",
        "estado\n"
      ],
      "metadata": {
        "id": "iHWCZ-IDyNPh",
        "outputId": "298489a9-38bb-4027-e00c-5b8dbc29f6b6",
        "colab": {
          "base_uri": "https://localhost:8080/",
          "height": 69
        }
      },
      "execution_count": 22,
      "outputs": [
        {
          "output_type": "display_data",
          "data": {
            "text/html": [
              "'Pirituba'"
            ],
            "text/markdown": "'Pirituba'",
            "text/latex": "'Pirituba'",
            "text/plain": [
              "[1] \"Pirituba\""
            ]
          },
          "metadata": {}
        },
        {
          "output_type": "display_data",
          "data": {
            "text/html": [
              "'São Paulo'"
            ],
            "text/markdown": "'São Paulo'",
            "text/latex": "'São Paulo'",
            "text/plain": [
              "[1] \"São Paulo\""
            ]
          },
          "metadata": {}
        },
        {
          "output_type": "display_data",
          "data": {
            "text/html": [
              "'SP'"
            ],
            "text/markdown": "'SP'",
            "text/latex": "'SP'",
            "text/plain": [
              "[1] \"SP\""
            ]
          },
          "metadata": {}
        }
      ]
    },
    {
      "cell_type": "markdown",
      "source": [
        "6. Explore um pouco a função `paste`. Use os objetos `bairro`, `cidade` e `estado` para fazer sua exploração.\n",
        "\n",
        "Lembre-se: você pode usar `?paste` ou `help(paste)` para ver o que essa função faz."
      ],
      "metadata": {
        "id": "vPODR3EhyPti"
      }
    },
    {
      "cell_type": "code",
      "source": [
        "# Resolva o exercício 6 aqui:\n",
        "paste(bairro, \",\", cidade, \"-\", estado)"
      ],
      "metadata": {
        "id": "jgKF8kCzybRe",
        "outputId": "dedf7d76-092b-491c-8eb6-8971aa3fe161",
        "colab": {
          "base_uri": "https://localhost:8080/",
          "height": 34
        }
      },
      "execution_count": 25,
      "outputs": [
        {
          "output_type": "display_data",
          "data": {
            "text/html": [
              "'Pirituba , São Paulo - SP'"
            ],
            "text/markdown": "'Pirituba , São Paulo - SP'",
            "text/latex": "'Pirituba , São Paulo - SP'",
            "text/plain": [
              "[1] \"Pirituba , São Paulo - SP\""
            ]
          },
          "metadata": {}
        }
      ]
    },
    {
      "cell_type": "code",
      "source": [
        "# Consertando a virgula\n",
        "paste(bairro, \",\", cidade, \"-\", estado, sep=\" \") # A função sep realiza uma separação"
      ],
      "metadata": {
        "id": "py3j0US9BUb9",
        "outputId": "ad7b2a7f-f220-4b1a-f2fc-e7597f3a1a05",
        "colab": {
          "base_uri": "https://localhost:8080/",
          "height": 34
        }
      },
      "execution_count": 27,
      "outputs": [
        {
          "output_type": "display_data",
          "data": {
            "text/html": [
              "'Pirituba , São Paulo - SP'"
            ],
            "text/markdown": "'Pirituba , São Paulo - SP'",
            "text/latex": "'Pirituba , São Paulo - SP'",
            "text/plain": [
              "[1] \"Pirituba , São Paulo - SP\""
            ]
          },
          "metadata": {}
        }
      ]
    },
    {
      "cell_type": "markdown",
      "source": [
        "7. Escreva um código que, dados os conteúdos dos objetos `bairro`, `cidade` e `estado`, escreva um texto único no formato \"`bairro`, `cidade` - `estado`\". Por exemplo: `\"Vila Mariana, São Paulo - SP\"`"
      ],
      "metadata": {
        "id": "wizkfYBfF4Wm"
      }
    },
    {
      "cell_type": "code",
      "source": [
        "# Resolva o exercício 7 aqui:\n"
      ],
      "metadata": {
        "id": "xkjWcWvJGU01"
      },
      "execution_count": null,
      "outputs": []
    },
    {
      "cell_type": "markdown",
      "source": [
        "8. O que acontece se fizermos `paste(bairro, cidade, estado, sep=' - ')`?"
      ],
      "metadata": {
        "id": "GhjKomXQGj-f"
      }
    },
    {
      "cell_type": "code",
      "source": [
        "# Veja o que acontece no exercício 8!\n"
      ],
      "metadata": {
        "id": "uZh8FcZaGi4m"
      },
      "execution_count": null,
      "outputs": []
    },
    {
      "cell_type": "markdown",
      "source": [
        "# Vetores\n",
        "Como dispor vários valores em uma só linha?\n",
        "\n",
        "https://livro.curso-r.com/3-6-vetores.html"
      ],
      "metadata": {
        "id": "ledkVeL9G-uA"
      }
    },
    {
      "cell_type": "code",
      "source": [
        "# Olhe um pouco a ajuda sobre vetor e sobre a função `c`:\n",
        "help(vector)"
      ],
      "metadata": {
        "id": "9a3O08c-HLfB"
      },
      "execution_count": null,
      "outputs": []
    },
    {
      "cell_type": "code",
      "source": [
        "help(c)"
      ],
      "metadata": {
        "id": "l8uhTZewHub8"
      },
      "execution_count": null,
      "outputs": []
    },
    {
      "cell_type": "markdown",
      "source": [
        "## Criando vetores\n",
        "Basta usar a função `c`, de `c`ombinar!\n",
        "\n",
        "Note que um vetor é uma sequência de coisas.\n",
        "\n",
        "Cuidado na hora de combinar: só usamos a vírgula (`,`), nunca ponto e vírgula."
      ],
      "metadata": {
        "id": "vfn0k0aQIkyE"
      }
    },
    {
      "cell_type": "code",
      "source": [
        "c(1,5,2)"
      ],
      "metadata": {
        "id": "TPDd1WtnIrsa"
      },
      "execution_count": null,
      "outputs": []
    },
    {
      "cell_type": "code",
      "source": [
        "# Posso guardar um vetor inteiro em um objeto!\n",
        "(v <- c(1,2,3,4))"
      ],
      "metadata": {
        "id": "ukG55ajoI0r-"
      },
      "execution_count": null,
      "outputs": []
    },
    {
      "cell_type": "code",
      "source": [
        "v"
      ],
      "metadata": {
        "id": "ro3B8hbME2aQ"
      },
      "execution_count": null,
      "outputs": []
    },
    {
      "cell_type": "code",
      "source": [
        "# Dá para ter sequência de textos?\n",
        "(v2 <- c(\"Vila Mariana\", \"São Paulo\", \"SP\"))"
      ],
      "metadata": {
        "id": "4s8HbqajJApT"
      },
      "execution_count": null,
      "outputs": []
    },
    {
      "cell_type": "code",
      "source": [
        "# Posso colocar objetos dentro de vetores?\n",
        "x <- c(1,pi)\n",
        "y <- 3\n",
        "c(x,y)"
      ],
      "metadata": {
        "id": "9mtIJe5hJJCy"
      },
      "execution_count": null,
      "outputs": []
    },
    {
      "cell_type": "code",
      "source": [
        "# E se colocar vetor dentro de vetor?\n",
        "c(v,v2)"
      ],
      "metadata": {
        "id": "mTzqWEBDJPUp"
      },
      "execution_count": null,
      "outputs": []
    },
    {
      "cell_type": "code",
      "source": [
        "class(c(v,v2))"
      ],
      "metadata": {
        "id": "egYn-3rjFe8p"
      },
      "execution_count": null,
      "outputs": []
    },
    {
      "cell_type": "markdown",
      "source": [
        "## Acessando valores dentro de vetores\n",
        "Suponha que você tenha `v <- c(1,4,3)` e queira achar o segundo elemento. Como faz?\n",
        "\n",
        "Usamos colchetes! `v[2]` é a resposta!\n",
        "\n",
        "Note que no R, começamos a contar de 1 (o primeiro elemento é 1). No Python, começamos do 0. Cuidado!"
      ],
      "metadata": {
        "id": "VNFCcKFZJbtE"
      }
    },
    {
      "cell_type": "code",
      "source": [
        "v <- c(1,4,3)\n",
        "v[2]"
      ],
      "metadata": {
        "id": "zcIw8Lb-JxfU"
      },
      "execution_count": null,
      "outputs": []
    },
    {
      "cell_type": "code",
      "source": [
        "# Se estiver fora do limite, dá erro?\n",
        "v[4]"
      ],
      "metadata": {
        "id": "agomSsGZJ9Cx"
      },
      "execution_count": null,
      "outputs": []
    },
    {
      "cell_type": "markdown",
      "source": [
        "## Alguns atalhos\n",
        "No Python, `range(2,9)` dá a sequência `[2,3,4,5,6,7,8]`. Dá para fazer algo parecido no R?\n",
        "\n",
        "A resposta é sim! Veja os exemplos a seguir."
      ],
      "metadata": {
        "id": "cleHcD7gKFxv"
      }
    },
    {
      "cell_type": "code",
      "source": [
        "1:10"
      ],
      "metadata": {
        "id": "96gaqctKKEIk"
      },
      "execution_count": null,
      "outputs": []
    },
    {
      "cell_type": "code",
      "source": [
        "10:1"
      ],
      "metadata": {
        "id": "dIgBS4_KKWPA"
      },
      "execution_count": null,
      "outputs": []
    },
    {
      "cell_type": "code",
      "source": [
        "-2:3"
      ],
      "metadata": {
        "id": "mYPP06x1KWx8"
      },
      "execution_count": null,
      "outputs": []
    },
    {
      "cell_type": "code",
      "source": [
        "10:0.1"
      ],
      "metadata": {
        "id": "tSfjwbouKYgA"
      },
      "execution_count": null,
      "outputs": []
    },
    {
      "cell_type": "markdown",
      "source": [
        "## Brincando com mais de um vetor\n",
        "Dá para comparar dois vetores?"
      ],
      "metadata": {
        "id": "VskX3a60KpVu"
      }
    },
    {
      "cell_type": "code",
      "source": [
        "v1 <- 1:5\n",
        "v2 <- c(1,2,4,3,5)\n",
        "v1\n",
        "v2"
      ],
      "metadata": {
        "id": "PSHjJsqRLTVm"
      },
      "execution_count": null,
      "outputs": []
    },
    {
      "cell_type": "code",
      "source": [
        "v1 == v2"
      ],
      "metadata": {
        "id": "hwcYDijjLZ94"
      },
      "execution_count": null,
      "outputs": []
    },
    {
      "cell_type": "code",
      "source": [
        "v1 < v2"
      ],
      "metadata": {
        "id": "kWJwBiJnLckA"
      },
      "execution_count": null,
      "outputs": []
    },
    {
      "cell_type": "code",
      "source": [
        "# Dá para comparar com um número só?\n",
        "v1 < 4\n",
        "v2 == 3"
      ],
      "metadata": {
        "id": "lQoPxtniMKIi"
      },
      "execution_count": null,
      "outputs": []
    },
    {
      "cell_type": "code",
      "source": [
        "# Exemplo um pouco mais prático\n",
        "idades <- c(17,20,32,83,11)\n",
        "idades\n",
        "# Quem pode votar?\n",
        "\n",
        "# Quem é obrigado a votar? Dica: use conectores lógicos!\n"
      ],
      "metadata": {
        "id": "Ak27MfRpMOh0"
      },
      "execution_count": null,
      "outputs": []
    },
    {
      "cell_type": "markdown",
      "source": [
        "## Fatiando vetores\n",
        "Em Python, `v[1:7]` mostra os elementos 1 a 6 do iterável `v`. Em R?\n",
        "\n",
        "Quase a mesma coisa. Ele mostra os elementos 1 a **7** do vetor `v`.\n",
        "\n",
        "Também podemos colocar qualquer sequência de índices (um vetor!) dentro dos colchetes.\n",
        "\n",
        "Veja os exemplos a seguir."
      ],
      "metadata": {
        "id": "cY2kVUNoNMQJ"
      }
    },
    {
      "cell_type": "code",
      "source": [
        "v <- 1:10\n",
        "# Fatiando v\n",
        "# Quero os três primeiros elementos. Como faço?\n"
      ],
      "metadata": {
        "id": "YCqdEIxJNFPz"
      },
      "execution_count": null,
      "outputs": []
    },
    {
      "cell_type": "code",
      "source": [
        "# E os três últimos?\n"
      ],
      "metadata": {
        "id": "5kQ-_wkdOV-e"
      },
      "execution_count": null,
      "outputs": []
    },
    {
      "cell_type": "code",
      "source": [
        "# Os de índices 2, 3, 5 e 7?\n"
      ],
      "metadata": {
        "id": "yfUPZN0kOYlv"
      },
      "execution_count": null,
      "outputs": []
    },
    {
      "cell_type": "code",
      "source": [
        "# Em ordem invertida?\n"
      ],
      "metadata": {
        "id": "Vr1muvWdOdcU"
      },
      "execution_count": null,
      "outputs": []
    },
    {
      "cell_type": "code",
      "source": [
        "# Os de índice 3, 1, 4, 1, 5, 9, 2, nessa ordem?\n"
      ],
      "metadata": {
        "id": "m6AoirTcOgjl"
      },
      "execution_count": null,
      "outputs": []
    },
    {
      "cell_type": "markdown",
      "source": [
        "## Posso colocar nomes nos índices?\n",
        "Sim! Use a função `names(v)` para nomear os índices!"
      ],
      "metadata": {
        "id": "vMauqe9qOpVF"
      }
    },
    {
      "cell_type": "code",
      "source": [
        "ends <- c(\"Vergueiro, 1951\", \"Apeninos, 960\", \"Vergueiro, 1549\")\n",
        "ends"
      ],
      "metadata": {
        "id": "jCvlmZ1pO0lf"
      },
      "execution_count": null,
      "outputs": []
    },
    {
      "cell_type": "code",
      "source": [
        "names(ends) <- c(\"Ana Rosa\", \"Paraíso 1\", \"Paraíso 2\")\n",
        "ends"
      ],
      "metadata": {
        "id": "KOLZrKxeQAQZ"
      },
      "execution_count": null,
      "outputs": []
    },
    {
      "cell_type": "code",
      "source": [
        "ends[1]"
      ],
      "metadata": {
        "id": "Ek6A7VVUQH5c"
      },
      "execution_count": null,
      "outputs": []
    },
    {
      "cell_type": "code",
      "source": [
        "ends[\"Ana Rosa\"]"
      ],
      "metadata": {
        "id": "pOh-Hs2xQJAf"
      },
      "execution_count": null,
      "outputs": []
    },
    {
      "cell_type": "code",
      "source": [
        "v <- c(1,2,3)\n",
        "names(v) <- c(\"um\", \"dois\", \"três\")\n",
        "v"
      ],
      "metadata": {
        "id": "H7L-l_ufQQWl"
      },
      "execution_count": null,
      "outputs": []
    },
    {
      "cell_type": "code",
      "source": [
        "class(v)"
      ],
      "metadata": {
        "id": "dPT_QWaqQXho"
      },
      "execution_count": null,
      "outputs": []
    }
  ]
}