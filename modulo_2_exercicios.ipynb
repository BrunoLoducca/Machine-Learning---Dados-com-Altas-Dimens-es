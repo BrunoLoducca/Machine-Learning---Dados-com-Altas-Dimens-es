{
  "nbformat": 4,
  "nbformat_minor": 0,
  "metadata": {
    "colab": {
      "name": "modulo_2_exercicios.ipynb",
      "provenance": [],
      "collapsed_sections": [],
      "include_colab_link": true
    },
    "kernelspec": {
      "name": "python3",
      "display_name": "Python 3"
    }
  },
  "cells": [
    {
      "cell_type": "markdown",
      "metadata": {
        "id": "view-in-github",
        "colab_type": "text"
      },
      "source": [
        "<a href=\"https://colab.research.google.com/github/BrunoLoducca/Machine-Learning---Dados-com-Altas-Dimens-es/blob/main/modulo_2_exercicios.ipynb\" target=\"_parent\"><img src=\"https://colab.research.google.com/assets/colab-badge.svg\" alt=\"Open In Colab\"/></a>"
      ]
    },
    {
      "cell_type": "markdown",
      "metadata": {
        "id": "KJqp9AANOCtf"
      },
      "source": [
        "<img src=\"https://raw.githubusercontent.com/andre-marcos-perez/ebac-course-utils/main/media/logo/newebac_logo_black_half.png\" alt=\"ebac-logo\">\n",
        "\n",
        "---\n",
        "\n",
        "# **Módulo 02** | Python: Estruturas de Dados\n",
        "Caderno de **Exercícios**<br> \n",
        "Professor [André Perez](https://www.linkedin.com/in/andremarcosperez/)\n",
        "\n",
        "---"
      ]
    },
    {
      "cell_type": "markdown",
      "metadata": {
        "id": "d9jDtUbDOE1-"
      },
      "source": [
        "# **Tópicos**\n",
        "\n",
        "<ol type=\"1\">\n",
        "  <li>Listas;</li>\n",
        "  <li>Conjuntos;</li>\n",
        "  <li>Dicionários.</li>\n",
        "</ol>"
      ]
    },
    {
      "cell_type": "markdown",
      "metadata": {
        "id": "SmoHgt-lwkpD"
      },
      "source": [
        "---"
      ]
    },
    {
      "cell_type": "markdown",
      "metadata": {
        "id": "GABI6OW8OfQ2"
      },
      "source": [
        "# **Exercícios**"
      ]
    },
    {
      "cell_type": "markdown",
      "metadata": {
        "id": "muD1vxozykSC"
      },
      "source": [
        "## 1\\. Listas"
      ]
    },
    {
      "cell_type": "markdown",
      "metadata": {
        "id": "ahrFfCuBxJKs"
      },
      "source": [
        "Criei uma lista chamada `filmes` com o nome dos 10 primeiros filmes mais bem avaliados no site no [IMDB](https://www.imdb.com/chart/top/). Imprima o resultado."
      ]
    },
    {
      "cell_type": "code",
      "metadata": {
        "id": "OgL6Hv3bzOHI"
      },
      "source": [
        "filmes = [\"Um sonho de liberdade\", \n",
        "          \"O poderoso chefão\", \n",
        "          \"Batman: O cavaleiro das trevas\", \n",
        "          \"O poderoso chefão II\", \n",
        "          \"Homens e uma sentença\", \n",
        "          \"A lista de Schindler\", \n",
        "          \"O senhor dos anéis: O retorno do rei\", \n",
        "          \"Pulp Fiction\", \n",
        "          \"O senhor dos anéis: a sociedade do anel\", \n",
        "          \"Forrest Gump: O contador de histórias\"]"
      ],
      "execution_count": 1,
      "outputs": []
    },
    {
      "cell_type": "markdown",
      "metadata": {
        "id": "KI9zQRT2xa7m"
      },
      "source": [
        "Simule a movimentação do *ranking*. Utilize os métodos `insert` e `pop` para trocar a posição do primeiro e do segundo filme da lista. Imprima o resultado.\n",
        "\n"
      ]
    },
    {
      "cell_type": "code",
      "metadata": {
        "id": "zX3mA3_GzrXH",
        "colab": {
          "base_uri": "https://localhost:8080/"
        },
        "outputId": "0b2f3a6d-75d9-4074-8935-a4bcafbf13e3"
      },
      "source": [
        "filmes.insert(0,\"A origem\")\n",
        "\n",
        "print(filmes)"
      ],
      "execution_count": 3,
      "outputs": [
        {
          "output_type": "stream",
          "name": "stdout",
          "text": [
            "['A origem', 'A origem', 'Um sonho de liberdade', 'O poderoso chefão', 'Batman: O cavaleiro das trevas', 'O poderoso chefão II', 'Homens e uma sentença', 'A lista de Schindler', 'O senhor dos anéis: O retorno do rei', 'Pulp Fiction', 'O senhor dos anéis: a sociedade do anel', 'Forrest Gump: O contador de histórias']\n"
          ]
        }
      ]
    },
    {
      "cell_type": "markdown",
      "metadata": {
        "id": "zMN1Q3jdwoJm"
      },
      "source": [
        "---"
      ]
    },
    {
      "cell_type": "code",
      "source": [
        "exlcuindo_filmes = filmes.pop(1)\n",
        "\n",
        "print(filmes)"
      ],
      "metadata": {
        "colab": {
          "base_uri": "https://localhost:8080/"
        },
        "id": "OO_0if_Hlyia",
        "outputId": "689ed253-e542-49f6-a964-cfaae0147d06"
      },
      "execution_count": 4,
      "outputs": [
        {
          "output_type": "stream",
          "name": "stdout",
          "text": [
            "['A origem', 'Um sonho de liberdade', 'O poderoso chefão', 'Batman: O cavaleiro das trevas', 'O poderoso chefão II', 'Homens e uma sentença', 'A lista de Schindler', 'O senhor dos anéis: O retorno do rei', 'Pulp Fiction', 'O senhor dos anéis: a sociedade do anel', 'Forrest Gump: O contador de histórias']\n"
          ]
        }
      ]
    },
    {
      "cell_type": "code",
      "source": [
        "exlcuindo_filmes = filmes.pop(1)\n",
        "\n",
        "filmes.insert(0, \"Um sonho de liberdade\")\n",
        "\n",
        "print(filmes)"
      ],
      "metadata": {
        "colab": {
          "base_uri": "https://localhost:8080/"
        },
        "id": "bKgkB1dumNtG",
        "outputId": "e8f256c8-5d29-43b6-9ce5-a1d8fab54bb5"
      },
      "execution_count": 5,
      "outputs": [
        {
          "output_type": "stream",
          "name": "stdout",
          "text": [
            "['Um sonho de liberdade', 'A origem', 'O poderoso chefão', 'Batman: O cavaleiro das trevas', 'O poderoso chefão II', 'Homens e uma sentença', 'A lista de Schindler', 'O senhor dos anéis: O retorno do rei', 'Pulp Fiction', 'O senhor dos anéis: a sociedade do anel', 'Forrest Gump: O contador de histórias']\n"
          ]
        }
      ]
    },
    {
      "cell_type": "markdown",
      "metadata": {
        "id": "lxa5L6uF0ZJE"
      },
      "source": [
        "## 2\\. Conjuntos"
      ]
    },
    {
      "cell_type": "markdown",
      "metadata": {
        "id": "9JahS2Kj0d5u"
      },
      "source": [
        "Aconteceu um erro no seu *ranking*. Simule a duplicação dos três últimos filmes da lista. Imprima o resultado."
      ]
    },
    {
      "cell_type": "code",
      "metadata": {
        "id": "BnjnLBNC6PGe",
        "colab": {
          "base_uri": "https://localhost:8080/"
        },
        "outputId": "2864e838-83e8-4fd6-cc08-904dc42c1fb4"
      },
      "source": [
        "filmes.append(\"Pulp Fiction\")\n",
        "filmes.append(\"O senhor dos anéis: a sociedade do anel\")\n",
        "filmes.append(\"Forrest Gump: O contador de histórias\")\n",
        "\n",
        "print(filmes)"
      ],
      "execution_count": 6,
      "outputs": [
        {
          "output_type": "stream",
          "name": "stdout",
          "text": [
            "['Um sonho de liberdade', 'A origem', 'O poderoso chefão', 'Batman: O cavaleiro das trevas', 'O poderoso chefão II', 'Homens e uma sentença', 'A lista de Schindler', 'O senhor dos anéis: O retorno do rei', 'Pulp Fiction', 'O senhor dos anéis: a sociedade do anel', 'Forrest Gump: O contador de histórias', 'Pulp Fiction', 'O senhor dos anéis: a sociedade do anel', 'Forrest Gump: O contador de histórias']\n"
          ]
        }
      ]
    },
    {
      "cell_type": "markdown",
      "metadata": {
        "id": "suxTfCJB6ZiX"
      },
      "source": [
        "Utiliza a conversão `set` e `list` para remover os valores duplicados. Imprima o resultado. "
      ]
    },
    {
      "cell_type": "code",
      "metadata": {
        "id": "ZvUGN-0n6joM",
        "colab": {
          "base_uri": "https://localhost:8080/"
        },
        "outputId": "f654c9ad-32d8-4a97-d900-b5f71dcdcc76"
      },
      "source": [
        "filmes_corregidos = list(set(filmes))\n",
        "print(filmes_corregidos)"
      ],
      "execution_count": 7,
      "outputs": [
        {
          "output_type": "stream",
          "name": "stdout",
          "text": [
            "['O poderoso chefão II', 'O senhor dos anéis: O retorno do rei', 'A origem', 'Homens e uma sentença', 'O senhor dos anéis: a sociedade do anel', 'Batman: O cavaleiro das trevas', 'A lista de Schindler', 'Pulp Fiction', 'Um sonho de liberdade', 'O poderoso chefão', 'Forrest Gump: O contador de histórias']\n"
          ]
        }
      ]
    },
    {
      "cell_type": "markdown",
      "metadata": {
        "id": "ShkK35eQ6pAM"
      },
      "source": [
        "---"
      ]
    },
    {
      "cell_type": "markdown",
      "metadata": {
        "id": "EL_FzmxL6rTv"
      },
      "source": [
        "## 3\\. Dicionários"
      ]
    },
    {
      "cell_type": "markdown",
      "metadata": {
        "id": "i8l0gFqRCpfT"
      },
      "source": [
        "Repita os exercícios da parte 1 (listas). Os elementos da lista `filmes` devem ser dicionários no seguinte formato: `{'nome': <nome-do-filme>, 'ano': <ano do filme>}, 'sinopse': <sinopse do filme>}`. "
      ]
    },
    {
      "cell_type": "code",
      "source": [
        "filmes = {\"Um sonho de liberdade\": \n",
        "          {\"ano\": 1994, \"sinopse\": \"<sinopse do filme>\"},  \n",
        "          \"O poderoso chefão\":{\"ano\": 1972, \"sinopse\": \"<sinopse do filme>\"},\n",
        "          \"Batman: O cavaleiro das trevas\": {\"ano\": 2008, \"sinopse\": \"<sinopse do filme>\"},\n",
        "          \"O poderoso chefão II\": {\"ano\": 1974, \"sinopse\": \"<sinopse do filme>\"}, \n",
        "          \"12 homens e uma sentençã\":{\"ano\":1957, \"sinopse\": \"<sinopse do filme>\"}, \n",
        "          \"A lista de Schindler\":{\"ano\":1993, \"sinopse\": \"<sinopse do filme>\"}, \n",
        "          \"O senhor dos anéis: O retorno do rei\":{\"ano\":2003, \"sinopse\": \"<sinopse do filme>\"},\n",
        "          \"Pulp Fiction\":{\"ano\":1957, \"sinopse\": \"<sinopse do filme>\"}, \n",
        "          \"O senhor dos anéis: A sociedade do anel\":{\"ano\":2001, \"sinopse\": \"<sinopse do filme>\"}, \n",
        "          \"Forrest Gump: O contador de histórias\":{\"ano\":1957, \"sinopse\": \"<sinopse do filme>\"}}\n",
        "\n",
        "print(filmes)\n",
        "\n",
        "\n"
      ],
      "metadata": {
        "colab": {
          "base_uri": "https://localhost:8080/"
        },
        "id": "qyapWuUFnEYQ",
        "outputId": "2e50be68-bea4-431e-b5f1-7853753d6eef"
      },
      "execution_count": 10,
      "outputs": [
        {
          "output_type": "stream",
          "name": "stdout",
          "text": [
            "{'Um sonho de liberdade': {'ano': 1994, 'sinopse': '<sinopse do filme>'}, 'O poderoso chefão': {'ano': 1972, 'sinopse': '<sinopse do filme>'}, 'Batman: O cavaleiro das trevas': {'ano': 2008, 'sinopse': '<sinopse do filme>'}, 'O poderoso chefão II': {'ano': 1974, 'sinopse': '<sinopse do filme>'}, '12 homens e uma sentençã': {'ano': 1957, 'sinopse': '<sinopse do filme>'}, 'A lista de Schindler': {'ano': 1993, 'sinopse': '<sinopse do filme>'}, 'O senhor dos anéis: O retorno do rei': {'ano': 2003, 'sinopse': '<sinopse do filme>'}, 'Pulp Fiction': {'ano': 1957, 'sinopse': '<sinopse do filme>'}, 'O senhor dos anéis: A sociedade do anel': {'ano': 2001, 'sinopse': '<sinopse do filme>'}, 'Forrest Gump: O contador de histórias': {'ano': 1957, 'sinopse': '<sinopse do filme>'}}\n"
          ]
        }
      ]
    },
    {
      "cell_type": "code",
      "source": [],
      "metadata": {
        "id": "CKoSPRoBpJj8"
      },
      "execution_count": null,
      "outputs": []
    }
  ]
}