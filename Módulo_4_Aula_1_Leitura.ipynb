{
  "nbformat": 4,
  "nbformat_minor": 0,
  "metadata": {
    "colab": {
      "provenance": [],
      "authorship_tag": "ABX9TyOgUEW1rddQNRtZQg4w9oEG",
      "include_colab_link": true
    },
    "kernelspec": {
      "name": "python3",
      "display_name": "Python 3"
    },
    "language_info": {
      "name": "python"
    }
  },
  "cells": [
    {
      "cell_type": "markdown",
      "metadata": {
        "id": "view-in-github",
        "colab_type": "text"
      },
      "source": [
        "<a href=\"https://colab.research.google.com/github/BrunoLoducca/Machine-Learning---Dados-com-Altas-Dimens-es/blob/main/M%C3%B3dulo_4_Aula_1_Leitura.ipynb\" target=\"_parent\"><img src=\"https://colab.research.google.com/assets/colab-badge.svg\" alt=\"Open In Colab\"/></a>"
      ]
    },
    {
      "cell_type": "code",
      "execution_count": 3,
      "metadata": {
        "colab": {
          "base_uri": "https://localhost:8080/"
        },
        "id": "1N92_rgF34E0",
        "outputId": "2d585f14-558d-45de-ebe8-299ecb51ee80"
      },
      "outputs": [
        {
          "output_type": "stream",
          "name": "stdout",
          "text": [
            "Tinho\n"
          ]
        }
      ],
      "source": [
        "name = \"Tinho\"\n",
        "print(name)"
      ]
    },
    {
      "cell_type": "code",
      "source": [
        "type(name)"
      ],
      "metadata": {
        "colab": {
          "base_uri": "https://localhost:8080/"
        },
        "id": "c4Uhw_O838AL",
        "outputId": "8ef341eb-5f77-438e-b806-033060fa0fb3"
      },
      "execution_count": 4,
      "outputs": [
        {
          "output_type": "execute_result",
          "data": {
            "text/plain": [
              "str"
            ]
          },
          "metadata": {},
          "execution_count": 4
        }
      ]
    },
    {
      "cell_type": "code",
      "source": [
        "# função que gera um banco de dados qualquer\n",
        "# a partir da máquina provisionada pelo google\n",
        "\n",
        "%%writefile banco.csv"
      ],
      "metadata": {
        "colab": {
          "base_uri": "https://localhost:8080/"
        },
        "id": "eCQ2327v4MQW",
        "outputId": "e706c80e-ca19-4189-c446-76c29922846b"
      },
      "execution_count": 7,
      "outputs": [
        {
          "output_type": "stream",
          "name": "stdout",
          "text": [
            "Overwriting banco.csv\n"
          ]
        }
      ]
    },
    {
      "cell_type": "markdown",
      "source": [
        "# Leitura\n"
      ],
      "metadata": {
        "id": "m3LblUUh9M9r"
      }
    },
    {
      "cell_type": "markdown",
      "source": [
        "**Comando para ler todo o conteúdo (Read):**\n",
        "\n",
        "Para ler um arquivo, temos que antes abri-lo, na medida que fazemos isso por meio da função nativa do python *with open*, a qual como seus parâmetros devemos passar:\n",
        "\n",
        "*   a localização de onde se encontra o arquivo;\n",
        "\n",
        "*   o modo que queremos abri-lo, quer seja para leitura ou escrita\n",
        "(aqui será para leitura e, por isso, coloca-se o \"r\", que vem de read);\n",
        "\n",
        "*  decodificação, por meio do encoding, que normalmente passa-se o\n",
        "valor \"utf8\" para esse parâmetro, já que ele, de forma geral, apresenta uma boa capacidade de decodificação.\n",
        "\n",
        "Depois de passado os parâmetros da função with open, podemos apelidar o arquivo que estaremos abrindo, que, no caso, estarei chamando justamente de arquivo. Eu posso reparar que dentro dessa função eu estou dizendo para a variável conteúdo armazenar a leitura, a partir da função *read()*, do arquivo."
      ],
      "metadata": {
        "id": "QWUofGeu9TCS"
      }
    },
    {
      "cell_type": "code",
      "source": [
        "conteudo = None\n",
        "\n",
        "with open(file=\"./banco.csv\", mode=\"r\", encoding=\"utf8\") as arquivo:\n",
        "  conteudo = arquivo.read()\n",
        "\n",
        "print(conteudo)"
      ],
      "metadata": {
        "colab": {
          "base_uri": "https://localhost:8080/"
        },
        "id": "qYDPZDol9SXm",
        "outputId": "1f915451-d859-4b8f-9d7e-a295856d266a"
      },
      "execution_count": 9,
      "outputs": [
        {
          "output_type": "stream",
          "name": "stdout",
          "text": [
            " \n"
          ]
        }
      ]
    },
    {
      "cell_type": "markdown",
      "source": [
        "**Comando para ler linha a linha (readline) :**\n",
        "\n",
        "Diferente do read(), o comando readline(), é usado para se ler arquivos que sejam considerados grandes, os quais são, em média, maior ou igual a 200 megas. O redline consegue ler arquivos, porque ele não os lê por inteiro, mas, como seu nome indica, linha a linha.\n",
        "\n"
      ],
      "metadata": {
        "id": "fzxtRWFvBqLY"
      }
    },
    {
      "cell_type": "code",
      "source": [
        "conteudo = []\n",
        "\n",
        "with open(file=\"./banco.csv\", mode=\"r\", encoding=\"utf8\") as arquivo:\n",
        "  linha = arquivo.readline() # Aqui estou lendo a primeira linha.\n",
        "\n",
        "  while linha:\n",
        "    conteudo.append(linha)\n",
        "    linha = arquivo.readline() # Aqui estarei completando o laço while, que, terá fim, ao ler a última linha\n",
        "                               # a qual trará um valor vazio \"None\"."
      ],
      "metadata": {
        "id": "foBZcqy370Ip"
      },
      "execution_count": null,
      "outputs": []
    },
    {
      "cell_type": "markdown",
      "source": [],
      "metadata": {
        "id": "UKySMaE9Bg4C"
      }
    }
  ]
}